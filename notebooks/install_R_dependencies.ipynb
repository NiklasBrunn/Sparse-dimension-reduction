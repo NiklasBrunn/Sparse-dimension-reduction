{
 "cells": [
  {
   "cell_type": "markdown",
   "metadata": {},
   "source": [
    "# Guide to install required R packages\n",
    "\n",
    "Run the below cell to install the `R` packages required to run the Jupyter notebooks that interact with R. Note that interactions with R are not required for the tutorial notebook with the simulated data."
   ]
  },
  {
   "cell_type": "code",
   "execution_count": null,
   "metadata": {},
   "outputs": [],
   "source": [
    "#---Activate the enviroment:\n",
    "using Pkg;\n",
    "\n",
    "Pkg.activate(\"../\");\n",
    "Pkg.instantiate();\n",
    "Pkg.status()\n",
    "\n",
    "\n",
    "#---Install the required packages via Julia using RCall:\n",
    "using RCall;\n",
    "\n",
    "R\"\"\"\n",
    "# Set the CRAN mirror\n",
    "options(repos = c(CRAN = \"https://cloud.r-project.org\"))\n",
    "\n",
    "install.packages(c(\"Seurat\", \"SeuratData\", \"SeuratWrapper\"))\n",
    "library(devtools)\n",
    "install_github('msraredon/NICHES', ref = 'master')\n",
    "\"\"\""
   ]
  }
 ],
 "metadata": {
  "kernelspec": {
   "display_name": "Julia 1.9.3",
   "language": "julia",
   "name": "julia-1.9"
  },
  "language_info": {
   "file_extension": ".jl",
   "mimetype": "application/julia",
   "name": "julia",
   "version": "1.9.3"
  }
 },
 "nbformat": 4,
 "nbformat_minor": 2
}
