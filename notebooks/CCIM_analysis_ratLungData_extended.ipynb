{
 "cells": [
  {
   "cell_type": "markdown",
   "metadata": {},
   "source": [
    "# Setup"
   ]
  },
  {
   "cell_type": "code",
   "execution_count": null,
   "metadata": {},
   "outputs": [],
   "source": [
    "#---Activate the enviroment:\n",
    "using Pkg;\n",
    "\n",
    "Pkg.activate(\"../\");\n",
    "Pkg.instantiate();\n",
    "Pkg.status()\n",
    "\n",
    "#---Load CCIM rat lung data computed by NICHES:\n",
    "projectpath = joinpath(@__DIR__, \"../\"); \n",
    "datapath = projectpath * \"data/rat_extended/\"\n",
    "if !isdir(datapath)\n",
    "    # Create the folder if it does not exist\n",
    "    mkdir(datapath)\n",
    "end\n",
    "figurespath = projectpath * \"figures/rat_extended/\"\n",
    "if !isdir(figurespath)\n",
    "    # Create the folder if it does not exist\n",
    "    mkdir(figurespath)\n",
    "end\n",
    "\n",
    "#---Load the BoostingAutoEncoder module:\n",
    "include(projectpath * \"/src/BAE.jl\");\n",
    "using .BoostingAutoEncoder\n",
    "\n",
    "#---Load required packages for this notebook:\n",
    "using RCall;\n",
    "using DelimitedFiles;\n",
    "using Plots;\n",
    "using Random;\n",
    "using StatsBase;\n",
    "using VegaLite;  \n",
    "using DataFrames;\n",
    "using StatsPlots;"
   ]
  },
  {
   "cell_type": "markdown",
   "metadata": {},
   "source": [
    "# Load data and create CCIM"
   ]
  },
  {
   "cell_type": "code",
   "execution_count": null,
   "metadata": {},
   "outputs": [],
   "source": [
    "#---Download a subset of the example rat lung data from \"https://zenodo.org/record/6846618/files/raredon_2019_rat.Robj\" and save it to the data directory:\n",
    "X_alra, tSNE_embeddings, celltypes, genenames = load_rat_scRNAseq_data(; data_path=datapath, transfer_data=true, assay=\"alra\");\n",
    "df_Rat = DataFrame(X_alra, :auto); \n",
    "rename!(df_Rat, Symbol.(genenames));\n",
    "\n",
    "#---Run NICHES on scRNA-seq data:\n",
    "filepath_expData = datapath * \"Rat_Seurat_sub.rds\";\n",
    "run_NICHES_wrapper(filepath_expData; data_path=datapath, assay=\"alra\", species=\"rat\");\n",
    "\n",
    "#---Load the NICHES CCIM and MetaData:\n",
    "filepath_CCIM = datapath * \"NICHES_CellToCell.rds\";\n",
    "CCIM, CCIM_st, MD = load_CCIM_CtC(filepath_CCIM); #CellToCell\n",
    "\n",
    "#---Plot the tSNE embedding of the representation of cells colored by cell type:\n",
    "if !isdir(figurespath * \"/scData_FeaturePlots\")\n",
    "    # Create the folder if it does not exist\n",
    "    mkdir(figurespath * \"/scData_FeaturePlots\")\n",
    "end\n",
    "figurespath_scData = figurespath * \"/scData_FeaturePlots/\"\n",
    "vegascatterplot(tSNE_embeddings, celltypes; \n",
    "    path=figurespath * \"scData_Celltype_tSNE.png\",\n",
    "    legend_title=\"Cell type\",\n",
    "    color_field=\"labels:o\",\n",
    "    scheme=\"category10\",\n",
    "    domain_mid=nothing,\n",
    "    range=nothing,\n",
    "    save_plot=true,\n",
    "    marker_size=\"10\"\n",
    ")"
   ]
  },
  {
   "cell_type": "markdown",
   "metadata": {},
   "source": [
    "# Analyze CCIM patterns in rat lung data with the BAE"
   ]
  },
  {
   "cell_type": "code",
   "execution_count": null,
   "metadata": {},
   "outputs": [],
   "source": [
    "#---Define hyperparameters for training a BAE:\n",
    "HP = Hyperparameters(zdim=30, n_runs=1, max_iter=2000, tol=1e-5, batchsize=2^12, η=0.01, λ=0.1, ϵ=0.001, M=1); \n",
    "\n",
    "#---Define the decoder architecture:\n",
    "n_cellpairs, p = size(CCIM_st);\n",
    "decoder = generate_BAEdecoder(p, HP; soft_clustering=true); \n",
    "\n",
    "#---Initialize the BAE model:\n",
    "BAE = BoostingAutoencoder(; coeffs=zeros(eltype(CCIM_st), p, HP.zdim), decoder=decoder, HP=HP);\n",
    "summary(BAE)"
   ]
  },
  {
   "cell_type": "code",
   "execution_count": null,
   "metadata": {},
   "outputs": [],
   "source": [
    "#---Train the BAE model:\n",
    "@time begin\n",
    "     output_dict = train_BAE!(CCIM_st, BAE; MD=MD, track_coeffs=true, save_data=true, data_path=datapath); \n",
    "end"
   ]
  },
  {
   "cell_type": "code",
   "execution_count": null,
   "metadata": {},
   "outputs": [],
   "source": [
    "#---Plot the mean trainloss per epoch:\n",
    "mean_trainlossPerEpoch = output_dict[\"trainloss\"];\n",
    "loss_plot = plot(1:length(mean_trainlossPerEpoch), mean_trainlossPerEpoch,\n",
    "     title = \"Mean train loss per epoch\",\n",
    "     xlabel = \"Epoch\",\n",
    "     ylabel = \"Loss\",\n",
    "     legend = true,\n",
    "     label = \"Train loss\",\n",
    "     linecolor = :red,\n",
    "     linewidth = 2\n",
    ");\n",
    "savefig(loss_plot, figurespath * \"/Trainloss_BAE.png\");\n",
    "loss_plot"
   ]
  },
  {
   "cell_type": "code",
   "execution_count": null,
   "metadata": {},
   "outputs": [],
   "source": [
    "#---Plot the Sparsity score per epoch:\n",
    "sparsity_level = output_dict[\"sparsity\"];\n",
    "loss_plot = plot(1:length(sparsity_level), sparsity_level,\n",
    "     title = \"Sparsity level per epoch\",\n",
    "     xlabel = \"Epoch\",\n",
    "     ylabel = \"Sparsity\",\n",
    "     legend = true,\n",
    "     label = \"Sparsity\",\n",
    "     linecolor = :orange,\n",
    "     linewidth = 2\n",
    ");\n",
    "savefig(loss_plot, figurespath * \"/Sparsity_BAE.png\");\n",
    "loss_plot"
   ]
  },
  {
   "cell_type": "code",
   "execution_count": null,
   "metadata": {},
   "outputs": [],
   "source": [
    "#---Plot the disentanglement score per epoch:\n",
    "entanglement_score = output_dict[\"entanglement\"];\n",
    "loss_plot = plot(1:length(entanglement_score), entanglement_score,\n",
    "     title = \"Entanglement score per epoch\",\n",
    "     xlabel = \"Epoch\",\n",
    "     ylabel = \"Entanglement of dimensions\",\n",
    "     legend = true,\n",
    "     label = \"Entanglement\",\n",
    "     linecolor = :orange,\n",
    "     linewidth = 2\n",
    ");\n",
    "savefig(loss_plot, figurespath * \"/Entanglement_BAE.png\");\n",
    "loss_plot"
   ]
  },
  {
   "cell_type": "code",
   "execution_count": null,
   "metadata": {},
   "outputs": [],
   "source": [
    "#---Plot the clustering score per epoch:\n",
    "clustering_score = output_dict[\"clustering\"];\n",
    "loss_plot = plot(1:length(clustering_score), clustering_score,\n",
    "     title = \"Clustering score per epoch\",\n",
    "     xlabel = \"Epoch\",\n",
    "     ylabel = \"Clustering score\",\n",
    "     legend = true,\n",
    "     label = \"Score\",\n",
    "     linecolor = :orange,\n",
    "     linewidth = 2\n",
    ");\n",
    "savefig(loss_plot, figurespath * \"/ClusteringScore_BAE.png\");\n",
    "loss_plot"
   ]
  },
  {
   "cell_type": "markdown",
   "metadata": {},
   "source": [
    "# Result visualization"
   ]
  },
  {
   "cell_type": "code",
   "execution_count": null,
   "metadata": {},
   "outputs": [],
   "source": [
    "#----Compute 2D UMAP embedding of the learned BAE latent representation and add to the metadata:\n",
    "BAE.UMAP = generate_umap(BAE.Z'); \n",
    "MD.obs_df[!, :UMAP1] = BAE.UMAP[:, 1];\n",
    "MD.obs_df[!, :UMAP2] = BAE.UMAP[:, 2];\n",
    "\n",
    "#---Randomly shuffle the observation indices for plotting:\n",
    "rand_inds = shuffle(1:n_cellpairs);\n",
    "MD.obs_df = MD.obs_df[rand_inds, :];\n",
    "\n",
    "#---Generate distinct colors:\n",
    "n_cols = 2*BAE.HP.zdim; \n",
    "custom_colorscheme = [hsl_to_hex(i / n_cols, 0.7, 0.5 + 0.1 * sin(i * 4π / BAE.HP.zdim)) for i in 1:n_cols]; \n",
    "custom_colorscheme_shuffled = shuffle(custom_colorscheme);\n",
    "\n",
    "#---Set color ranges for scatter plots (one for dark and one for light backgrounds):\n",
    "#For dark backgrounds:\n",
    "color_range_dark = [\n",
    "    \"#fff5f5\", \"#ffe0e0\", \"#ffcccc\", \"#ffb8b8\", \"#ffa3a3\", \"#ff8f8f\", \"#ff7a7a\", \"#ff6666\",\n",
    "    \"#ff5252\", \"#ff3d3d\", \"#ff2929\", \"#ff1414\", \"#ff0000\", \"#e50000\", \"#cc0000\", \"#b20000\",\n",
    "    \"#990000\", \"#7f0000\", \"#660000\", \"#4c0000\", \"#330000\"\n",
    "];\n",
    "#For light backgrounds:\n",
    "color_range_light = [\n",
    "    \"#000000\", \"#220022\", \"#440044\", \"#660066\", \"#880088\", \"#aa00aa\", \"#cc00cc\", \"#ee00ee\",\n",
    "    \"#ff00ff\", \"#ff19ff\", \"#ff33ff\", \"#ff4cff\", \"#ff66ff\", \"#ff7fff\", \"#ff99ff\", \"#ffb2ff\",\n",
    "    \"#ffccff\", \"#ffe5ff\", \"#ffccf5\", \"#ff99eb\", \"#ff66e0\"\n",
    "];"
   ]
  },
  {
   "cell_type": "code",
   "execution_count": null,
   "metadata": {},
   "outputs": [],
   "source": [
    "#---Create scatter plots of the top selected genes per latent dimension:\n",
    "if !isdir(figurespath * \"/TopFeaturesLatentDim\")\n",
    "    # Create the folder if it does not exist\n",
    "    mkdir(figurespath * \"/TopFeaturesLatentDim\")\n",
    "end\n",
    "for dim in 1:BAE.HP.zdim\n",
    "    Featurescatter_plot = normalizedFeatures_scatterplot(BAE.coeffs[:, dim], MD.featurename, dim; top_n=10)\n",
    "    savefig(Featurescatter_plot, figurespath * \"/TopFeaturesLatentDim/\" * \"BAE_dim$(dim)_topInteractions.png\")\n",
    "end"
   ]
  },
  {
   "cell_type": "code",
   "execution_count": null,
   "metadata": {},
   "outputs": [],
   "source": [
    "#---Create scatter plots of the top selected genes per cluster:\n",
    "if !isdir(figurespath * \"/TopFeaturesCluster\")\n",
    "    # Create the folder if it does not exist\n",
    "    mkdir(figurespath * \"/TopFeaturesCluster\")\n",
    "end\n",
    "for key in keys(MD.Top_features)\n",
    "    if length(MD.Top_features[key].Scores) > 0\n",
    "        FeatureScatter_plot = TopFeaturesPerCluster_scatterplot(MD.Top_features[key], key; top_n=10)\n",
    "        savefig(FeatureScatter_plot, figurespath * \"/TopFeaturesCluster/\" * \"BAE_Cluster$(key)_Interactions.png\")\n",
    "    end\n",
    "end"
   ]
  },
  {
   "cell_type": "code",
   "execution_count": null,
   "metadata": {},
   "outputs": [],
   "source": [
    "#---Plot the absolute values of Pearson correlation coefficients between latent dimensions:\n",
    "vegaheatmap(abs.(cor(BAE.Z, dims=2)); \n",
    "    path=figurespath * \"cor_latentDimensions_BAE.png\", \n",
    "    Title=\"Absolute correlations of latent dimensions\",\n",
    "    xlabel=\"Latent dimension\", \n",
    "    ylabel=\"Latent dimension\",\n",
    "    legend_title=\"Value\",\n",
    "    scheme=\"orangered\",\n",
    "    domain_mid=nothing,\n",
    "    save_plot=true,\n",
    "    Width=500, \n",
    "    Height=500\n",
    ")"
   ]
  },
  {
   "cell_type": "code",
   "execution_count": null,
   "metadata": {},
   "outputs": [],
   "source": [
    "#---Plot the spearman correlation between the latent dimensions:\n",
    "vegaheatmap(abs.(corspearman(BAE.Z')); \n",
    "    path=figurespath * \"spearman_cor_latentDimensions_BAE.png\", \n",
    "    Title=\"Absolute Spearman rank correlations of latent dimensions\",\n",
    "    xlabel=\"Latent dimension\", \n",
    "    ylabel=\"Latent dimension\",\n",
    "    legend_title=\"Value\",\n",
    "    scheme=\"orangered\",\n",
    "    domain_mid=nothing,\n",
    "    save_plot=true,\n",
    "    Width=500, \n",
    "    Height=500\n",
    ")"
   ]
  },
  {
   "cell_type": "code",
   "execution_count": null,
   "metadata": {},
   "outputs": [],
   "source": [
    "#---Plot a heatmap of the cluster probabilities of cells:\n",
    "Cluster_df = DataFrame(BAE.Z_cluster[:, rand_inds]', :auto);\n",
    "Cluster_df[!, :Cluster] = copy(MD.obs_df.Cluster);\n",
    "sort!(Cluster_df, :Cluster);\n",
    "\n",
    "#ClusterProbabilities_plot = heatmap(Matrix(Cluster_df[:, 1:end-1]), ylabel=\"Cell\", title=\"Cluster probabilities\", color=:dense, xlabel=\"Cluster\", size=(700, 500));\n",
    "#savefig(ClusterProbabilities_plot, figurespath * \"/clusterProbabilities_BAE_plots.svg\");\n",
    "\n",
    "vegaheatmap(Matrix(Cluster_df[:, 1:end-1]); #!Currently does not work if zdim > 30 ... (in that case use the heatmap function from Plots.jl above)\n",
    "    path=figurespath * \"clusterProbabilities_BAE.png\", \n",
    "    Title=\"Cluster probabilities of cells\",\n",
    "    xlabel=\"Cluster\", \n",
    "    ylabel=\"Cell\",\n",
    "    legend_title=\"Probability\",\n",
    "    scheme=\"purpleblue\",\n",
    "    domain_mid=nothing,\n",
    "    save_plot=true\n",
    ")"
   ]
  },
  {
   "cell_type": "code",
   "execution_count": null,
   "metadata": {},
   "outputs": [],
   "source": [
    "#---Plot the UMAP embedding of the learned BAE latent representation of cell pairs colored by the sending-receiving type pair:\n",
    "vegascatterplot(Matrix(MD.obs_df[:, [:UMAP1, :UMAP2]]), MD.obs_df.CellTypePair; \n",
    "    path=figurespath * \"CellTypePair_(BAE)umap.png\",\n",
    "    legend_title=\"Sender-Receiver\",\n",
    "    color_field=\"labels:o\",\n",
    "    scheme=nothing,\n",
    "    domain_mid=nothing,\n",
    "    range=custom_colorscheme_shuffled,\n",
    "    save_plot=true,\n",
    "    marker_size=\"5\"\n",
    ")"
   ]
  },
  {
   "cell_type": "code",
   "execution_count": null,
   "metadata": {},
   "outputs": [],
   "source": [
    "#---Plot the UMAP embedding of the learned BAE latent representation colored by the cluster labels:\n",
    "vegascatterplot(Matrix(MD.obs_df[:, [:UMAP1, :UMAP2]]), MD.obs_df.Cluster; \n",
    "    path=figurespath * \"Cluster_(BAE)umap.png\",\n",
    "    legend_title=\"Cluster\",\n",
    "    color_field=\"labels:o\",\n",
    "    scheme=nothing,\n",
    "    domain_mid=nothing,\n",
    "    range=custom_colorscheme_shuffled,\n",
    "    save_plot=true,\n",
    "    marker_size=\"5\"\n",
    ")"
   ]
  },
  {
   "cell_type": "code",
   "execution_count": null,
   "metadata": {},
   "outputs": [],
   "source": [
    "#---Plot the UMAP embedding of the learned BAE latent representation colored by the sender cell types:\n",
    "vegascatterplot(Matrix(MD.obs_df[:, [:UMAP1, :UMAP2]]), MD.obs_df.SenderType; \n",
    "    path=figurespath * \"SenderType_(BAE)umap.png\",\n",
    "    legend_title=\"Sender\",\n",
    "    color_field=\"labels:o\",\n",
    "    scheme=nothing,\n",
    "    domain_mid=nothing,\n",
    "    range=custom_colorscheme[[1, 3, 14, 26, 31, 36, 42, 45, 53]],\n",
    "    save_plot=true,\n",
    "    marker_size=\"5\"\n",
    ")"
   ]
  },
  {
   "cell_type": "code",
   "execution_count": null,
   "metadata": {},
   "outputs": [],
   "source": [
    "#---Plot the UMAP embedding of the learned BAE latent representation colored by the sender cell types:\n",
    "vegascatterplot(Matrix(MD.obs_df[:, [:UMAP1, :UMAP2]]), MD.obs_df.ReceiverType; \n",
    "    path=figurespath * \"ReceiverType_(BAE)umap.png\",\n",
    "    legend_title=\"Receiver\",\n",
    "    color_field=\"labels:o\",\n",
    "    scheme=nothing,\n",
    "    domain_mid=nothing,\n",
    "    range=custom_colorscheme[[1, 3, 14, 26, 31, 36, 42, 45, 53]],\n",
    "    save_plot=true,\n",
    "    marker_size=\"5\"\n",
    ")"
   ]
  },
  {
   "cell_type": "code",
   "execution_count": null,
   "metadata": {},
   "outputs": [],
   "source": [
    "#---Create scatter plots of the UMAP embedding of the learned BAE latent representation colored by activations in different latent dimensions:\n",
    "if !isdir(figurespath * \"/UMAPplotsLatDims\")\n",
    "    # Create the folder if it does not exist\n",
    "    mkdir(figurespath * \"/UMAPplotsLatDims\")\n",
    "end\n",
    "create_colored_vegascatterplots(Matrix(MD.obs_df[:, [:UMAP1, :UMAP2]]), BAE.Z[:, rand_inds];\n",
    "    path=figurespath * \"/UMAPplotsLatDims/\",\n",
    "    filename=\"Rat_BAE_dim\",\n",
    "    filetype=\"scatter.png\",\n",
    "    legend_title=\"Activation\",\n",
    "    color_field=\"labels:q\",\n",
    "    scheme=\"blueorange\", \n",
    "    domain_mid=0,\n",
    "    range=nothing,\n",
    "    save_plot=true,\n",
    "    marker_size=\"10\"\n",
    ")"
   ]
  },
  {
   "cell_type": "code",
   "execution_count": null,
   "metadata": {},
   "outputs": [],
   "source": [
    "#---Create scatter plots of the UMAP embedding of the learned BAE latent representation colored by activations for different clusters:\n",
    "if !isdir(figurespath * \"/UMAPplotsCluster\")\n",
    "    # Create the folder if it does not exist\n",
    "    mkdir(figurespath * \"/UMAPplotsCluster\")\n",
    "end\n",
    "create_colored_vegascatterplots(Matrix(MD.obs_df[:, [:UMAP1, :UMAP2]]), BAE.Z_cluster[:, rand_inds];\n",
    "    path=figurespath * \"/UMAPplotsCluster/\",\n",
    "    filename=\"Rat_BAE_dim\",\n",
    "    filetype=\"scatter.png\",\n",
    "    legend_title=\"Activation\",\n",
    "    color_field=\"labels:q\",\n",
    "    scheme=nothing, \n",
    "    domain_mid=nothing,\n",
    "    range=color_range_light,\n",
    "    save_plot=true,\n",
    "    marker_size=\"10\"\n",
    ")"
   ]
  },
  {
   "cell_type": "code",
   "execution_count": null,
   "metadata": {},
   "outputs": [],
   "source": [
    "#---Create scatter plots of the UMAP embedding of the learned BAE latent representation colored by expression levels of top selected genes for different clusters:\n",
    "if !isdir(figurespath * \"/FeaturePlots\")\n",
    "    # Create the folder if it does not exist\n",
    "    mkdir(figurespath * \"/FeaturePlots\")\n",
    "end\n",
    "FeaturePlots(MD.Top_features, MD.featurename, CCIM[rand_inds, :], Matrix(MD.obs_df[:, [:UMAP1, :UMAP2]]); \n",
    "    top_n=5,\n",
    "    marker_size=\"10\", \n",
    "    fig_type=\".png\",\n",
    "    path=figurespath * \"/FeaturePlots/\",\n",
    "    legend_title=\"log1p\",\n",
    "    color_field=\"labels:q\",\n",
    "    scheme=nothing, \n",
    "    domain_mid=nothing,\n",
    "    range=color_range_light\n",
    ")"
   ]
  },
  {
   "cell_type": "code",
   "execution_count": null,
   "metadata": {},
   "outputs": [],
   "source": [
    "#---Create a coefficient plots for visually inspecting coefficient update trajectories for the last run of the training:\n",
    "if haskey(output_dict, \"coefficients\")\n",
    "    if !isdir(figurespath * \"/CoefficientsPlots\")\n",
    "        # Create the folder if it does not exist\n",
    "        mkdir(figurespath * \"/CoefficientsPlots\")\n",
    "    end\n",
    "    for dim in 1:BAE.HP.zdim\n",
    "        pl = track_coefficients(output_dict[\"coefficients\"], dim; iters=nothing, xscale=:log10)\n",
    "        savefig(pl, figurespath * \"/CoefficientsPlots/CoefficientsPlot_BAE_dim$(dim).png\")\n",
    "    end\n",
    "else \n",
    "    @warn \"No coefficient trajectories were saved during training.\"\n",
    "end"
   ]
  },
  {
   "cell_type": "code",
   "execution_count": null,
   "metadata": {},
   "outputs": [],
   "source": [
    "#---For the top 5 interactions per cluster, create scatter plots of the tSNE embedding of the rat scRNAseq data colored by the log1p-ALRA-expression of the top selected genes (i.e. ligand and receptor of each interaction):\n",
    "for cluster in 1:length(MD.Top_features)\n",
    "    n_topginteractions = 5;\n",
    "    topinteractions = MD.Top_features[\"$(cluster)\"][:, :Features];\n",
    "    split_identifyer = '\\u2014'\n",
    "    topinteractions = vcat(split.(topinteractions[1:n_topginteractions], split_identifyer)...);\n",
    "\n",
    "    if !isdir(figurespath_scData * \"/Cluster_$(cluster)\")\n",
    "        # Create the folder if it does not exist\n",
    "        mkdir(figurespath_scData * \"/Cluster_$(cluster)\")\n",
    "    end\n",
    "\n",
    "    for gene in topinteractions\n",
    "        vegascatterplot(tSNE_embeddings, log.(df_Rat[!, Symbol(gene)].+1); \n",
    "                            path=figurespath_scData * \"/Cluster_$(cluster)/\" * \"/Gene_$(gene)_scRNAseq_tSNE.png\",\n",
    "                            Title=Title=\"$(gene)\", Width=800, Height=800,\n",
    "                            legend_title=\"log1p\", color_field=\"labels:q\",\n",
    "                            scheme=nothing, domain_mid=nothing, range=color_range_light, save_plot=true,\n",
    "                            marker_size=\"10\"\n",
    "        )\n",
    "    end\n",
    "end"
   ]
  }
 ],
 "metadata": {
  "kernelspec": {
   "display_name": "Julia 1.9.3",
   "language": "julia",
   "name": "julia-1.9"
  },
  "language_info": {
   "file_extension": ".jl",
   "mimetype": "application/julia",
   "name": "julia",
   "version": "1.9.3"
  }
 },
 "nbformat": 4,
 "nbformat_minor": 2
}
