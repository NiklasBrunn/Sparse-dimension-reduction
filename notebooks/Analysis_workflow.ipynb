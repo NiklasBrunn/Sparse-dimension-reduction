{
 "cells": [
  {
   "cell_type": "markdown",
   "metadata": {},
   "source": [
    "# Tutorial Notebook: Analysis workflow for single-cell-resolved interaction data with the Boosting Autoencoder (BAE)\n",
    "\n",
    "**Workflow tutorial for analyzing interaction patterns of single-cell cell-cell interaction (CCI) data with the [Boosting Autoencoder (BAE)](https://github.com/NiklasBrunn/BoostingAutoencoder).** \n",
    "\n",
    "\n",
    "### The workflow is devided in five main steps:\n",
    "\n",
    "- [Setup](#Setup)\n",
    "- [Load the gene expression data](#Load-the-gene-expression-data)\n",
    "- [Construct a CCIM](#Construct-a-CCIM)\n",
    "- [Pattern analysis of the CCIM with the BAE](#Pattern-analysis-of-the-CCIM-with-the-BAE)\n",
    "- [Result visualization and plots saving](#Result-visualization-and-plots-saving)\n",
    "\n",
    "\n",
    "To run the workflow you can either start with one of the example data that can be loaded within the notebook or load and process your own single-cell RNA sequencing (scRNA-seq) or spatial transcriptomics (ST) data. In the [Load the gene expression data](#Load-the-gene-expression-data) section, we describe how the example data can be loaded for an exemplary analysis, as well as provide details about how to load and prepare your own data for the workflow.\n",
    "\n",
    "*The notebook is written in [Julia v1.9.3](https://julialang.org/downloads/oldreleases/). Since we use NICHES to construct CCIMs, which is implemented using the R programming language, we provide wrapper functions to call NICHES directly from Julia functions in this notebook.*"
   ]
  },
  {
   "cell_type": "markdown",
   "metadata": {},
   "source": [
    "## Setup:\n",
    "\n",
    "First, you can activate the Julia environment and load all the packages needed to run the interaction pattern analysis workflow. The first time you run the following cell, all required packages will be downloaded and precompiled, which may take a moment."
   ]
  },
  {
   "cell_type": "code",
   "execution_count": null,
   "metadata": {},
   "outputs": [],
   "source": [
    "#---Activate the enviroment:\n",
    "using Pkg;\n",
    "\n",
    "Pkg.activate(\"../\");\n",
    "Pkg.instantiate();\n",
    "Pkg.status()\n",
    "\n",
    "#---Set the path to the project:\n",
    "projectpath = joinpath(@__DIR__, \"../\"); \n",
    "\n",
    "#---Load the BoostingAutoEncoder module:\n",
    "include(projectpath * \"/src/BAE.jl\");\n",
    "using .BoostingAutoEncoder\n",
    "\n",
    "#---Load required packages for this notebook:\n",
    "using RCall, DelimitedFiles, Plots, Random, StatsBase, VegaLite, DataFrames, StatsPlots, CSV;"
   ]
  },
  {
   "cell_type": "markdown",
   "metadata": {},
   "source": [
    "Next, you can specify the path to the directory containing the data you want to analyze and where you want to save the results. By default, two folders are created by executing the following code cell, one for loading and saving the analyzed data and one for saving the generated result figures. Alternatively, you can change the paths below."
   ]
  },
  {
   "cell_type": "code",
   "execution_count": null,
   "metadata": {},
   "outputs": [],
   "source": [
    "#---Set paths to the data directory and the figures directory:\n",
    "\n",
    "# Set the path to the data directory and create the folder if it does not already exist \n",
    "# (exchange the path below with the path to your data directory):\n",
    "datapath = projectpath * \"data/tutorial/\";\n",
    "@info \"Data path: $datapath\"\n",
    "if !isdir(datapath)\n",
    "    mkdir(datapath)\n",
    "end\n",
    "\n",
    "# Set the path to the figures directory and create the folder if it does not already exist \n",
    "# (exchange the path below with the path to where you want to store your results):\n",
    "figurespath = projectpath * \"figures/tutorial/\"\n",
    "@info \"Figures path: $figurespath\"\n",
    "if !isdir(figurespath)\n",
    "    mkdir(figurespath)\n",
    "end"
   ]
  },
  {
   "cell_type": "markdown",
   "metadata": {},
   "source": [
    "## Load the gene expression data:\n",
    "\n",
    "In this section you can either choose to run the analysis workflow with some example data (scRNA-seq or ST) or upload your own data. \n",
    "\n",
    "Currently, the following options are supported:\n",
    "\n",
    "- We provide access to two different example data sets that were also used as an example in the [NICHES paper](https://academic.oup.com/bioinformatics/article/39/1/btac775/6865029). The first example data is [scRNA-seq data from rat lungs](#A.-Starting-with-the-scRNA-seq-example-data) (A). The second example data is [spot-based ST data from the mouse cortex](#B.-Starting-with-the-ST-example-data) (B).\n",
    "\n",
    "- Since NICHES is already implemented in R and is part of our workflow, you can alternatively [run NICHES directly on your data](#C.-Starting-with-an-own-Seurat-object) if it is already stored as a Seurat object (C).\n",
    "\n",
    "- If you have your data stored as an anddata object or in some other format, another way to run the workflow is to [manually extract and load the gene expression matrix, relevant metadata, and gene names](#D.-Starting-with-own-data-from-other-sources-and-preparing-for-the-signaling-pattern-analysis-workflow) (D). "
   ]
  },
  {
   "cell_type": "markdown",
   "metadata": {},
   "source": [
    "### A. Start with the scRNA-seq example data:\n",
    "\n",
    "As a first example, you can load [rat lung scRNA-seq data](https://www.science.org/doi/10.1126/sciadv.aaw3851) from [https://zenodo.org/record/6846618/files/raredon_2019_rat.Robj](https://zenodo.org/record/6846618/files/raredon_2019_rat.Robj), which was also used in the original NICHES publication. You can download the data directly and save it locally as a Seurat object by running the following cell without having to download the data manually. To save the data in another directory, you can specify a path in the `data_path` argument of the `load_rat_scRNAseq_data()` function.\n",
    "\n",
    "For the workflow of cell-cell interaction pattern analysis with the BAE, we follow the steps of the [R vignette](https://github.com/msraredon/NICHES/blob/master/vignettes/03%20Rat%20Alveolus.Rmd) provided by the NICHE authors and subset the data to include only the cell types that they are confident to be spatially close to each other. You can also access the whole data by setting `subset_data=false` in the `load_rat_scRNAseq_data()` function. \n",
    "The data is already pre-processed, including cell and gene filtering, normalization and transformation. In addition, [ALRA](https://www.nature.com/articles/s41467-021-27729-z) imputation has been applied to impute missing values. \n",
    "\n",
    "**The first time you download the data**, it may take a few minutes. If the data has already been downloaded and a file with the downloaded data already exists in the directory where the data is stored, the download will be skipped."
   ]
  },
  {
   "cell_type": "code",
   "execution_count": null,
   "metadata": {},
   "outputs": [],
   "source": [
    "#---Load example scRNA-seq data:\n",
    "# Download a subset of the example rat lung data:\n",
    "X_rat, tSNE_embeddings, celltypes_rat, genenames_rat = load_rat_scRNAseq_data(; transfer_data=true, assay=\"alra\");\n",
    "\n",
    "# Alternatively, you can download the full dataset by setting subset_data=false and define another directory for saving the data):\n",
    "#X_rat, tSNE_embtSNE_embeddingsedding, celltypes_rat, genenames_rat = load_rat_scRNAseq_data(; data_path=datapath, subset_data=false, transfer_data=true, assay=\"alra\");"
   ]
  },
  {
   "cell_type": "markdown",
   "metadata": {},
   "source": [
    "For demonstration purposes, you can visualize the data using the precomputed [tSNE](#https://www.jmlr.org/papers/volume9/vandermaaten08a/vandermaaten08a.pdf) coordinates in the Seurat object. Note that tSNE was run on the entire data, but only the cells of the selected types are shown here."
   ]
  },
  {
   "cell_type": "code",
   "execution_count": null,
   "metadata": {},
   "outputs": [],
   "source": [
    "vegascatterplot(tSNE_embeddings, celltypes_rat; \n",
    "    path=figurespath * \"ratLung_data_tSNE.png\",\n",
    "    legend_title=\"Cell type\",\n",
    "    Title=\"tSNE embedding of rat lung cells\",\n",
    "    color_field=\"labels:o\",\n",
    "    scheme=\"category10\",\n",
    "    domain_mid=nothing,\n",
    "    range=nothing,\n",
    "    save_plot=true,\n",
    "    marker_size=\"15\"\n",
    ")"
   ]
  },
  {
   "cell_type": "markdown",
   "metadata": {},
   "source": [
    "### B. Start with the ST example data:\n",
    "\n",
    "You can also use data from an ST experiment in the interaction pattern analysis workflow. As an example, you can download the [10X Visium Mouse Brain Data](https://www.10xgenomics.com/datasets?menu%5Bproducts.name%5D=Spatial%20Gene%20Expression&query=&page=1&configure%5BhitsPerPage%5D=50&configure%5BmaxValuesPerFacet%5D=1000) that was previously analyzed with Seurat [here](https://satijalab.org/seurat/articles/spatial_vignette.html#x-visium). We use the `SeuratData` function `LoadData()`, which we have wrapped in a Julia function to load the data.\n",
    "\n",
    "For illustration purposes, we cluster the data using `Seurat`. We extract the spatial coordinates and Seurat clusters along with the imputed counts from [ALRA](https://www.nature.com/articles/s41467-021-27729-z) to run the workflow.\n",
    "\n",
    "**The first time you download the data**, it may take a few minutes! If the data has already been downloaded and a file with the downloaded data already exists in the directory where the data is stored, the download will be skipped."
   ]
  },
  {
   "cell_type": "code",
   "execution_count": null,
   "metadata": {},
   "outputs": [],
   "source": [
    "#---Load example ST data:\n",
    "# Download the example spatial mouse brain Visium data accessible via SeuratData and save it to the data directory:\n",
    "X_brain, cell_locations, seurat_clusters_brain, genenames_brain = load_spatial_mousebrain_data();"
   ]
  },
  {
   "cell_type": "markdown",
   "metadata": {},
   "source": [
    "For demonstration purposes, you can visualize the data using the spatial cell locations from the Seurat object. The spots are colored according to the cluster labels."
   ]
  },
  {
   "cell_type": "code",
   "execution_count": null,
   "metadata": {},
   "outputs": [],
   "source": [
    "vegascatterplot(cell_locations, seurat_clusters_brain; \n",
    "    path=figurespath * \"mouseBrain_data_locations.png\",\n",
    "    legend_title=\"Cluster\",\n",
    "    Title=\"Spatial locations of mouse brain spots\",\n",
    "    color_field=\"labels:o\",\n",
    "    scheme=\"category20\",\n",
    "    domain_mid=nothing,\n",
    "    range=nothing,\n",
    "    save_plot=true,\n",
    "    marker_size=\"100\"\n",
    ")"
   ]
  },
  {
   "cell_type": "markdown",
   "metadata": {},
   "source": [
    "### C. Start with your own Seurat object:\n",
    "\n",
    "If your scRNA-seq or ST data is already stored in a Seurat object, you can start the analysis and continue by running NICHES to construct a CCIM.\n",
    "Please make sure that cell type annotations are available in the meta.data of your Seurat object (in case of scRNA-seq data), as NICHES requires them for the subsampling process.\n",
    "\n",
    "- >Continue by [running NICHES](#Construct-a-CCIM-with-NICHES) on your data to construct a CCIM."
   ]
  },
  {
   "cell_type": "markdown",
   "metadata": {},
   "source": [
    "### D. Start with your own data from other sources:\n",
    "\n",
    "If you have your data in another format that is not a Seurat object, you can still construct a Seurat object with your data, which can then be passed as input to NICHES to construct a CCIM. To do this, you must load the relevant parts of your data into the code cell below.\n",
    "\n",
    "**Data required to run the CCI pattern analysis workflow:**\n",
    "- **Filtered count matrix (*either counts, normalized counts or ALRA imputed counts*)**\n",
    "- **Genenames**\n",
    "- **Cell types/clusters (*required for scRNA-seq data*) or spatial coordinates (*required for ST data*)**\n",
    "\n",
    "Optional data:\n",
    "- Further metadata ...\n",
    "- Cell embeddings\n",
    "\n",
    "To store the genenames and cell related information, such as cell types, we have created a Julia structure called `MetaData`. \n",
    "Below we show an example of how to load data from .txt files and construct a `MetaData` object MD consisting of the genenames and relevant metadata. The example data is from [Tasic et al. (2016)](https://www.nature.com/articles/nn.4216) and is wa preprocessed following the steps in the [BAE](https://github.com/NiklasBrunn/BoostingAutoencoder) GitHub repository.\n",
    "\n",
    "To construct a Seurat object with the loaded data, we also provide a Julia function `create_seurat_object()` that passes the loaded data to `R` and creates a Seurat object.\n",
    "\n",
    "\n",
    "\n"
   ]
  },
  {
   "cell_type": "code",
   "execution_count": null,
   "metadata": {},
   "outputs": [],
   "source": [
    "#---Tasic data CCIM construction:\n",
    "# Set to true for loading example data\n",
    "other_source_data = false;\n",
    "\n",
    "if other_source_data\n",
    "    \n",
    "    X = readdlm(datapath * \"../cortical_mouse/corticalMouseDataMat_allgenes_log1.txt\", Float32);\n",
    "    genenames = vec(readdlm(datapath * \"../cortical_mouse/genenames.txt\", String));\n",
    "    celltypes = vec(readdlm(datapath * \"../cortical_mouse/celltype.txt\", String));\n",
    "\n",
    "    #---Summarize metadata information:\n",
    "    MD = MetaData(; featurename=genenames);\n",
    "    MD.obs_df[!, :Celltype] = celltypes;\n",
    "\n",
    "    #---Create a Seurat object:\n",
    "    create_seurat_object(X', MD; \n",
    "        data_path=nothing, \n",
    "        file_name=nothing,\n",
    "        assay= \"RNA\",\n",
    "        normalize_data=false, \n",
    "        alra_imputation=false,\n",
    "        indents=\"Celltype\",\n",
    "        data_is_normalized=true\n",
    "    );\n",
    "end"
   ]
  },
  {
   "cell_type": "markdown",
   "metadata": {},
   "source": [
    "## Construct a CCIM:\n",
    "\n",
    "Based on either single-cell RNA sequencing (scRNA-seq) or spatial transcriptomics (ST) data, we use [NICHES](https://github.com/msraredon/NICHES) to reconstruct CCIs based on known ligand-receptor interactions from the [FANTOM5](https://fantom.gsc.riken.jp/5/) or [OmniPath](https://omnipathdb.org) database. The reconstructed CCIs are in the form of a **cell-cell interaction matrix (CCIM)**, where observations correspond to cell pairs that represent edges in a directed communication graph, where nodes correspond to cells. The features of the CCIM are the ligand-receptor interactions selected by NICHES and represent the edge features in the communication graph.\n",
    "The resulting CCIM can be passed to BAE for interaction pattern analysis of cell pairs. \n",
    "\n",
    "In addition, NICHES can construct CCIMs representing **cell-to-system** or **system-to-cell** communication. Each observation corresponds to a pair that represents either a cell pair with a sender and a receiver cell, a pair with a sender cell and a receiver system, or a sender system and a receiver cell (more details can be found in the [NICHES paper](https://academic.oup.com/bioinformatics/article/39/1/btac775/6865029)).\n",
    "\n",
    "To run NICHES on your data from the previous step to create and save a CCIM along with the desired metadata, you can set the `filepath' to your data below, as well as define a `datapath'. We have created a wrapper Julia function that calls the NICHES R function using the Julia package `RCall`. The function takes the `filepath` as input and you can specify optional arguments to determine what output the algorithm will compute and what metadata it will use.\n",
    "\n",
    "NICHES calculates CCIMs based on normalized counts. Therefore, please make sure that your data is normalized. If not, you can normalize your data by setting the optional function argument `normalize_data=true`. This will call the Seurat function `NormalizeData()` on your Seurat object and compute *log1p* normalized counts within the Julia wrapper function `run_NICHES_wrapper()`.\n",
    "\n",
    "Optionally, you can perform ALRA imputation on your data to reduce the sparsity level of the resulting CCIM, which can occur when the sparsity level in the original gene expression data is extremely high. To do this, you can set the function argument `alra_imputation=true`, but note that you are using pseudo values in this case.\n",
    "\n",
    "By calling the wrapper function in the code cell below, one or more NICHES Seurat objects are created based on the type of CCIMs you want to construct. Each CCIM is then stored in your specified data path with a filename based on the CCIM type. For example, setting `CellToCell=true` will create a NICHES Seurat object consisting of a CCIM where observations correspond to single-cell pairs, and the Seurat object will be saved with the filename `NICHES_CellToCell.rds`. \n",
    "\n",
    "**Note:** *In general, any tool that constructs CCIM-like matrices can be used.*"
   ]
  },
  {
   "cell_type": "markdown",
   "metadata": {},
   "source": [
    "### A. Construct a CCIM from the scRNA-seq example data:"
   ]
  },
  {
   "cell_type": "code",
   "execution_count": null,
   "metadata": {},
   "outputs": [],
   "source": [
    "#---Run NICHES on scRNA-seq data:\n",
    "filepath_expData = datapath * \"Rat_Seurat_sub.rds\";\n",
    "run_NICHES_wrapper(filepath_expData; \n",
    "    data_path=nothing, \n",
    "    alra_imputation=false, \n",
    "    assay=\"alra\", \n",
    "    species=\"rat\", \n",
    "    LR_database=\"fantom5\", \n",
    "    cell_types=\"cell_types\"\n",
    ");"
   ]
  },
  {
   "cell_type": "markdown",
   "metadata": {},
   "source": [
    "### B. Construct a CCIM from the ST example data:"
   ]
  },
  {
   "cell_type": "code",
   "execution_count": null,
   "metadata": {},
   "outputs": [],
   "source": [
    "#---Run NICHES on ST data:\n",
    "filepath_expData = datapath * \"MouseBrain_Seurat.rds\";\n",
    "run_NICHES_wrapper(filepath_expData;\n",
    "    alra_imputation=false, \n",
    "    assay=\"alra\",\n",
    "    species=\"mouse\",\n",
    "    cell_types=\"seurat_clusters\",\n",
    "    position_x=\"x\",\n",
    "    position_y=\"y\",\n",
    "    n_neighbors=4,\n",
    "    meta_data_to_map=[\"orig.ident\",\"seurat_clusters\", \"x\", \"y\"],    \n",
    "    CellToCell=false,\n",
    "    SystemToCell=false,\n",
    "    CellToSystem=false,\n",
    "    CellToCellSpatial=false,\n",
    "    NeighborhoodToCell=true,\n",
    "    CellToNeighborhood=false,\n",
    ");"
   ]
  },
  {
   "cell_type": "markdown",
   "metadata": {},
   "source": [
    "### C. Construct a CCIM from your own data:"
   ]
  },
  {
   "cell_type": "code",
   "execution_count": null,
   "metadata": {},
   "outputs": [],
   "source": [
    "#---Run NICHES on your own data:\n",
    "filepath_expData = datapath * \"Seurat_object.rds\";\n",
    "run_NICHES_wrapper(filepath_expData; \n",
    "    data_path=nothing, \n",
    "    normalize_data=true, \n",
    "    alra_imputation=true, \n",
    "    assay=\"alra\", \n",
    "    species=\"mouse\", \n",
    "    LR_database=\"fantom5\", \n",
    "    cell_types=\"Celltype\"\n",
    ");"
   ]
  },
  {
   "cell_type": "markdown",
   "metadata": {},
   "source": [
    "## Pattern analysis of the CCIM with the BAE:\n",
    "\n",
    "The high-dimensional CCIM computed in the previous step is the starting point for single-cell interaction pattern analysis. Each row of the CCIM consists of individual cell pairs (observations) for which interaction scores of multiple ligand-receptor interactions are stored in the columns (features). \n",
    "\n",
    "The goal of the interaction pattern analysis is to group cell pairs based on similar interaction profiles and to be able to identify specific characterizing ligand-receptor interactions for these groups. For this purpose we use the Boosting Autoencoder (BAE), a neural network based tool for sparse and structured dimension reduction.\n",
    "\n",
    "**During training, the BAE** \n",
    "\n",
    "- **learns a low-dimensional representation of the cell pairs, where cell pairs with similar interaction profiles are grouped together,**\n",
    "- **learns to assign cluster-membership probabilities to the cell pairs based on which cluster labels can be defined,**\n",
    "- **learns to sparsly link characterizing ligand-receptor interactions to the different clusters.** "
   ]
  },
  {
   "cell_type": "markdown",
   "metadata": {},
   "source": [
    "### A. Load and preprocess the CCIM:\n",
    "\n",
    "In order to pass the CCIM to BAE, which is currently stored in a Seurat object, you must first load and transfer your data to Julia.\n",
    "You can do this by executing one of the following code cells (1-6) which call Julia functions which, given the file path to your NICHES Seurat object, load it in R, extract the relevant data and transfer it to Julia. Currently, the metadata information that can be transferred is the cell type/cell type pairs, the sender cell types, and the receiver cell types. \n",
    "\n",
    "Part of the functionality is feature standardization, i.e. z-score transformation of the CCIM. This is a necessary step since BAE requires feature standardized data as input."
   ]
  },
  {
   "cell_type": "markdown",
   "metadata": {},
   "source": [
    "**1. Load the CellToCell NICHES results:**"
   ]
  },
  {
   "cell_type": "code",
   "execution_count": null,
   "metadata": {},
   "outputs": [],
   "source": [
    "filepath_CCIM = datapath * \"NICHES_CellToCell.rds\";\n",
    "CCIM, CCIM_st, MD = load_CCIM_CtC(filepath_CCIM); "
   ]
  },
  {
   "cell_type": "markdown",
   "metadata": {},
   "source": [
    "**2. Load the SystemToCell NICHES results:**"
   ]
  },
  {
   "cell_type": "code",
   "execution_count": null,
   "metadata": {},
   "outputs": [],
   "source": [
    "filepath_CCIM = datapath * \"NICHES_SystemToCell.rds\";\n",
    "CCIM, CCIM_st, MD = load_CCIM_StC(filepath_CCIM); "
   ]
  },
  {
   "cell_type": "markdown",
   "metadata": {},
   "source": [
    "**3. Load the CellToSystem NICHES results:**"
   ]
  },
  {
   "cell_type": "code",
   "execution_count": null,
   "metadata": {},
   "outputs": [],
   "source": [
    "filepath_CCIM = datapath * \"NICHES_CellToSystem.rds\";\n",
    "CCIM, CCIM_st, MD = load_CCIM_CtS(filepath_CCIM); "
   ]
  },
  {
   "cell_type": "markdown",
   "metadata": {},
   "source": [
    "**4. Load the spatial CellToCell NICHES results:**"
   ]
  },
  {
   "cell_type": "code",
   "execution_count": null,
   "metadata": {},
   "outputs": [],
   "source": [
    "filepath_CCIM = datapath * \"NICHES_CellToCell_Spatial.rds\";\n",
    "CCIM, CCIM_st, MD = load_CCIM_CtC_Spatial(filepath_CCIM); "
   ]
  },
  {
   "cell_type": "markdown",
   "metadata": {},
   "source": [
    "**5. Load the spatial NeighborhoodToCell NICHES results:**"
   ]
  },
  {
   "cell_type": "code",
   "execution_count": null,
   "metadata": {},
   "outputs": [],
   "source": [
    "filepath_CCIM = datapath * \"NICHES_NeighborhoodToCell.rds\";\n",
    "CCIM, CCIM_st, MD = load_CCIM_NtC(filepath_CCIM); "
   ]
  },
  {
   "cell_type": "markdown",
   "metadata": {},
   "source": [
    "**6. Load the spatial CellToNeighborhood NICHES results:**"
   ]
  },
  {
   "cell_type": "code",
   "execution_count": null,
   "metadata": {},
   "outputs": [],
   "source": [
    "filepath_CCIM = datapath * \"NICHES_CellToNeighborhood.rds\";\n",
    "CCIM, CCIM_st, MD = load_CCIM_CtN(filepath_CCIM); "
   ]
  },
  {
   "cell_type": "markdown",
   "metadata": {},
   "source": [
    "### B. Set hyperparameters for the BAE training:\n",
    "\n",
    "Befor you can train a BAE with the CCIM, you must specify the hyperparameters for training. \n",
    "\n",
    "Here we give a brief description of the different hyperparameters (for more details you can check the `Hyperparameter` documentation):\n",
    "\n",
    "- `zdim`: Number of latent dimensions of the BAE model. Cell pairs can be assigned to 2*zdim clusters by the BAE.\n",
    "- `n_runs`: Can be set to 1 or a larger integer. If > 1, the encoder weight matrix will be reset to zero each time after training for at most the specified maximum number of training iterations for the first n_run-1 times. \n",
    "- `max_iter`: Maximum number of training epochs per run.\n",
    "- `tol`: This parameter controls whether early stopping is enabled or not. If set to nothing, there will be no early stopping. Otherwise, if a tolerance value is given, the training per run will stop if the absolute difference between the mean train loss of the current and the last training epoch is less than the tolerance.\n",
    "- `batchsize`: Mini-batch size used for each parameter update iteration during each training epoch.\n",
    "- `η`: Learning rate for the decoder parameter optimization ([AdamW](https://arxiv.org/abs/1711.05101)).\n",
    "- `λ`: Regularization parameter for decoder parameter updates ([AdamW](https://arxiv.org/abs/1711.05101)).\n",
    "- `ϵ`: Step size for the bosting component to update encoder weights.\n",
    "- `M`: Number of boosting steps performed to update the encoder weights during each parameter update iteration.\n",
    "\n"
   ]
  },
  {
   "cell_type": "code",
   "execution_count": null,
   "metadata": {},
   "outputs": [],
   "source": [
    "#---Define hyperparameters for training a BAE:\n",
    "\n",
    "# Rat lung scRNA-seq data\n",
    "#HP = Hyperparameters(zdim=30, n_runs=2, max_iter=50, tol=1e-5, batchsize=2^11, η=0.01, λ=0.1, ϵ=0.01, M=1); \n",
    "\n",
    "# Spatial mouse brain data \n",
    "HP = Hyperparameters(zdim=10, n_runs=2, max_iter=100, tol=1e-5, batchsize=2^9, η=0.01, λ=0.1, ϵ=0.01, M=1);  \n",
    "\n",
    "# Mouse brain scRNA-seq data\n",
    "#HP = Hyperparameters(zdim=8, n_runs=2, max_iter=50, tol=1e-5, batchsize=2^9, η=0.01, λ=0.1, ϵ=0.01, M=1); \n",
    "\n",
    "\n",
    "# Hyperparameters for reconstructing the results on rat lung scRNA-seq data in our paper:\n",
    "#HP = Hyperparameters(zdim=30, n_runs=1, max_iter=1000, tol=1e-5, batchsize=2^12, η=0.01, λ=0.1, ϵ=0.001, M=1); \n",
    "\n",
    "\n",
    "# Customize Hyperparameters:\n",
    "#HP = Hyperparameters(zdim=30, n_runs=1, max_iter=2000, tol=1e-5, batchsize=2^12, η=0.01, λ=0.1, ϵ=0.001, M=1);  "
   ]
  },
  {
   "cell_type": "markdown",
   "metadata": {},
   "source": [
    "### C. Define the neural network model architecture for the BAE:\n",
    "\n",
    "Next, you can create the neural network architecture for the BAE subdevided in the encoder and decoder. \n",
    "\n",
    "The encoder consists of a single-layer linear neural network solely parameterized by a weight matrix called `coeffs`. \n",
    "\n",
    "The decoder consists of three distinct layers: \n",
    "The first layer is the *split-softmax* transformation, which is a structured soft-clustering component to disentangle two different groups of cells that are potentially represented within a latent dimension. The *split-softmax* thus doubles the number of latent dimensions. \n",
    "The second layer of the decoder is a dense layer with a *tanh* activation function, followed by a third layer with no activation function (see the uncommented line below the line where the decoder is defined).\n",
    "\n",
    "The hyperparameters used to train the BAE are stored as part of the model structure.\n",
    "\n",
    "**Note:** *The decoder can in principle be defined as an arbitrary multi-layer feed forward neural network.* "
   ]
  },
  {
   "cell_type": "code",
   "execution_count": null,
   "metadata": {},
   "outputs": [],
   "source": [
    "#---Define the decoder architecture:\n",
    "p = size(CCIM_st, 2);\n",
    "decoder = generate_BAEdecoder(p, HP; soft_clustering=true); #Below is the decoder structure ...\n",
    "#decoder = Chain(x -> softmax(split_vectors(x)), Dense(2*HP.zdim, p, tanh_fast), Dense(p, p));\n",
    "\n",
    "#---Initialize the BAE model:\n",
    "BAE = BoostingAutoencoder(; coeffs=zeros(Float32, p, HP.zdim), decoder=decoder, HP=HP);\n",
    "summary(BAE)"
   ]
  },
  {
   "cell_type": "markdown",
   "metadata": {},
   "source": [
    "### D. Train the BAE:\n",
    "\n",
    "You can now train your BAE model with the specified hyperparameters by executing the following code cell. "
   ]
  },
  {
   "cell_type": "code",
   "execution_count": null,
   "metadata": {},
   "outputs": [],
   "source": [
    "#---Train the BAE model:\n",
    "@time begin\n",
    "    output_dict = train_BAE!(CCIM_st, BAE; MD=MD);\n",
    "end"
   ]
  },
  {
   "cell_type": "markdown",
   "metadata": {},
   "source": [
    "## Result visualization and plots saving:\n",
    "\n",
    "**The BAE results consists of:**\n",
    "\n",
    "- **The sparse encoder weight matrix defines the connections of model-selected ligand-receptor interactions to different latent dimensions.**\n",
    "- **A low-dimensional representation of the CCIM in `zdim` dimensions, whcih can be accessed via `BAE.Z`.**\n",
    "- **Cluster labels that are defined as the `argmax` values of the soft clustering component per cell pair.**\n",
    "\n",
    "Since BAE is constrained to learning disentangled latent dimensions, each dimension captures patterns that are characteristic of a group of cell pairs. Sometimes two groups are captured by a single dimension. In this case, the split-soft transformation helps to further disentangle these groups into separate dimensions, which we refer to as clusters.\n",
    "In addition, each latent dimension, and thus each cluster, is associated with a sparse set of model-selected ligand-receptor interactions that characterize the learned patterns for that dimension/cluster.\n",
    "\n",
    "The next step is to visually inspect the learned patterns and use the information about the selected features for the different clusters.\n",
    "For visualization, we use [UMAP](https://arxiv.org/abs/1802.03426) to construct a 2D embedding of the cell pairs based on the BAE latent representation. In addition, we create a custom discrete color scheme to help visualize the clustering results when the number of latent dimensions is large, e.g., > 20 (otherwise, the `\"category10\"` or `\"category20\"` color schemes can be used instead). To create feature plots later, we also define two custom continuous color ranges `color_range_dark` and `color_range_light`, one for light and one for dark backgrounds."
   ]
  },
  {
   "cell_type": "code",
   "execution_count": null,
   "metadata": {},
   "outputs": [],
   "source": [
    "#----Compute 2D UMAP embedding of the learned BAE latent representation and add to the metadata:\n",
    "BAE.UMAP = generate_umap(BAE.Z');\n",
    "MD.obs_df[!, :UMAP1] = BAE.UMAP[:, 1];\n",
    "MD.obs_df[!, :UMAP2] = BAE.UMAP[:, 2];\n",
    "\n",
    "#---Generate a custom color scheme of distinct colors:\n",
    "n_cols = 2 * BAE.HP.zdim; \n",
    "custom_colorscheme = shuffle([hsl_to_hex(i / n_cols, 0.7, 0.5 + 0.1 * sin(i * 4π / BAE.HP.zdim)) for i in 1:n_cols]); \n",
    "\n",
    "#---Set color ranges for scatter plots (one for dark and one for light backgrounds):\n",
    "#For dark backgrounds:\n",
    "color_range_dark = [\n",
    "    \"#fff5f5\", \"#ffe0e0\", \"#ffcccc\", \"#ffb8b8\", \"#ffa3a3\", \"#ff8f8f\", \"#ff7a7a\", \"#ff6666\",\n",
    "    \"#ff5252\", \"#ff3d3d\", \"#ff2929\", \"#ff1414\", \"#ff0000\", \"#e50000\", \"#cc0000\", \"#b20000\",\n",
    "    \"#990000\", \"#7f0000\", \"#660000\", \"#4c0000\", \"#330000\"\n",
    "];\n",
    "#For light backgrounds:\n",
    "color_range_light = [\n",
    "    \"#000000\", \"#220022\", \"#440044\", \"#660066\", \"#880088\", \"#aa00aa\", \"#cc00cc\", \"#ee00ee\",\n",
    "    \"#ff00ff\", \"#ff19ff\", \"#ff33ff\", \"#ff4cff\", \"#ff66ff\", \"#ff7fff\", \"#ff99ff\", \"#ffb2ff\",\n",
    "    \"#ffccff\", \"#ffe5ff\", \"#ffccf5\", \"#ff99eb\", \"#ff66e0\"\n",
    "];"
   ]
  },
  {
   "cell_type": "markdown",
   "metadata": {},
   "source": [
    "With the  2D UMAP coordinates, you can now plot a scatter plot of the cell paris in a two-dimensional space reflecting similarities in interaction patterns of the cell pairs based on the learned BAE representation. For inspecting the interaction patterns, you can have a look at this plot from different perspectives.\n",
    "\n",
    "**Cell pairs can be colored based on:**\n",
    "\n",
    "- **1. Cell type pair information (Sender-receiver types)**\n",
    "- **2. Sender types**\n",
    "- **3. Receiver types**\n",
    "- **4. BAE cluster labels**\n",
    "\n",
    "In the scatterplot functions below, you can specify whether to save the generated plots (`save_plot`), as well as the file type and path where the plots should be saved (`path`). You can also set the color scheme based on an existing one using `scheme` (we recommend using `\"category10\"` or `\"category20\"` for discrete data if there are <=20 labels). If there are >20 labels, you can use the `custom_colorscheme` defined above. Finally, you can adjust the `marker_size` depending on how many observations, i.e. points, are plotted."
   ]
  },
  {
   "cell_type": "markdown",
   "metadata": {},
   "source": [
    "**1. Cell type pair information (Sender-receiver types)**"
   ]
  },
  {
   "cell_type": "code",
   "execution_count": null,
   "metadata": {},
   "outputs": [],
   "source": [
    "if \"CellTypePair\" in names(MD.obs_df)\n",
    "    pl = vegascatterplot(Matrix(MD.obs_df[:, [:UMAP1, :UMAP2]]), MD.obs_df.CellTypePair; \n",
    "        path=figurespath * \"CellTypePair_(BAE)umap.png\",\n",
    "        legend_title=\"Sender-Receiver\",\n",
    "        color_field=\"labels:o\",\n",
    "        scheme=nothing,\n",
    "        domain_mid=nothing,\n",
    "        range=custom_colorscheme,\n",
    "        save_plot=true,\n",
    "        marker_size=\"7\"\n",
    "    )\n",
    "\n",
    "    display(pl)\n",
    "    \n",
    "else\n",
    "    @warn \"CellTypePair not found in metadata!\"\n",
    "end"
   ]
  },
  {
   "cell_type": "markdown",
   "metadata": {},
   "source": [
    "**2. Sender types**"
   ]
  },
  {
   "cell_type": "code",
   "execution_count": null,
   "metadata": {},
   "outputs": [],
   "source": [
    "if \"SenderType\" in names(MD.obs_df)\n",
    "    pl = vegascatterplot(Matrix(MD.obs_df[:, [:UMAP1, :UMAP2]]), MD.obs_df.SenderType; \n",
    "        path=figurespath * \"SenderType_(BAE)umap.png\",\n",
    "        legend_title=\"Sender\",\n",
    "        color_field=\"labels:o\",\n",
    "        scheme=\"category20\",\n",
    "        domain_mid=nothing,\n",
    "        range=nothing, \n",
    "        save_plot=true,\n",
    "        marker_size=\"7\"\n",
    "    )\n",
    "\n",
    "    display(pl)\n",
    "    \n",
    "else\n",
    "    @warn \"MetaData has no column named: SenderType.\"\n",
    "end"
   ]
  },
  {
   "cell_type": "markdown",
   "metadata": {},
   "source": [
    "**3. Receiver types**"
   ]
  },
  {
   "cell_type": "code",
   "execution_count": null,
   "metadata": {},
   "outputs": [],
   "source": [
    "if \"ReceiverType\" in names(MD.obs_df)\n",
    "    pl = vegascatterplot(Matrix(MD.obs_df[:, [:UMAP1, :UMAP2]]), MD.obs_df.ReceiverType; \n",
    "        path=figurespath * \"ReceiverType_(BAE)umap.png\",\n",
    "        legend_title=\"Receiver\",\n",
    "        color_field=\"labels:o\",\n",
    "        scheme=\"category20\",\n",
    "        domain_mid=nothing,\n",
    "        range=nothing, \n",
    "        save_plot=true,\n",
    "        marker_size=\"7\"\n",
    "    )\n",
    "\n",
    "    display(pl)\n",
    "    \n",
    "else\n",
    "    @warn \"MetaData has no column named: ReceiverType.\"\n",
    "end"
   ]
  },
  {
   "cell_type": "markdown",
   "metadata": {},
   "source": [
    "**4. BAE cluster labels**\n",
    "\n",
    "Inspecting the plot with the cluster labels together with one or more of the plots above (*Cell type pair / sender type / receiver type*), can reveal information about which cells communicate with others in a similar way. For example, a BAE cluster of cell pairs could consist of cell pairs which have the same sender type but have two different receiver types."
   ]
  },
  {
   "cell_type": "code",
   "execution_count": null,
   "metadata": {},
   "outputs": [],
   "source": [
    "vegascatterplot(Matrix(MD.obs_df[:, [:UMAP1, :UMAP2]]), MD.obs_df.Cluster; \n",
    "    path=figurespath * \"Cluster_(BAE)umap.png\",\n",
    "    legend_title=\"Cluster\",\n",
    "    color_field=\"labels:o\",\n",
    "    scheme=nothing,\n",
    "    domain_mid=nothing,\n",
    "    range=custom_colorscheme,\n",
    "    save_plot=true,\n",
    "    marker_size=\"7\"\n",
    ")"
   ]
  },
  {
   "cell_type": "markdown",
   "metadata": {},
   "source": [
    "You can also inspect the BAE's learned latent patterns for each cluster individually. We provide a function for generating a 2D UMAP scatter plot for each cluster, colored by the softmax activation of cell pairs, indicating the probability that a cell belongs to that cluster. Because the latent dimensions are largely disentangled, different clusters tend to capture different groups of cell pairs.\n",
    "\n",
    "By examining the plots, you can select the ones that capture interesting patterns, i.e., groups of cell pairs that stand out from the rest."
   ]
  },
  {
   "cell_type": "code",
   "execution_count": null,
   "metadata": {},
   "outputs": [],
   "source": [
    "# Create scatter plots of the UMAP embedding of the learned BAE latent representation colored by activations for different clusters:\n",
    "if !isdir(figurespath * \"/UMAPplotsCluster\")\n",
    "    # Create the folder if it does not exist\n",
    "    mkdir(figurespath * \"/UMAPplotsCluster\")\n",
    "end\n",
    "create_colored_vegascatterplots(Matrix(MD.obs_df[:, [:UMAP1, :UMAP2]]), BAE.Z_cluster;\n",
    "    path=figurespath * \"/UMAPplotsCluster/\",\n",
    "    filename=\"BAE_cluster\",\n",
    "    filetype=\"scatter.png\",\n",
    "    legend_title=\"Activation\",\n",
    "    color_field=\"labels:q\",\n",
    "    scheme=nothing, \n",
    "    domain_mid=nothing,\n",
    "    range=color_range_light,\n",
    "    save_plot=true,\n",
    "    marker_size=\"7\"\n",
    ")\n",
    "@info \"UMAP scatter plots per cluster generated and saved to $(datapath)!\""
   ]
  },
  {
   "cell_type": "markdown",
   "metadata": {},
   "source": [
    "Next, you can further investigate the ligand-receptor interactions that drive the learned patterns displayed in the 2D UMAP plots. You can do this by examining the top selected features per cluster. You can create and save data frames of the top selected interactions by running the code cell below. Each dataframe consists of the selected interaction names, the actual encoder weights learned by BAE, and the normalized weights (a relative score for the selected interactions ranging from 0 to 1)."
   ]
  },
  {
   "cell_type": "code",
   "execution_count": null,
   "metadata": {},
   "outputs": [],
   "source": [
    "# Create dataframes of top features/interactions per cluster:\n",
    "topFeatures_per_Cluster(BAE, MD; save_data=true, data_path=datapath);\n",
    "@info \"Top features per cluster computed and saved to $(datapath)!\"\n",
    "\n",
    "# Load an example dataframe for a specific cluster:\n",
    "cluster = 4;\n",
    "top_features_cluster3 = CSV.read(datapath * \"TopFeaturesCluster_CSV/topFeatures_Cluster_$(cluster).csv\", DataFrame)"
   ]
  },
  {
   "cell_type": "markdown",
   "metadata": {},
   "source": [
    "Alternatively, you can visually inspect the top *k* selected ligand-receptor interactions per cluster. We provide a function to generate a scatter plot based on the normalized encoder weights per cluster."
   ]
  },
  {
   "cell_type": "code",
   "execution_count": null,
   "metadata": {},
   "outputs": [],
   "source": [
    "#---Create scatter plots of the top selected genes per cluster:\n",
    "k = 10;\n",
    "if !isdir(figurespath * \"/TopFeaturesCluster\")\n",
    "    # Create the folder if it does not exist\n",
    "    mkdir(figurespath * \"/TopFeaturesCluster\")\n",
    "end\n",
    "for key in keys(MD.Top_features)\n",
    "    if length(MD.Top_features[key].Scores) > 0\n",
    "        FeatureScatter_plot = TopFeaturesPerCluster_scatterplot(MD.Top_features[key], key; top_n=k)\n",
    "        savefig(FeatureScatter_plot, figurespath * \"/TopFeaturesCluster/\" * \"BAE_Cluster$(key)_Interactions.png\")\n",
    "    end\n",
    "end\n",
    "@info \"Figures saved to: $(figurespath * \"/TopFeaturesCluster\")!\""
   ]
  },
  {
   "cell_type": "markdown",
   "metadata": {},
   "source": [
    "The 2D UMAP scatter plots from above can also be colored based on the scores of selected ligand-receptor interactions for different patterns. You can compare whether the displayed interaction score patterns match the cluster, sender, or receiver patterns in the above plots to further select interesting interactions. The plots can be generated by running the code cell below."
   ]
  },
  {
   "cell_type": "code",
   "execution_count": null,
   "metadata": {},
   "outputs": [],
   "source": [
    "#---Create scatter plots of the UMAP embedding of the learned BAE latent representation colored by expression levels of top selected genes for different clusters:\n",
    "if !isdir(figurespath * \"/FeaturePlots\")\n",
    "    # Create the folder if it does not exist\n",
    "    mkdir(figurespath * \"/FeaturePlots\")\n",
    "end\n",
    "FeaturePlots(MD.Top_features, MD.featurename, CCIM, Matrix(MD.obs_df[:, [:UMAP1, :UMAP2]]); \n",
    "    top_n=5,\n",
    "    marker_size=\"7\", \n",
    "    fig_type=\".png\",\n",
    "    path=figurespath * \"/FeaturePlots/\",\n",
    "    legend_title=\"Score\",\n",
    "    color_field=\"labels:q\",\n",
    "    scheme=nothing, \n",
    "    domain_mid=nothing,\n",
    "    range=color_range_light\n",
    ");\n",
    "@info \"Feature plots saved to: $(figurespath * \"/FeaturePlots\")!\""
   ]
  },
  {
   "cell_type": "markdown",
   "metadata": {},
   "source": [
    "For a final check you can even go back to the original scRNA-seq data or ST data and check the gene expressions of ligand and receptor genes of the ligand-receptor interactions which you find interesting. "
   ]
  },
  {
   "cell_type": "markdown",
   "metadata": {},
   "source": [
    "**1. Rat lung data**"
   ]
  },
  {
   "cell_type": "code",
   "execution_count": null,
   "metadata": {},
   "outputs": [],
   "source": [
    "origData_FeaturePlots(X_rat, tSNE_embeddings, MD, genenames_rat; \n",
    "    n_features=4,\n",
    "    marker_size=\"15\",\n",
    "    color_range=color_range_light,\n",
    "    color_scheme=nothing,\n",
    "    legend_title=\"ALRA\",\n",
    "    file_type=\".png\",\n",
    "    figures_path=figurespath\n",
    ");\n",
    "@info \"Figures saved to: $(figurespath)!\""
   ]
  },
  {
   "cell_type": "markdown",
   "metadata": {},
   "source": [
    "**2. Mouse brain data**"
   ]
  },
  {
   "cell_type": "code",
   "execution_count": null,
   "metadata": {},
   "outputs": [],
   "source": [
    "origData_FeaturePlots(X_brain, cell_locations, MD, genenames_brain; \n",
    "    n_features=4,\n",
    "    marker_size=\"150\",\n",
    "    color_range=color_range_light,\n",
    "    color_scheme=nothing,\n",
    "    legend_title=\"ALRA\",\n",
    "    file_type=\".png\",\n",
    "    figures_path=figurespath\n",
    ");\n",
    "@info \"Figures saved to: $(figurespath)!\""
   ]
  },
  {
   "cell_type": "markdown",
   "metadata": {},
   "source": [
    "**3. Your own data** (2D cell embeddings or 2D cell locations of the data are required)"
   ]
  },
  {
   "cell_type": "code",
   "execution_count": null,
   "metadata": {},
   "outputs": [],
   "source": [
    "origData_FeaturePlots(X, embedding, MD, genenames; \n",
    "    n_features=4,\n",
    "    marker_size=\"15\",\n",
    "    color_range=color_range_light,\n",
    "    color_scheme=nothing,\n",
    "    legend_title=\"Counts\",\n",
    "    file_type=\".png\",\n",
    "    figures_path=figurespath\n",
    ");\n",
    "@info \"Figures saved to: $(figurespath)!\""
   ]
  },
  {
   "cell_type": "markdown",
   "metadata": {},
   "source": [
    "**Note:** *The following plots require spatial coordinates of cells and can only be generated when analyzing ST data.*\n",
    "\n",
    "If you are analyzing a `NeighborhoodToCell` or `CelltoNeighborhood` CCIM, you can color the spatial map of cells by the interaction scores of the top selected interactions by BAE (for the different clusters). "
   ]
  },
  {
   "cell_type": "code",
   "execution_count": null,
   "metadata": {},
   "outputs": [],
   "source": [
    "create_spatialInteractionPlots(filepath_CCIM, MD, CCIM; \n",
    "    figures_path=figurespath,\n",
    "    background_color=\"light\", \n",
    "    legend_title=\"Value\", \n",
    "    n_Interactions=5, \n",
    "    marker_size=\"150\", \n",
    "    fig_type=\".png\"\n",
    ");\n",
    "@info \"Figures saved to: $(figurespath)!\""
   ]
  },
  {
   "cell_type": "markdown",
   "metadata": {},
   "source": [
    "**Note:** *The following plot requires spatial coordinates of cells and can only be generated when analyzing a `NeighborhoodToCell` or `CelltoNeighborhood` CCIM.*\n",
    "\n",
    "You can also color the cells in the spatial map by the BAE cluster labels, which allows to investigate the spatial arrangement of all the interaction programs determined by the BAE."
   ]
  },
  {
   "cell_type": "code",
   "execution_count": null,
   "metadata": {},
   "outputs": [],
   "source": [
    "n_cols = 2 * BAE.HP.zdim; \n",
    "custom_colorscheme = shuffle([hsl_to_hex(i / n_cols, 0.7, 0.5 + 0.1 * sin(i * 4π / BAE.HP.zdim)) for i in 1:n_cols]); \n",
    "\n",
    "vegascatterplot(Matrix(MD.obs_df[!, [:x, :y]]), MD.obs_df.Cluster; \n",
    "    path=figurespath * \"mouseBrain_data_BAEclusterLabels.png\",\n",
    "    legend_title=\"Cluster\",\n",
    "    Title=\"Mouse brain spots colored by BAE cluster labels\",\n",
    "    color_field=\"labels:o\",\n",
    "    scheme=nothing,\n",
    "    domain_mid=nothing,\n",
    "    range=custom_colorscheme,\n",
    "    save_plot=true,\n",
    "    marker_size=\"100\"\n",
    ")"
   ]
  }
 ],
 "metadata": {
  "kernelspec": {
   "display_name": "Julia 1.9.3",
   "language": "julia",
   "name": "julia-1.9"
  },
  "language_info": {
   "file_extension": ".jl",
   "mimetype": "application/julia",
   "name": "julia",
   "version": "1.9.3"
  }
 },
 "nbformat": 4,
 "nbformat_minor": 2
}
