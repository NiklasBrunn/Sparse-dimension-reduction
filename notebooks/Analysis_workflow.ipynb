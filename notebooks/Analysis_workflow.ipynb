{
 "cells": [
  {
   "cell_type": "markdown",
   "metadata": {},
   "source": [
    "# Tutorial Notebook: Analysis workflow for single-cell-resolved interaction data with the Boosting Autoencoder (BAE)\n",
    "\n",
    "This Jupyter notebook demonstrates a workflow for analyzing interaction patterns of cell-cell interaction (CCI) data with the BoostingAutoencoder (REF) at the single cell level. \n",
    "\n",
    "The requirements for running the analysis presented here, are either a filtered and pre-processed single-cell RNA sequencing (scRNA-seq) dataset or spatial transcriptomics (ST) dataset with available cell type annotations.\n",
    "\n",
    "### The workflow is devided in five main steps:\n",
    "\n",
    "- [Setup](#Setup)\n",
    "- [Load the gene expression data](#Load-the-gene-expression-data)\n",
    "- [Construct a CCIM with NICHES](#Construct-a-CCIM-with-NICHES)\n",
    "- [Perform the BAE analysis of the CCIM](#Perform-the-BAE-analysis-of-the-CCIM)\n",
    "- [Result visualization and data saving](#Result-visualization-and-data-saving)\n",
    "\n",
    "As an example, we provide the analysis on a scRNA-seq dataset from (REF) which can be loaded as a part of the tutorial notebook. Alternatively, the BAE analysis can be run on a CCIM constructed from ST data (REF) following the tutorials provided in (REF)."
   ]
  },
  {
   "cell_type": "markdown",
   "metadata": {},
   "source": [
    "## Setup:\n",
    "\n",
    "First we activate the environment and load all required packages for running the analysis."
   ]
  },
  {
   "cell_type": "code",
   "execution_count": null,
   "metadata": {},
   "outputs": [],
   "source": [
    "#---Activate the enviroment:\n",
    "using Pkg;\n",
    "\n",
    "Pkg.activate(\"../\");\n",
    "Pkg.instantiate();\n",
    "Pkg.status()\n",
    "\n",
    "#---Set the path to the project:\n",
    "projectpath = joinpath(@__DIR__, \"../\"); \n",
    "\n",
    "#---Load the BoostingAutoEncoder module:\n",
    "include(projectpath * \"/src/BAE.jl\");\n",
    "using .BoostingAutoEncoder\n",
    "\n",
    "#---Load required packages for this notebook:\n",
    "using RCall;\n",
    "using DelimitedFiles;\n",
    "using Plots;\n",
    "using Random;\n",
    "using StatsBase;\n",
    "using VegaLite;  \n",
    "using DataFrames;\n",
    "using StatsPlots;"
   ]
  },
  {
   "cell_type": "markdown",
   "metadata": {},
   "source": [
    "Next, we define the path to the directory, where the data that we want to analyze is located and specify, where we want to save the results."
   ]
  },
  {
   "cell_type": "code",
   "execution_count": null,
   "metadata": {},
   "outputs": [],
   "source": [
    "#---Set paths to the data directory and the figures directory:\n",
    "\n",
    "# Set the path to the data directory and create the folder if it does not already exist \n",
    "# (exchange the path below with the path to your data directory):\n",
    "datapath = projectpath * \"data/tutorial/\";\n",
    "if !isdir(datapath)\n",
    "    mkdir(datapath)\n",
    "end\n",
    "\n",
    "# Set the path to the figures directory and create the folder if it does not already exist \n",
    "# (exchange the path below with the path to where you want to store your results):\n",
    "figurespath = projectpath * \"figures/tutorial/\"\n",
    "if !isdir(figurespath)\n",
    "    mkdir(figurespath)\n",
    "end"
   ]
  },
  {
   "cell_type": "markdown",
   "metadata": {},
   "source": [
    "## Load the gene expression data:\n",
    "\n",
    "..."
   ]
  },
  {
   "cell_type": "markdown",
   "metadata": {},
   "source": [
    "### A) Starting with the scRNA-seq example data:\n",
    "\n",
    "...\n",
    "\n",
    "When downloading the data for the first time, it may take a few minutes! If the data has already been downloaded and a file with the downloaded data already exists in the directory where the data is stored, the download will be skipped."
   ]
  },
  {
   "cell_type": "code",
   "execution_count": null,
   "metadata": {},
   "outputs": [],
   "source": [
    "#---Load example scRNA-seq data:\n",
    "# Download a subset of the example rat lung data from \"https://zenodo.org/record/6846618/files/raredon_2019_rat.Robj\" and save it to the data directory:\n",
    "load_rat_scRNAseq_data();\n",
    "# Alternatively, you can download the full dataset by setting subset_data=false and define another directory for saving the data):\n",
    "#load_rat_scRNAseq_data(; data_path=datapath, subset_data=true);"
   ]
  },
  {
   "cell_type": "markdown",
   "metadata": {},
   "source": [
    "### B) Starting with the ST example data:\n",
    "\n",
    "...\n",
    "\n",
    "When downloading the data for the first time, it may take a few minutes! If the data has already been downloaded and a file with the downloaded data already exists in the directory where the data is stored, the download will be skipped."
   ]
  },
  {
   "cell_type": "code",
   "execution_count": null,
   "metadata": {},
   "outputs": [],
   "source": [
    "#---Load example ST data:\n",
    "# Download the example spatial mouse brain Visium data accessible via SeuratData and save it to the data directory:\n",
    "load_spatial_mousebrain_data();"
   ]
  },
  {
   "cell_type": "markdown",
   "metadata": {},
   "source": [
    "### C) Starting with an own Seurat object:\n",
    "\n",
    "If your scRNA-seq or ST data is already stored in a Seurat object, then you can already start the analysis and continue with running NICHES to construct a CCIM.\n",
    "Please make sure that cell type annotations are available in the meta.data of your Seurat object because NICHES requires them for the subsampling process.\n",
    "\n",
    "-> Continue with step 3."
   ]
  },
  {
   "cell_type": "markdown",
   "metadata": {},
   "source": [
    "### D) Starting with own data from other sources and preparing for the signaling pattern analysis workflow:\n",
    "\n",
    "In case you have your data in another format, which is not a Seurat object, currently as part of the workflow, we will construct a Seurat object with your data that can then be handed as input to the NICHES algorithm for constructing a CCIM."
   ]
  },
  {
   "cell_type": "code",
   "execution_count": null,
   "metadata": {},
   "outputs": [],
   "source": [
    "#---Tasic data CCIM construction:\n",
    "other_source_data = false;\n",
    "if other_source_data\n",
    "    X_norm_hvg = readdlm(datapath * \"../cortical_mouse/corticalMouseDataMat_allgenes_log1.txt\", Float32);\n",
    "    genenames = vec(readdlm(datapath * \"../cortical_mouse/genenames.txt\", String));\n",
    "    celltypes = vec(readdlm(datapath * \"../cortical_mouse/celltype.txt\", String));\n",
    "\n",
    "    # Alternatively:\n",
    "    #df = that consists of the cell_ids in a column and the (normalized) counts (cells x genes) in the other columns. Can be taken as input to the create_seurat_object function.\n",
    "\n",
    "    #---Summarize meta data information:\n",
    "    MD = MetaData(; featurename=genenames);\n",
    "    MD.obs_df[!, :Celltype] = celltypes;\n",
    "\n",
    "\n",
    "    #---Create a Seurat object:\n",
    "    create_seurat_object(X_norm_hvg', MD; \n",
    "        data_path=nothing, \n",
    "        file_name=nothing,\n",
    "        assay= \"RNA\",\n",
    "        normalize_data=false, \n",
    "        alra_imputation=false,\n",
    "        indents=\"Celltype\",\n",
    "        data_is_normalized=true\n",
    "    );\n",
    "end"
   ]
  },
  {
   "cell_type": "markdown",
   "metadata": {},
   "source": [
    "## Construct a CCIM with NICHES:\n",
    "\n",
    "NICHES can be used to compute CCIMs representing cell-to-cell communication. Alternatively, CCIMs can be constructed that represent cell-to-system or system-to-cell communiication. Each observation corresponds to a pair that represents either a cell pair with a sender and a receiver cell, a pair with a sender cell and a receiver system, or a sender system and a receiver cell.\n",
    "\n",
    "..."
   ]
  },
  {
   "cell_type": "code",
   "execution_count": null,
   "metadata": {},
   "outputs": [],
   "source": [
    "#---Run NICHES on scRNA-seq data:\n",
    "#filepath_expData = datapath * \"Rat_Seurat_sub.rds\";\n",
    "#run_NICHES_wrapper(filepath_expData; data_path=nothing, alra_imputation=false, assay=\"alra\", species=\"rat\", LR_database=\"fantom5\", cell_types=\"cell_types\");\n",
    "\n",
    "#---Run NICHES on ST data:\n",
    "filepath_expData = datapath * \"MouseBrain_Seurat.rds\";\n",
    "run_NICHES_wrapper(filepath_expData;\n",
    "    alra_imputation=true, \n",
    "    assay=\"alra\",\n",
    "    species=\"mouse\",\n",
    "    cell_types=\"seurat_clusters\",\n",
    "    position_x=\"x\",\n",
    "    position_y=\"y\",\n",
    "    n_neighbors=4,\n",
    "    meta_data_to_map=[\"orig.ident\",\"seurat_clusters\"],\n",
    "    CellToCell=false,\n",
    "    SystemToCell=false,\n",
    "    CellToSystem=false,\n",
    "    CellToCellSpatial=false,\n",
    "    NeighborhoodToCell=true,\n",
    "    CellToNeighborhood=false,\n",
    ");\n",
    "\n",
    "#---Run NICHES on other data:\n",
    "#filepath_expData = datapath * \"Seurat_object.rds\";\n",
    "#run_NICHES_wrapper(filepath_expData; data_path=nothing, alra_imputation=true, assay=\"alra\", species=\"mouse\", LR_database=\"fantom5\", cell_types=\"Celltype\");"
   ]
  },
  {
   "cell_type": "markdown",
   "metadata": {},
   "source": [
    "## Perform the BAE analysis of the CCIM:\n",
    "\n",
    "..."
   ]
  },
  {
   "cell_type": "markdown",
   "metadata": {},
   "source": [
    "### A) Loading and preprocessing the NICHES CCIM for the BAE analysis:\n",
    "\n",
    "..."
   ]
  },
  {
   "cell_type": "code",
   "execution_count": null,
   "metadata": {},
   "outputs": [],
   "source": [
    "#---Load the NICHES results:\n",
    "#filepath_CCIM = datapath * \"NICHES_CellToCell.rds\";\n",
    "#CCIM, CCIM_st, MD = load_CCIM_CtC(filepath_CCIM); #CellToCell\n",
    "\n",
    "#filepath_CCIM = datapath * \"NICHES_SystemToCell.rds\";\n",
    "#CCIM, CCIM_st, MD = load_CCIM_StC(filepath_CCIM); #SystemToCell\n",
    "\n",
    "#filepath_CCIM = datapath * \"NICHES_CellToSystem.rds\";\n",
    "#CCIM, CCIM_st, MD = load_CCIM_CtS(filepath_CCIM); #CellToSystem\n",
    "\n",
    "\n",
    "#---Load spatial NICHES results:\n",
    "#filepath_CCIM = datapath * \"NICHES_CellToCell_Spatial.rds\";\n",
    "#CCIM, CCIM_st, MD = load_CCIM_CtC_Spatial(filepath_CCIM); #CellToCell (spatial)\n",
    "\n",
    "filepath_CCIM = datapath * \"NICHES_NeighborhoodToCell.rds\";\n",
    "CCIM, CCIM_st, MD = load_CCIM_NtC(filepath_CCIM); #NeighborhoolToCell (spatial)\n",
    "\n",
    "#filepath_CCIM = datapath * \"NICHES_CellToNeighborhood.rds\";\n",
    "#CCIM, CCIM_st, MD = load_CCIM_CtN(filepath_CCIM); #CellToNeighborhood (spatial)"
   ]
  },
  {
   "cell_type": "markdown",
   "metadata": {},
   "source": [
    "### B) Set hyperparameters for the BAE training:\n",
    "\n",
    "Befor we train a BAE on the data, we need to specify the hyperparameters for training. \n",
    "..."
   ]
  },
  {
   "cell_type": "code",
   "execution_count": null,
   "metadata": {},
   "outputs": [],
   "source": [
    "#---Define hyperparameters for training a BAE:\n",
    "#HP = Hyperparameters(zdim=30, n_restarts=3, epochs=20, batchsize=2^11, η=0.01, λ=0.1, ϵ=0.01, M=1);# Rat lung scRNA-seq data\n",
    "HP = Hyperparameters(zdim=15, n_restarts=3, epochs=100, batchsize=2^9, η=0.01, λ=0.1, ϵ=0.01, M=1); # Spatial mouse brain data \n",
    "#HP = Hyperparameters(zdim=8, n_restarts=3, epochs=50, batchsize=2^9, η=0.01, λ=0.1, ϵ=0.01, M=1); #Mouse brain scRNA-seq data\n",
    "\n",
    "#---Hyperparameters for reconstructing the published results:\n",
    "#HP = Hyperparameters(zdim=30, n_restarts=1, epochs=2000, batchsize=2^12, η=0.01, λ=0.1, ϵ=0.001, M=1); "
   ]
  },
  {
   "cell_type": "markdown",
   "metadata": {},
   "source": [
    "### C) Define the neural network architecture for the BAE:\n",
    "\n",
    "Next, we create the neural network architecture for the BAE. \n",
    "..."
   ]
  },
  {
   "cell_type": "code",
   "execution_count": null,
   "metadata": {},
   "outputs": [],
   "source": [
    "#---Define the decoder architecture:\n",
    "p = size(CCIM_st, 2);\n",
    "decoder = generate_BAEdecoder(p, HP; soft_clustering=true);\n",
    "\n",
    "#---Initialize the BAE model:\n",
    "BAE = BoostingAutoencoder(; coeffs=zeros(Float32, p, HP.zdim), decoder=decoder, HP=HP);\n",
    "summary(BAE)"
   ]
  },
  {
   "cell_type": "markdown",
   "metadata": {},
   "source": [
    "### D) Train the BAE:\n",
    "\n",
    "We are now ready to train the model."
   ]
  },
  {
   "cell_type": "code",
   "execution_count": null,
   "metadata": {},
   "outputs": [],
   "source": [
    "#---Train the BAE model:\n",
    "@time begin\n",
    "    output_dict = train_BAE!(CCIM_st, BAE; MD=MD, track_coeffs=true, save_data=false, path=nothing);\n",
    "end\n",
    "\n",
    "@info \"Minimum Trainloss at: $(argmin(output_dict[\"trainloss\"]))\""
   ]
  },
  {
   "cell_type": "markdown",
   "metadata": {},
   "source": [
    "## Result visualization and data saving:\n",
    "\n",
    "..."
   ]
  },
  {
   "cell_type": "code",
   "execution_count": null,
   "metadata": {},
   "outputs": [],
   "source": [
    "#---Generate a custom color scheme of distinct colors:\n",
    "n_cols = 2 * BAE.HP.zdim; \n",
    "custom_colorscheme = [hsl_to_hex(i / n_cols, 0.7, 0.5 + 0.1 * sin(i * 4π / BAE.HP.zdim)) for i in 1:n_cols]; \n",
    "custom_colorscheme_shuffled = shuffle(custom_colorscheme);\n",
    "\n",
    "#----Compute 2D UMAP embedding of the learned BAE latent representation and add to the metadata:\n",
    "BAE.UMAP = generate_umap(BAE.Z');\n",
    "MD.obs_df[!, :UMAP1] = BAE.UMAP[:, 1];\n",
    "MD.obs_df[!, :UMAP2] = BAE.UMAP[:, 2];"
   ]
  },
  {
   "cell_type": "code",
   "execution_count": null,
   "metadata": {},
   "outputs": [],
   "source": [
    "#---Plot the mean trainloss per epoch:\n",
    "mean_trainlossPerEpoch = output_dict[\"trainloss\"];\n",
    "loss_plot = plot(1:length(mean_trainlossPerEpoch), mean_trainlossPerEpoch,\n",
    "     title = \"Mean train loss per epoch\",\n",
    "     xlabel = \"Epoch\",\n",
    "     ylabel = \"Loss\",\n",
    "     legend = true,\n",
    "     label = \"Train loss\",\n",
    "     linecolor = :red,\n",
    "     linewidth = 2\n",
    ");\n",
    "savefig(loss_plot, figurespath * \"/Trainloss_BAE.png\");\n",
    "loss_plot"
   ]
  },
  {
   "cell_type": "code",
   "execution_count": null,
   "metadata": {},
   "outputs": [],
   "source": [
    "#---Plot the Sparsity score per epoch:\n",
    "sparsity_level = output_dict[\"sparsity\"];\n",
    "loss_plot = plot(1:length(sparsity_level), sparsity_level,\n",
    "     title = \"Sparsity level per epoch\",\n",
    "     xlabel = \"Epoch\",\n",
    "     ylabel = \"Sparsity\",\n",
    "     legend = true,\n",
    "     label = \"Sparsity\",\n",
    "     linecolor = :orange,\n",
    "     linewidth = 2\n",
    ");\n",
    "savefig(loss_plot, figurespath * \"/Sparsity_BAE.png\");\n",
    "loss_plot"
   ]
  },
  {
   "cell_type": "code",
   "execution_count": null,
   "metadata": {},
   "outputs": [],
   "source": [
    "#---Plot the disentanglement score per epoch:\n",
    "entanglement_score = output_dict[\"entanglement\"];\n",
    "loss_plot = plot(1:length(entanglement_score), entanglement_score,\n",
    "     title = \"Entanglement score per epoch\",\n",
    "     xlabel = \"Epoch\",\n",
    "     ylabel = \"Entanglement of dimensions\",\n",
    "     legend = true,\n",
    "     label = \"Entanglement\",\n",
    "     linecolor = :orange,\n",
    "     linewidth = 2\n",
    ");\n",
    "savefig(loss_plot, figurespath * \"/Entanglement_BAE.png\");\n",
    "loss_plot"
   ]
  },
  {
   "cell_type": "code",
   "execution_count": null,
   "metadata": {},
   "outputs": [],
   "source": [
    "#---Plot the clustering score per epoch:\n",
    "clustering_score = output_dict[\"clustering\"];\n",
    "loss_plot = plot(1:length(clustering_score), clustering_score,\n",
    "     title = \"Clustering score per epoch\",\n",
    "     xlabel = \"Epoch\",\n",
    "     ylabel = \"Clustering score\",\n",
    "     legend = true,\n",
    "     label = \"Score\",\n",
    "     linecolor = :orange,\n",
    "     linewidth = 2\n",
    ");\n",
    "savefig(loss_plot, figurespath * \"/ClusteringScore_BAE.png\");\n",
    "loss_plot"
   ]
  },
  {
   "cell_type": "code",
   "execution_count": null,
   "metadata": {},
   "outputs": [],
   "source": [
    "#---Create scatter plots of the top selected genes per latent dimension:\n",
    "if !isdir(figurespath * \"/TopFeaturesLatentDim\")\n",
    "    # Create the folder if it does not exist\n",
    "    mkdir(figurespath * \"/TopFeaturesLatentDim\")\n",
    "end\n",
    "for dim in 1:BAE.HP.zdim\n",
    "    Featurescatter_plot = normalizedFeatures_scatterplot(BAE.coeffs[:, dim], MD.featurename, dim; top_n=10)\n",
    "    savefig(Featurescatter_plot, figurespath * \"/TopFeaturesLatentDim/\" * \"BAE_dim$(dim)_topInteractions.png\")\n",
    "end"
   ]
  },
  {
   "cell_type": "code",
   "execution_count": null,
   "metadata": {},
   "outputs": [],
   "source": [
    "#---Create scatter plots of the top selected genes per cluster:\n",
    "if !isdir(figurespath * \"/TopFeaturesCluster\")\n",
    "    # Create the folder if it does not exist\n",
    "    mkdir(figurespath * \"/TopFeaturesCluster\")\n",
    "end\n",
    "for key in keys(MD.Top_features)\n",
    "    if length(MD.Top_features[key].Scores) > 0\n",
    "        FeatureScatter_plot = TopFeaturesPerCluster_scatterplot(MD.Top_features[key], key; top_n=10)\n",
    "        savefig(FeatureScatter_plot, figurespath * \"/TopFeaturesCluster/\" * \"BAE_Cluster$(key)_Interactions.png\")\n",
    "    end\n",
    "end"
   ]
  },
  {
   "cell_type": "code",
   "execution_count": null,
   "metadata": {},
   "outputs": [],
   "source": [
    "#---Plot the absolute values of Pearson correlation coefficients between latent dimensions:\n",
    "vegaheatmap(abs.(cor(BAE.Z, dims=2)); \n",
    "    path=figurespath * \"cor_latentDimensions_BAE.png\", \n",
    "    Title=\"Absolute correlations of latent dimensions\",\n",
    "    xlabel=\"Latent dimension\", \n",
    "    ylabel=\"Latent dimension\",\n",
    "    legend_title=\"Value\",\n",
    "    scheme=\"orangered\",\n",
    "    domain_mid=nothing,\n",
    "    save_plot=true,\n",
    "    Width=500, \n",
    "    Height=500\n",
    ")"
   ]
  },
  {
   "cell_type": "code",
   "execution_count": null,
   "metadata": {},
   "outputs": [],
   "source": [
    "#---Plot the spearman correlation between the latent dimensions:\n",
    "vegaheatmap(abs.(corspearman(BAE.Z')); \n",
    "    path=figurespath * \"spearman_cor_latentDimensions_BAE.png\", \n",
    "    Title=\"Absolute Spearman rank correlations of latent dimensions\",\n",
    "    xlabel=\"Latent dimension\", \n",
    "    ylabel=\"Latent dimension\",\n",
    "    legend_title=\"Value\",\n",
    "    scheme=\"orangered\",\n",
    "    domain_mid=nothing,\n",
    "    save_plot=true,\n",
    "    Width=500, \n",
    "    Height=500\n",
    ")"
   ]
  },
  {
   "cell_type": "code",
   "execution_count": null,
   "metadata": {},
   "outputs": [],
   "source": [
    "#---Plot boxplots of the latent activations of cells per latent dimension:\n",
    "plot_row_boxplots(BAE.Z; xlabel=\"Latent dimension\", ylabel=\"Cell activation\", saveplot=true, path=figurespath * \"/BAE_Z_boxplot.png\")"
   ]
  },
  {
   "cell_type": "code",
   "execution_count": null,
   "metadata": {},
   "outputs": [],
   "source": [
    "#---Plot a heatmap of the cluster probabilities of cells:\n",
    "Cluster_df = DataFrame(BAE.Z_cluster', :auto);\n",
    "Cluster_df[!, :Cluster] = copy(MD.obs_df.Cluster);\n",
    "sort!(Cluster_df, :Cluster);\n",
    "\n",
    "#ClusterProbabilities_plot = heatmap(Matrix(Cluster_df[:, 1:end-1]), ylabel=\"Cell\", title=\"Cluster probabilities\", color=:dense, xlabel=\"Cluster\", size=(700, 500));\n",
    "#savefig(ClusterProbabilities_plot, figurespath * \"/clusterProbabilities_BAE_plots.svg\");\n",
    "\n",
    "vegaheatmap(Matrix(Cluster_df[:, 1:end-1]); #!Currently does not work if zdim > 30 ... (in that case use the heatmap function from Plots.jl above)\n",
    "    path=figurespath * \"clusterProbabilities_BAE.png\", \n",
    "    Title=\"Cluster probabilities of cells\",\n",
    "    xlabel=\"Cluster\", \n",
    "    ylabel=\"Cell\",\n",
    "    legend_title=\"Probability\",\n",
    "    scheme=\"purpleblue\",\n",
    "    domain_mid=nothing,\n",
    "    save_plot=true\n",
    ")"
   ]
  },
  {
   "cell_type": "code",
   "execution_count": null,
   "metadata": {},
   "outputs": [],
   "source": [
    "#---Plot the UMAP embedding of the learned BAE latent representation of cell pairs colored by the sending-receiving type pair:\n",
    "if \"CellTypePair\" in names(MD.obs_df)\n",
    "    pl = vegascatterplot(Matrix(MD.obs_df[:, [:UMAP1, :UMAP2]]), MD.obs_df.CellTypePair; \n",
    "        path=figurespath * \"CellTypePair_(BAE)umap.png\",\n",
    "        legend_title=\"Sender-Receiver\",\n",
    "        color_field=\"labels:o\",\n",
    "        scheme=nothing,\n",
    "        domain_mid=nothing,\n",
    "        range=custom_colorscheme_shuffled,\n",
    "        save_plot=true,\n",
    "        marker_size=\"5\"\n",
    "    )\n",
    "\n",
    "    display(pl)\n",
    "    \n",
    "else\n",
    "    @warn \"CellTypePair not found in metadata!\"\n",
    "end"
   ]
  },
  {
   "cell_type": "code",
   "execution_count": null,
   "metadata": {},
   "outputs": [],
   "source": [
    "#---Plot the UMAP embedding of the learned BAE latent representation colored by the cluster labels:\n",
    "vegascatterplot(Matrix(MD.obs_df[:, [:UMAP1, :UMAP2]]), MD.obs_df.Cluster; \n",
    "    path=figurespath * \"Cluster_(BAE)umap.png\",\n",
    "    legend_title=\"Cluster\",\n",
    "    color_field=\"labels:o\",\n",
    "    scheme=nothing,\n",
    "    domain_mid=nothing,\n",
    "    range=custom_colorscheme_shuffled,\n",
    "    save_plot=true,\n",
    "    marker_size=\"5\"\n",
    ")"
   ]
  },
  {
   "cell_type": "code",
   "execution_count": null,
   "metadata": {},
   "outputs": [],
   "source": [
    "#---Plot the UMAP embedding of the learned BAE latent representation colored by the sender cell types:\n",
    "if \"SenderType\" in names(MD.obs_df)\n",
    "    pl = vegascatterplot(Matrix(MD.obs_df[:, [:UMAP1, :UMAP2]]), MD.obs_df.SenderType; \n",
    "        path=figurespath * \"SenderType_(BAE)umap.png\",\n",
    "        legend_title=\"Sender\",\n",
    "        color_field=\"labels:o\",\n",
    "        scheme=\"category20\",\n",
    "        domain_mid=nothing,\n",
    "        range=nothing, #custom_colorscheme[[1, 3, 14, 26, 31, 36, 42, 45, 53]],\n",
    "        save_plot=true,\n",
    "        marker_size=\"5\"\n",
    "    )\n",
    "\n",
    "    display(pl)\n",
    "    \n",
    "else\n",
    "    @warn \"MetaData has no column named: SenderType.\"\n",
    "end"
   ]
  },
  {
   "cell_type": "code",
   "execution_count": null,
   "metadata": {},
   "outputs": [],
   "source": [
    "#---Plot the UMAP embedding of the learned BAE latent representation colored by the sender cell types:\n",
    "if \"ReceiverType\" in names(MD.obs_df)\n",
    "    pl = vegascatterplot(Matrix(MD.obs_df[:, [:UMAP1, :UMAP2]]), MD.obs_df.ReceiverType; \n",
    "        path=figurespath * \"ReceiverType_(BAE)umap.png\",\n",
    "        legend_title=\"Receiver\",\n",
    "        color_field=\"labels:o\",\n",
    "        scheme=\"category20\",\n",
    "        domain_mid=nothing,\n",
    "        range=nothing, #custom_colorscheme[[1, 3, 14, 26, 31, 36, 42, 45, 53]],\n",
    "        save_plot=true,\n",
    "        marker_size=\"5\"\n",
    "    )\n",
    "\n",
    "    display(pl)\n",
    "    \n",
    "else\n",
    "    @warn \"MetaData has no column named: ReceiverType.\"\n",
    "end"
   ]
  },
  {
   "cell_type": "code",
   "execution_count": null,
   "metadata": {},
   "outputs": [],
   "source": [
    "#---Create scatter plots of the UMAP embedding of the learned BAE latent representation colored by activations in different latent dimensions:\n",
    "if !isdir(figurespath * \"/UMAPplotsLatDims\")\n",
    "    # Create the folder if it does not exist\n",
    "    mkdir(figurespath * \"/UMAPplotsLatDims\")\n",
    "end\n",
    "create_colored_vegascatterplots(Matrix(MD.obs_df[:, [:UMAP1, :UMAP2]]), BAE.Z;\n",
    "    path=figurespath * \"/UMAPplotsLatDims/\",\n",
    "    filename=\"Rat_BAE_dim\",\n",
    "    filetype=\"scatter.png\",\n",
    "    legend_title=\"Activation\",\n",
    "    color_field=\"labels:q\",\n",
    "    scheme=\"blueorange\", \n",
    "    domain_mid=0,\n",
    "    range=nothing,\n",
    "    save_plot=true,\n",
    "    marker_size=\"10\"\n",
    ")"
   ]
  },
  {
   "cell_type": "code",
   "execution_count": null,
   "metadata": {},
   "outputs": [],
   "source": [
    "#---Create scatter plots of the UMAP embedding of the learned BAE latent representation colored by activations for different clusters:\n",
    "if !isdir(figurespath * \"/UMAPplotsCluster\")\n",
    "    # Create the folder if it does not exist\n",
    "    mkdir(figurespath * \"/UMAPplotsCluster\")\n",
    "end\n",
    "#Bright color:\n",
    "#color_range = [\n",
    "#    \"#fff5f5\", \"#ffe0e0\", \"#ffcccc\", \"#ffb8b8\", \"#ffa3a3\", \"#ff8f8f\", \"#ff7a7a\", \"#ff6666\",\n",
    "#    \"#ff5252\", \"#ff3d3d\", \"#ff2929\", \"#ff1414\", \"#ff0000\", \"#e50000\", \"#cc0000\", \"#b20000\",\n",
    "#    \"#990000\", \"#7f0000\", \"#660000\", \"#4c0000\", \"#330000\"\n",
    "#];\n",
    "#Dark color:\n",
    "color_range = [\n",
    "    \"#000000\", \"#220022\", \"#440044\", \"#660066\", \"#880088\", \"#aa00aa\", \"#cc00cc\", \"#ee00ee\",\n",
    "    \"#ff00ff\", \"#ff19ff\", \"#ff33ff\", \"#ff4cff\", \"#ff66ff\", \"#ff7fff\", \"#ff99ff\", \"#ffb2ff\",\n",
    "    \"#ffccff\", \"#ffe5ff\", \"#ffccf5\", \"#ff99eb\", \"#ff66e0\"\n",
    "]\n",
    "create_colored_vegascatterplots(Matrix(MD.obs_df[:, [:UMAP1, :UMAP2]]), BAE.Z_cluster;\n",
    "    path=figurespath * \"/UMAPplotsCluster/\",\n",
    "    filename=\"Rat_BAE_dim\",\n",
    "    filetype=\"scatter.png\",\n",
    "    legend_title=\"Activation\",\n",
    "    color_field=\"labels:q\",\n",
    "    scheme=nothing, \n",
    "    domain_mid=nothing,\n",
    "    range=color_range,\n",
    "    save_plot=true,\n",
    "    marker_size=\"10\"\n",
    ")"
   ]
  },
  {
   "cell_type": "code",
   "execution_count": null,
   "metadata": {},
   "outputs": [],
   "source": [
    "#---Create scatter plots of the UMAP embedding of the learned BAE latent representation colored by expression levels of top selected genes for different clusters:\n",
    "if !isdir(figurespath * \"/FeaturePlots\")\n",
    "    # Create the folder if it does not exist\n",
    "    mkdir(figurespath * \"/FeaturePlots\")\n",
    "end\n",
    "#Bright color:\n",
    "#color_range = [\n",
    "#    \"#fff5f5\", \"#ffe0e0\", \"#ffcccc\", \"#ffb8b8\", \"#ffa3a3\", \"#ff8f8f\", \"#ff7a7a\", \"#ff6666\",\n",
    "#    \"#ff5252\", \"#ff3d3d\", \"#ff2929\", \"#ff1414\", \"#ff0000\", \"#e50000\", \"#cc0000\", \"#b20000\",\n",
    "#    \"#990000\", \"#7f0000\", \"#660000\", \"#4c0000\", \"#330000\"\n",
    "#];\n",
    "#Dark color:\n",
    "color_range = [\n",
    "    \"#000000\", \"#220022\", \"#440044\", \"#660066\", \"#880088\", \"#aa00aa\", \"#cc00cc\", \"#ee00ee\",\n",
    "    \"#ff00ff\", \"#ff19ff\", \"#ff33ff\", \"#ff4cff\", \"#ff66ff\", \"#ff7fff\", \"#ff99ff\", \"#ffb2ff\",\n",
    "    \"#ffccff\", \"#ffe5ff\", \"#ffccf5\", \"#ff99eb\", \"#ff66e0\"\n",
    "]\n",
    "FeaturePlots(MD.Top_features, MD.featurename, CCIM, Matrix(MD.obs_df[:, [:UMAP1, :UMAP2]]); \n",
    "    top_n=5,\n",
    "    marker_size=\"10\", \n",
    "    fig_type=\".png\",\n",
    "    path=figurespath * \"/FeaturePlots/\",\n",
    "    legend_title=\"log1p\",\n",
    "    color_field=\"labels:q\",\n",
    "    scheme=nothing, \n",
    "    domain_mid=nothing,\n",
    "    range=color_range\n",
    ")"
   ]
  },
  {
   "cell_type": "code",
   "execution_count": null,
   "metadata": {},
   "outputs": [],
   "source": [
    "#---Create a coefficient plots for visually inspecting coefficient update trajectories for the last run of the training:\n",
    "if haskey(output_dict, \"coefficients\")\n",
    "    if !isdir(figurespath * \"/CoefficientsPlots\")\n",
    "        # Create the folder if it does not exist\n",
    "        mkdir(figurespath * \"/CoefficientsPlots\")\n",
    "    end\n",
    "    for dim in 1:BAE.HP.zdim\n",
    "        pl = track_coefficients(output_dict[\"coefficients\"], dim; iters=nothing, xscale=:log10)\n",
    "        savefig(pl, figurespath * \"/CoefficientsPlots/CoefficientsPlot_BAE_dim$(dim).png\")\n",
    "    end\n",
    "else \n",
    "    @warn \"No coefficient trajectories were saved during training.\"\n",
    "end"
   ]
  }
 ],
 "metadata": {
  "kernelspec": {
   "display_name": "Julia 1.9.3",
   "language": "julia",
   "name": "julia-1.9"
  },
  "language_info": {
   "file_extension": ".jl",
   "mimetype": "application/julia",
   "name": "julia",
   "version": "1.9.3"
  }
 },
 "nbformat": 4,
 "nbformat_minor": 2
}
