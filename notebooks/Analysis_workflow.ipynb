{
 "cells": [
  {
   "cell_type": "markdown",
   "metadata": {},
   "source": [
    "# Tutorial Notebook: Analysis workflow for single-cell-resolved interaction data with the Boosting Autoencoder (BAE)\n",
    "\n",
    "This Jupyter notebook demonstrates a workflow for analyzing interaction patterns of single-cell cell-cell interaction (CCI) data with the [Boosting Autoencoder (BAE)](https://github.com/NiklasBrunn/BoostingAutoencoder). \n",
    "\n",
    "\n",
    "### The workflow is devided in five main steps:\n",
    "\n",
    "- [Setup](#Setup)\n",
    "- [Load the gene expression data](#Load-the-gene-expression-data)\n",
    "- [Construct a CCIM with NICHES](#Construct-a-CCIM-with-NICHES)\n",
    "- [Perform the BAE analysis of the CCIM](#Perform-the-BAE-analysis-of-the-CCIM)\n",
    "- [Result visualization and saving plots](#Result-visualization-and-saving-plots)\n",
    "\n",
    "Based on either single-cell RNA sequencing (scRNA-seq) or spatial transcriptomics (ST) data, we chose [NICHES](https://github.com/msraredon/NICHES) for reconstructing CCIs based on known ligand-receptor interactions from the [FANTOM5](https://fantom.gsc.riken.jp/5/) or [OmniPath](https://omnipathdb.org) database. The reconstructed CCIs are shape of a cel-cell interaction matrix (CCIM), where observations correspond to cell pairs representing edges in a directed communication graph, where nodes correspond to cells. The features of the CCIM are the selected ligand-receptor interactions by NICHES and represent the edge features in the communication graph.\n",
    "The resulting CCIM can then be passed to the BAE for interaction pattern analysis of cell pairs. \n",
    "\n",
    "\n",
    "To run the workflow you can either use one of the example data that can be loaded within the notebook or load and process your own single-cell RNA sequencing (scRNA-seq) or spatial transcriptomics (ST) data. In the [Load the gene expression data](#Load-the-gene-expression-data) section, we describe how the example data can be loaded for an exemplary analysis, as well as provide details about how to load and prepare your own data for the analysis.\n",
    "\n",
    "The notebook is written in [Julia v1.9.3](https://julialang.org/downloads/oldreleases/). Since NICHES is implemented using the R programming language, we provide wrapper functions for calling NICHES directly in this notebook through julia functions."
   ]
  },
  {
   "cell_type": "markdown",
   "metadata": {},
   "source": [
    "## Setup:\n",
    "\n",
    "First you can activate the Julia environment and load all required packages for running the interaction pattern analysis workflow. Calling the following cell for the first time will download and precompile all the required packages and this may take a few minutes."
   ]
  },
  {
   "cell_type": "code",
   "execution_count": null,
   "metadata": {},
   "outputs": [],
   "source": [
    "#---Activate the enviroment:\n",
    "using Pkg;\n",
    "\n",
    "Pkg.activate(\"../\");\n",
    "Pkg.instantiate();\n",
    "Pkg.status()\n",
    "\n",
    "#---Set the path to the project:\n",
    "projectpath = joinpath(@__DIR__, \"../\"); \n",
    "\n",
    "#---Load the BoostingAutoEncoder module:\n",
    "include(projectpath * \"/src/BAE.jl\");\n",
    "using .BoostingAutoEncoder\n",
    "\n",
    "#---Load required packages for this notebook:\n",
    "using RCall, DelimitedFiles, Plots, Random, StatsBase, VegaLite, DataFrames, StatsPlots;"
   ]
  },
  {
   "cell_type": "markdown",
   "metadata": {},
   "source": [
    "Next, you can set the path to the directory, where the data that you want to analyze is located and specify, where you want to save the results. Per default, there are two folders created by running the following code cell, one for loading and storing the analyzed data and one for storing the created result figures. However, you can alternatively change the paths below."
   ]
  },
  {
   "cell_type": "code",
   "execution_count": null,
   "metadata": {},
   "outputs": [],
   "source": [
    "#---Set paths to the data directory and the figures directory:\n",
    "\n",
    "# Set the path to the data directory and create the folder if it does not already exist \n",
    "# (exchange the path below with the path to your data directory):\n",
    "datapath = projectpath * \"data/tutorial/\";\n",
    "if !isdir(datapath)\n",
    "    mkdir(datapath)\n",
    "end\n",
    "\n",
    "# Set the path to the figures directory and create the folder if it does not already exist \n",
    "# (exchange the path below with the path to where you want to store your results):\n",
    "figurespath = projectpath * \"figures/tutorial/\"\n",
    "if !isdir(figurespath)\n",
    "    mkdir(figurespath)\n",
    "end"
   ]
  },
  {
   "cell_type": "markdown",
   "metadata": {},
   "source": [
    "## Load the gene expression data:\n",
    "\n",
    "In this section you can either choose to run the analysis workflow with some example data (scRNA-seq or ST) or upload your own data. \n",
    "\n",
    "Currently, the following options are supported:\n",
    "\n",
    "- We provide access to two different example data set that were also used as an example in the [NICHES paper](https://academic.oup.com/bioinformatics/article/39/1/btac775/6865029). The first example data is [scRNA-seq data from rat lungs](#A.-Starting-with-the-scRNA-seq-example-data) (A). The second example data is [spot-based ST data from the mouse cortex](#B.-Starting-with-the-ST-example-data) (B).\n",
    "\n",
    "- Since NICHES is already implemented in R and part of our proposed workflow, you can alternatively start by [directly running NICHES on your data](#C.-Starting-with-an-own-Seurat-object) if it is already stored as a Seurat object (C).\n",
    "\n",
    "- In case you have your data stored as an anndata object or in another format, another option to run the workflow is to [manually extract and load the gene expression matrix, the relevant meta data and the gene names](#D.-Starting-with-own-data-from-other-sources-and-preparing-for-the-signaling-pattern-analysis-workflow) (D). "
   ]
  },
  {
   "cell_type": "markdown",
   "metadata": {},
   "source": [
    "### A. Starting with the scRNA-seq example data:\n",
    "\n",
    "As a first example you can load [rat lung scRNA-seq data](https://www.science.org/doi/10.1126/sciadv.aaw3851) from [https://zenodo.org/record/6846618/files/raredon_2019_rat.Robj](https://zenodo.org/record/6846618/files/raredon_2019_rat.Robj), which was also used in the original NICHES publication. You can download directly and save the data locally as a Seurat object by running the following cell without the need of downloading the data manually. To save the data to another directory, you can specify a path in the `data_path` argument of the `load_rat_scRNAseq_data()` function.\n",
    "\n",
    "For the cell-cell interation pattern analysis workflow with the BAE, we follow the steps of the [R vignette](https://github.com/msraredon/NICHES/blob/master/vignettes/03%20Rat%20Alveolus.Rmd) provided by the NICHE authors and subset the data to consist only of the cell types that are known to be spatially close to each other. However, you can also acsess the whole data by setting `subset_data=false` in the `load_rat_scRNAseq_data()` function. \n",
    "The data is already preprocessed including cell- and gene filtering, as well as normalization and transformation. In addition, [ALRA](https://www.nature.com/articles/s41467-021-27729-z) imputation was applied to impute missing values. \n",
    "\n",
    "When downloading the data for the first time, it may take a few minutes. If the data has already been downloaded and a file with the downloaded data already exists in the directory where the data is stored, the download will be skipped."
   ]
  },
  {
   "cell_type": "code",
   "execution_count": null,
   "metadata": {},
   "outputs": [],
   "source": [
    "#---Load example scRNA-seq data:\n",
    "# Download a subset of the example rat lung data:\n",
    "tSNE_embedding, celltypes = load_rat_scRNAseq_data(; transfer_data=true)[[2, 3, 4]];\n",
    "\n",
    "# Alternatively, you can download the full dataset by setting subset_data=false and define another directory for saving the data):\n",
    "#tSNE_embedding, celltypes = load_rat_scRNAseq_data(; data_path=datapath, subset_data=false, transfer_data=true);"
   ]
  },
  {
   "cell_type": "markdown",
   "metadata": {},
   "source": [
    "For demonstration purposes, you can visualize the data using the pre-computed [tSNE](#https://www.jmlr.org/papers/volume9/vandermaaten08a/vandermaaten08a.pdf) coordinates in the Seurat object. Note that tSNE was run on the entire data, but only the cells of the selected types are shown here."
   ]
  },
  {
   "cell_type": "code",
   "execution_count": null,
   "metadata": {},
   "outputs": [],
   "source": [
    "vegascatterplot(tSNE_embedding, celltypes; \n",
    "    path=figurespath * \"ratLung_data_tSNE.png\",\n",
    "    legend_title=\"Cell type\",\n",
    "    Title=\"tSNE embedding of rat lung cells\",\n",
    "    color_field=\"labels:o\",\n",
    "    scheme=\"category10\",\n",
    "    domain_mid=nothing,\n",
    "    range=nothing,\n",
    "    save_plot=true,\n",
    "    marker_size=\"10\"\n",
    ")"
   ]
  },
  {
   "cell_type": "markdown",
   "metadata": {},
   "source": [
    "### B. Starting with the ST example data:\n",
    "\n",
    "`ToDo:`\n",
    "\n",
    "You can also use data from a ST experiment for the interaction pattern analysis workflow. As an example you can load the [10X Visium mouse brain data]() \n",
    "\n",
    "When downloading the data for the first time, it may take a few minutes! If the data has already been downloaded and a file with the downloaded data already exists in the directory where the data is stored, the download will be skipped."
   ]
  },
  {
   "cell_type": "code",
   "execution_count": null,
   "metadata": {},
   "outputs": [],
   "source": [
    "#---Load example ST data:\n",
    "# Download the example spatial mouse brain Visium data accessible via SeuratData and save it to the data directory:\n",
    "load_spatial_mousebrain_data();"
   ]
  },
  {
   "cell_type": "markdown",
   "metadata": {},
   "source": [
    "### C. Starting with an own Seurat object:\n",
    "\n",
    "If your scRNA-seq or ST data is already stored in a Seurat object, then you can already start the analysis and continue with running NICHES to construct a CCIM.\n",
    "Please make sure that cell type annotations are available in the meta.data of your Seurat object (in case of scRNA-seq data), because NICHES requires them for the subsampling process.\n",
    "\n",
    "- >Continue by [running NICHES](#Construct-a-CCIM-with-NICHES) on your data to construct a CCIM."
   ]
  },
  {
   "cell_type": "markdown",
   "metadata": {},
   "source": [
    "### D. Starting with own data from other sources and preparing for the signaling pattern analysis workflow:\n",
    "\n",
    "`ToDo:`\n",
    "\n",
    "In case you have your data in another format, which is not a Seurat object, currently as part of the workflow, we will construct a Seurat object with your data that can then be handed as input to the NICHES algorithm for constructing a CCIM."
   ]
  },
  {
   "cell_type": "code",
   "execution_count": null,
   "metadata": {},
   "outputs": [],
   "source": [
    "#---Tasic data CCIM construction:\n",
    "other_source_data = false;\n",
    "if other_source_data\n",
    "    X_norm_hvg = readdlm(datapath * \"../cortical_mouse/corticalMouseDataMat_allgenes_log1.txt\", Float32);\n",
    "    genenames = vec(readdlm(datapath * \"../cortical_mouse/genenames.txt\", String));\n",
    "    celltypes = vec(readdlm(datapath * \"../cortical_mouse/celltype.txt\", String));\n",
    "\n",
    "    # Alternatively:\n",
    "    #df = that consists of the cell_ids in a column and the (normalized) counts (cells x genes) in the other columns. Can be taken as input to the create_seurat_object function.\n",
    "\n",
    "    #---Summarize meta data information:\n",
    "    MD = MetaData(; featurename=genenames);\n",
    "    MD.obs_df[!, :Celltype] = celltypes;\n",
    "\n",
    "\n",
    "    #---Create a Seurat object:\n",
    "    create_seurat_object(X_norm_hvg', MD; \n",
    "        data_path=nothing, \n",
    "        file_name=nothing,\n",
    "        assay= \"RNA\",\n",
    "        normalize_data=false, \n",
    "        alra_imputation=false,\n",
    "        indents=\"Celltype\",\n",
    "        data_is_normalized=true\n",
    "    );\n",
    "end"
   ]
  },
  {
   "cell_type": "markdown",
   "metadata": {},
   "source": [
    "## Construct a CCIM with NICHES:\n",
    "\n",
    "NICHES can be used to compute high-dimensional CCIMs consisting of cell-to-cell interaction scores for several ligand-receptor interactions from a database. In addition, NICHES can construct CCIMs that represent cell-to-system or system-to-cell communiication. Each observation corresponds to a pair that represents either a cell pair with a sender and a receiver cell, a pair with a sender cell and a receiver system, or a sender system and a receiver cell (more details are provided in our Supplementary material and in the original [NICHES paper](#https://academic.oup.com/bioinformatics/article/39/1/btac775/6865029)).\n",
    "\n",
    "To run NICHES on your data from the previous step to create and save a CCIM together with the desired meta data, you can set the filepath below to your data, as well as define a datapath. We created a wrapper Julia function that calls the NICHES R function using the Julia package RCall. The function requires the filepath as an input and you can specify optional arguments to specify which output the algorithm shall compute and what meta data it shall use.\n",
    "\n",
    "NICHES computes CCIMs based on normalized counts. Therefore, please make sure that your data is normalized. If this is not the case, you can normalize your data by setting the optional function argument `normalize_data=true`. This will call the Seurat function `NormalizeData()` on your Seurat object and compute *log1p*-normalized counts within the Julia wrapper function `run_NICHES_wrapper()`.\n",
    "\n",
    "Optionally, you can run ALRA imputation on your data to reduce the sparsity level of the resulting CCIM that can arise when the sparsity level in the original gene expression data is extremely high. To do so, you can set the function argument `alra_imputation=true`, but note that in that case you are using pseudo values.\n",
    "\n",
    "By calling the wrapper function in the code cell below, one ore multiple NICHES Seurat object are created based on what kind of CCIMs you want to construct. Each CCIM is then saved to your specified datapath with a filename based on the CCIM type. For example setting `CellToCell=true` will create a NICHES Seurat object consisting of a CCIM where observations correspond to single-cell pairs and the Seurat object is saved with the filename `NICHES_CellToCell.rds`. "
   ]
  },
  {
   "cell_type": "code",
   "execution_count": null,
   "metadata": {},
   "outputs": [],
   "source": [
    "#---Run NICHES on scRNA-seq data:\n",
    "#filepath_expData = datapath * \"Rat_Seurat_sub.rds\";\n",
    "#run_NICHES_wrapper(filepath_expData; data_path=nothing, alra_imputation=false, assay=\"alra\", species=\"rat\", LR_database=\"fantom5\", cell_types=\"cell_types\");\n",
    "\n",
    "#---Run NICHES on ST data:\n",
    "filepath_expData = datapath * \"MouseBrain_Seurat.rds\";\n",
    "run_NICHES_wrapper(filepath_expData;\n",
    "    alra_imputation=true, \n",
    "    assay=\"alra\",\n",
    "    species=\"mouse\",\n",
    "    cell_types=\"seurat_clusters\",\n",
    "    position_x=\"x\",\n",
    "    position_y=\"y\",\n",
    "    n_neighbors=4,\n",
    "    meta_data_to_map=[\"orig.ident\",\"seurat_clusters\"],\n",
    "    CellToCell=false,\n",
    "    SystemToCell=false,\n",
    "    CellToSystem=false,\n",
    "    CellToCellSpatial=false,\n",
    "    NeighborhoodToCell=true,\n",
    "    CellToNeighborhood=false,\n",
    ");\n",
    "\n",
    "#---Run NICHES on other data:\n",
    "#filepath_expData = datapath * \"Seurat_object.rds\";\n",
    "#run_NICHES_wrapper(filepath_expData; data_path=nothing, alra_imputation=true, assay=\"alra\", species=\"mouse\", LR_database=\"fantom5\", cell_types=\"Celltype\");"
   ]
  },
  {
   "cell_type": "markdown",
   "metadata": {},
   "source": [
    "## Perform the BAE analysis of the CCIM:\n",
    "\n",
    "The high-dimensional CCIM computed in the previous step is the starting point for the single-cell interaction pattern analysis. Each row of the CCIM consist of individual cell pairs (observations) fow which interaction scores of multiple ligand-receptor interactions are stored in the columns (features). \n",
    "\n",
    "The goal of the interaction pattern analysis is to find groups of cell pairs that have similar interaction profiles and in addition to be able to pinpoint specific characterizing ligand-receptor interactions for that groups. To this end, you can use the Boosting Autoencoder (BAE), which is a neural network-based tool for sparse and structured dimensionality reduction. During training, the BAE \n",
    "\n",
    "- learns a low-dimensional representation of the cell pairs where cell pairs with similar interaction profiles are grouped together,\n",
    "- learns to assign cluster-membership probabilities to the cell pairs based on which cluster labels can be defined,\n",
    "- learns to sparsly link characterizing ligand-receptor interactions to the different clusters. "
   ]
  },
  {
   "cell_type": "markdown",
   "metadata": {},
   "source": [
    "### A. Loading and preprocessing the NICHES CCIM for the BAE analysis:\n",
    "\n",
    "To pass the CCIM constructed by NICHES to the BAE, which is currently stored in a Seurat object, you first need to load and transfer your data to Julia.\n",
    "You can do this by running the below cell, where a Julia function is called that given the filepath to your NICHES-Seurat object, loads it in R, extracts the relevant data and transfers it to Julia. Currently the meta data information that can be transfered are the cell type - cell type pairs, the sender cell types and the receiver cell types. \n",
    "\n",
    "Part of the function is the feature standardization, i.e., z-score transformation of the CCIM. This is a necessary step, since the BAE requires feature standardized data as input.\n",
    "\n",
    "Depending on which kind of CCIM you want to load, there exist different Julia functions for loading and transfering the data. In the code cell below, you can uncomment the function that matches the type of your CCIM to proceed with loading and transfering the CCIM, its feature standardized varsion and the meta data.\n",
    "\n",
    "\n",
    "\n"
   ]
  },
  {
   "cell_type": "code",
   "execution_count": null,
   "metadata": {},
   "outputs": [],
   "source": [
    "#---Load the NICHES results:\n",
    "#filepath_CCIM = datapath * \"NICHES_CellToCell.rds\";\n",
    "#CCIM, CCIM_st, MD = load_CCIM_CtC(filepath_CCIM); #CellToCell\n",
    "\n",
    "#filepath_CCIM = datapath * \"NICHES_SystemToCell.rds\";\n",
    "#CCIM, CCIM_st, MD = load_CCIM_StC(filepath_CCIM); #SystemToCell\n",
    "\n",
    "#filepath_CCIM = datapath * \"NICHES_CellToSystem.rds\";\n",
    "#CCIM, CCIM_st, MD = load_CCIM_CtS(filepath_CCIM); #CellToSystem\n",
    "\n",
    "\n",
    "#---Load spatial NICHES results:\n",
    "#filepath_CCIM = datapath * \"NICHES_CellToCell_Spatial.rds\";\n",
    "#CCIM, CCIM_st, MD = load_CCIM_CtC_Spatial(filepath_CCIM); #CellToCell (spatial)\n",
    "\n",
    "filepath_CCIM = datapath * \"NICHES_NeighborhoodToCell.rds\";\n",
    "CCIM, CCIM_st, MD = load_CCIM_NtC(filepath_CCIM); #NeighborhoolToCell (spatial)\n",
    "\n",
    "#filepath_CCIM = datapath * \"NICHES_CellToNeighborhood.rds\";\n",
    "#CCIM, CCIM_st, MD = load_CCIM_CtN(filepath_CCIM); #CellToNeighborhood (spatial)"
   ]
  },
  {
   "cell_type": "markdown",
   "metadata": {},
   "source": [
    "### B. Set hyperparameters for the BAE training:\n",
    "\n",
    "`ToDo`\n",
    "\n",
    "Befor you can train a BAE with the CCIM, you need to specify the hyperparameters for training. \n",
    "\n",
    "Explain the different Hyperparameters: ..."
   ]
  },
  {
   "cell_type": "code",
   "execution_count": null,
   "metadata": {},
   "outputs": [],
   "source": [
    "#---Define hyperparameters for training a BAE:\n",
    "#HP = Hyperparameters(zdim=30, n_restarts=3, epochs=20, batchsize=2^11, η=0.01, λ=0.1, ϵ=0.01, M=1);# Rat lung scRNA-seq data\n",
    "HP = Hyperparameters(zdim=10, n_restarts=3, epochs=100, batchsize=2^9, η=0.01, λ=0.1, ϵ=0.01, M=1); # Spatial mouse brain data \n",
    "#HP = Hyperparameters(zdim=8, n_restarts=3, epochs=50, batchsize=2^9, η=0.01, λ=0.1, ϵ=0.01, M=1); #Mouse brain scRNA-seq data\n",
    "\n",
    "#---Hyperparameters for reconstructing the published results:\n",
    "#HP = Hyperparameters(zdim=30, n_restarts=1, epochs=2000, batchsize=2^12, η=0.01, λ=0.1, ϵ=0.001, M=1); "
   ]
  },
  {
   "cell_type": "markdown",
   "metadata": {},
   "source": [
    "### C. Define the neural network architecture for the BAE:\n",
    "\n",
    "Next, you can create the neural network architecture for the BAE subdevided in the encoder and decoder. \n",
    "The encoder consists of a single-layer linear neural network solely parameterized by a weight matrix called `coeffs`. The decoder consists of three different layers. The first layer is the *split-softmax* transformation, which is a structured soft-clustering component to disentangle two different cell groups that are eventually represented within one latent dimension. The *split-softmax* thereby doubles the number of latent dimensions. The second layer of the decoder is a dense layer with *tanh* activation function folowed by a third layer without an activation function (see the uncommented line below the line where the decoder is defined).\n",
    "\n",
    "Note that he decoder can in principle be defined as an arbitrary multi-layer feed forward neural network. "
   ]
  },
  {
   "cell_type": "code",
   "execution_count": null,
   "metadata": {},
   "outputs": [],
   "source": [
    "#---Define the decoder architecture:\n",
    "p = size(CCIM_st, 2);\n",
    "decoder = generate_BAEdecoder(p, HP; soft_clustering=true); #Below is the decoder structure ...\n",
    "#decoder = Chain(x -> softmax(split_vectors(x)), Dense(2*HP.zdim, p, tanh_fast), Dense(p, p));\n",
    "\n",
    "#---Initialize the BAE model:\n",
    "BAE = BoostingAutoencoder(; coeffs=zeros(Float32, p, HP.zdim), decoder=decoder, HP=HP);\n",
    "summary(BAE)"
   ]
  },
  {
   "cell_type": "markdown",
   "metadata": {},
   "source": [
    "### D. Train the BAE:\n",
    "\n",
    "`ToDo`\n",
    "\n",
    "You can now train your BAE model by running the code cell below.\n",
    "\n",
    "Explain the arguments of the training function: ..."
   ]
  },
  {
   "cell_type": "code",
   "execution_count": null,
   "metadata": {},
   "outputs": [],
   "source": [
    "#---Train the BAE model:\n",
    "@time begin\n",
    "    output_dict = train_BAE!(CCIM_st, BAE; MD=MD);\n",
    "end"
   ]
  },
  {
   "cell_type": "markdown",
   "metadata": {},
   "source": [
    "## Result visualization and saving plots:\n",
    "\n",
    "`ToDo:`"
   ]
  },
  {
   "cell_type": "code",
   "execution_count": null,
   "metadata": {},
   "outputs": [],
   "source": [
    "#---Generate a custom color scheme of distinct colors:\n",
    "n_cols = 2 * BAE.HP.zdim; \n",
    "custom_colorscheme = [hsl_to_hex(i / n_cols, 0.7, 0.5 + 0.1 * sin(i * 4π / BAE.HP.zdim)) for i in 1:n_cols]; \n",
    "custom_colorscheme_shuffled = shuffle(custom_colorscheme);\n",
    "\n",
    "#----Compute 2D UMAP embedding of the learned BAE latent representation and add to the metadata:\n",
    "BAE.UMAP = generate_umap(BAE.Z');\n",
    "MD.obs_df[!, :UMAP1] = BAE.UMAP[:, 1];\n",
    "MD.obs_df[!, :UMAP2] = BAE.UMAP[:, 2];"
   ]
  },
  {
   "cell_type": "markdown",
   "metadata": {},
   "source": [
    "`ToDo:`"
   ]
  },
  {
   "cell_type": "code",
   "execution_count": null,
   "metadata": {},
   "outputs": [],
   "source": [
    "#---Plot the UMAP embedding of the learned BAE latent representation of cell pairs colored by the sending-receiving type pair:\n",
    "if \"CellTypePair\" in names(MD.obs_df)\n",
    "    pl = vegascatterplot(Matrix(MD.obs_df[:, [:UMAP1, :UMAP2]]), MD.obs_df.CellTypePair; \n",
    "        path=figurespath * \"CellTypePair_(BAE)umap.png\",\n",
    "        legend_title=\"Sender-Receiver\",\n",
    "        color_field=\"labels:o\",\n",
    "        scheme=nothing,\n",
    "        domain_mid=nothing,\n",
    "        range=custom_colorscheme_shuffled,\n",
    "        save_plot=true,\n",
    "        marker_size=\"5\"\n",
    "    )\n",
    "\n",
    "    display(pl)\n",
    "    \n",
    "else\n",
    "    @warn \"CellTypePair not found in metadata!\"\n",
    "end"
   ]
  },
  {
   "cell_type": "code",
   "execution_count": null,
   "metadata": {},
   "outputs": [],
   "source": [
    "#---Plot the UMAP embedding of the learned BAE latent representation colored by the cluster labels:\n",
    "vegascatterplot(Matrix(MD.obs_df[:, [:UMAP1, :UMAP2]]), MD.obs_df.Cluster; \n",
    "    path=figurespath * \"Cluster_(BAE)umap.png\",\n",
    "    legend_title=\"Cluster\",\n",
    "    color_field=\"labels:o\",\n",
    "    scheme=nothing,\n",
    "    domain_mid=nothing,\n",
    "    range=custom_colorscheme_shuffled,\n",
    "    save_plot=true,\n",
    "    marker_size=\"5\"\n",
    ")"
   ]
  },
  {
   "cell_type": "code",
   "execution_count": null,
   "metadata": {},
   "outputs": [],
   "source": [
    "#---Plot the UMAP embedding of the learned BAE latent representation colored by the sender cell types:\n",
    "if \"SenderType\" in names(MD.obs_df)\n",
    "    pl = vegascatterplot(Matrix(MD.obs_df[:, [:UMAP1, :UMAP2]]), MD.obs_df.SenderType; \n",
    "        path=figurespath * \"SenderType_(BAE)umap.png\",\n",
    "        legend_title=\"Sender\",\n",
    "        color_field=\"labels:o\",\n",
    "        scheme=\"category20\",\n",
    "        domain_mid=nothing,\n",
    "        range=nothing, #custom_colorscheme[[1, 3, 14, 26, 31, 36, 42, 45, 53]],\n",
    "        save_plot=true,\n",
    "        marker_size=\"5\"\n",
    "    )\n",
    "\n",
    "    display(pl)\n",
    "    \n",
    "else\n",
    "    @warn \"MetaData has no column named: SenderType.\"\n",
    "end"
   ]
  },
  {
   "cell_type": "code",
   "execution_count": null,
   "metadata": {},
   "outputs": [],
   "source": [
    "#---Plot the UMAP embedding of the learned BAE latent representation colored by the sender cell types:\n",
    "if \"ReceiverType\" in names(MD.obs_df)\n",
    "    pl = vegascatterplot(Matrix(MD.obs_df[:, [:UMAP1, :UMAP2]]), MD.obs_df.ReceiverType; \n",
    "        path=figurespath * \"ReceiverType_(BAE)umap.png\",\n",
    "        legend_title=\"Receiver\",\n",
    "        color_field=\"labels:o\",\n",
    "        scheme=\"category20\",\n",
    "        domain_mid=nothing,\n",
    "        range=nothing, #custom_colorscheme[[1, 3, 14, 26, 31, 36, 42, 45, 53]],\n",
    "        save_plot=true,\n",
    "        marker_size=\"5\"\n",
    "    )\n",
    "\n",
    "    display(pl)\n",
    "    \n",
    "else\n",
    "    @warn \"MetaData has no column named: ReceiverType.\"\n",
    "end"
   ]
  },
  {
   "cell_type": "markdown",
   "metadata": {},
   "source": [
    "`ToDo:`"
   ]
  },
  {
   "cell_type": "code",
   "execution_count": null,
   "metadata": {},
   "outputs": [],
   "source": [
    "#---Set a color range for the below scatter plots (one for dark and one for light backgrounds):\n",
    "#Bright color:\n",
    "#color_range_featureplots = [\n",
    "#    \"#fff5f5\", \"#ffe0e0\", \"#ffcccc\", \"#ffb8b8\", \"#ffa3a3\", \"#ff8f8f\", \"#ff7a7a\", \"#ff6666\",\n",
    "#    \"#ff5252\", \"#ff3d3d\", \"#ff2929\", \"#ff1414\", \"#ff0000\", \"#e50000\", \"#cc0000\", \"#b20000\",\n",
    "#    \"#990000\", \"#7f0000\", \"#660000\", \"#4c0000\", \"#330000\"\n",
    "#];\n",
    "#Dark color:\n",
    "color_range_featureplots = [\n",
    "    \"#000000\", \"#220022\", \"#440044\", \"#660066\", \"#880088\", \"#aa00aa\", \"#cc00cc\", \"#ee00ee\",\n",
    "    \"#ff00ff\", \"#ff19ff\", \"#ff33ff\", \"#ff4cff\", \"#ff66ff\", \"#ff7fff\", \"#ff99ff\", \"#ffb2ff\",\n",
    "    \"#ffccff\", \"#ffe5ff\", \"#ffccf5\", \"#ff99eb\", \"#ff66e0\"\n",
    "]\n",
    "\n",
    "#---Create scatter plots of the top selected genes per cluster:\n",
    "if !isdir(figurespath * \"/TopFeaturesCluster\")\n",
    "    # Create the folder if it does not exist\n",
    "    mkdir(figurespath * \"/TopFeaturesCluster\")\n",
    "end\n",
    "for key in keys(MD.Top_features)\n",
    "    if length(MD.Top_features[key].Scores) > 0\n",
    "        FeatureScatter_plot = TopFeaturesPerCluster_scatterplot(MD.Top_features[key], key; top_n=10)\n",
    "        savefig(FeatureScatter_plot, figurespath * \"/TopFeaturesCluster/\" * \"BAE_Cluster$(key)_Interactions.png\")\n",
    "    end\n",
    "end\n",
    "\n",
    "\n",
    "#---Create scatter plots of the UMAP embedding of the learned BAE latent representation colored by activations for different clusters:\n",
    "if !isdir(figurespath * \"/UMAPplotsCluster\")\n",
    "    # Create the folder if it does not exist\n",
    "    mkdir(figurespath * \"/UMAPplotsCluster\")\n",
    "end\n",
    "create_colored_vegascatterplots(Matrix(MD.obs_df[:, [:UMAP1, :UMAP2]]), BAE.Z_cluster;\n",
    "    path=figurespath * \"/UMAPplotsCluster/\",\n",
    "    filename=\"Rat_BAE_dim\",\n",
    "    filetype=\"scatter.png\",\n",
    "    legend_title=\"Activation\",\n",
    "    color_field=\"labels:q\",\n",
    "    scheme=nothing, \n",
    "    domain_mid=nothing,\n",
    "    range=color_range_featureplots,\n",
    "    save_plot=true,\n",
    "    marker_size=\"10\"\n",
    ")\n",
    "\n",
    "#---Create scatter plots of the UMAP embedding of the learned BAE latent representation colored by expression levels of top selected genes for different clusters:\n",
    "if !isdir(figurespath * \"/FeaturePlots\")\n",
    "    # Create the folder if it does not exist\n",
    "    mkdir(figurespath * \"/FeaturePlots\")\n",
    "end\n",
    "FeaturePlots(MD.Top_features, MD.featurename, CCIM, Matrix(MD.obs_df[:, [:UMAP1, :UMAP2]]); \n",
    "    top_n=5,\n",
    "    marker_size=\"10\", \n",
    "    fig_type=\".png\",\n",
    "    path=figurespath * \"/FeaturePlots/\",\n",
    "    legend_title=\"log1p\",\n",
    "    color_field=\"labels:q\",\n",
    "    scheme=nothing, \n",
    "    domain_mid=nothing,\n",
    "    range=color_range_featureplots\n",
    ")\n",
    "\n",
    "@info \"Figures saved to: $(figurespath)!\""
   ]
  },
  {
   "cell_type": "markdown",
   "metadata": {},
   "source": [
    "`ToDo:`"
   ]
  },
  {
   "cell_type": "code",
   "execution_count": null,
   "metadata": {},
   "outputs": [],
   "source": [
    "#---Save tabels of the top selected interactions per cluster:\n",
    "MD.Top_features = topFeatures_per_Cluster(BAE, MD; save_data=true, data_path=datapath);\n",
    "@info \"Top features per cluster saved to: $(datapath)!\""
   ]
  }
 ],
 "metadata": {
  "kernelspec": {
   "display_name": "Julia 1.9.3",
   "language": "julia",
   "name": "julia-1.9"
  },
  "language_info": {
   "file_extension": ".jl",
   "mimetype": "application/julia",
   "name": "julia",
   "version": "1.9.3"
  }
 },
 "nbformat": 4,
 "nbformat_minor": 2
}
