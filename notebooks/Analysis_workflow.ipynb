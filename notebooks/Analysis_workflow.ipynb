{
 "cells": [
  {
   "cell_type": "markdown",
   "metadata": {},
   "source": [
    "# Tutorial Notebook: BAE analysis workflow for single-cell resolved interaction patterns of CCIMs\n",
    "\n",
    "In this notebook ..."
   ]
  },
  {
   "cell_type": "markdown",
   "metadata": {},
   "source": [
    "## Setup:\n",
    "\n",
    "First we activate the environment and load all required packages for running the analysis."
   ]
  },
  {
   "cell_type": "code",
   "execution_count": null,
   "metadata": {},
   "outputs": [],
   "source": [
    "#---Activate the enviroment:\n",
    "using Pkg;\n",
    "\n",
    "Pkg.activate(\"../\");\n",
    "Pkg.instantiate();\n",
    "Pkg.status()\n",
    "\n",
    "#---Load the BoostingAutoEncoder module:\n",
    "include(projectpath * \"/src/BAE.jl\");\n",
    "using .BoostingAutoEncoder\n",
    "\n",
    "#---Load required packages for this notebook:\n",
    "using RCall;\n",
    "using DelimitedFiles;\n",
    "using Plots;\n",
    "using Random;\n",
    "using StatsBase;\n",
    "using VegaLite;  \n",
    "using DataFrames;\n",
    "using StatsPlots;"
   ]
  },
  {
   "cell_type": "markdown",
   "metadata": {},
   "source": [
    "Next, we define the path to the directory, where the data that we want to analyze is located and specify, where we want to save the results."
   ]
  },
  {
   "cell_type": "code",
   "execution_count": null,
   "metadata": {},
   "outputs": [],
   "source": [
    "#---Set paths to the data directory and the figures directory:\n",
    "projectpath = joinpath(@__DIR__, \"../\"); \n",
    "\n",
    "# Set the path to the data directory (exchange the path below with the path to your data directory):\n",
    "datapath = projectpath * \"data/tutorial\";\n",
    "\n",
    "# Create the folder if it does not exist (exchange the path below with the path to where you want to store your results):\n",
    "figurespath = projectpath * \"figures/tutorial/\"\n",
    "if !isdir(figurespath)\n",
    "    mkdir(figurespath)\n",
    "end"
   ]
  },
  {
   "cell_type": "markdown",
   "metadata": {},
   "source": [
    "## Load the single-cell RNA sequencing (scRNA-seq) data:\n",
    "\n",
    "..."
   ]
  },
  {
   "cell_type": "code",
   "execution_count": null,
   "metadata": {},
   "outputs": [],
   "source": []
  },
  {
   "cell_type": "markdown",
   "metadata": {},
   "source": [
    "## Run NICHES for creating a CCIM from the scRNA-seq data:\n",
    "\n",
    "NICHES can be used to compute CCIMs representing cell-to-cell communication. Alternatively, CCIMs can be constructed that represent cell-to-system or system-to-cell communiication. Each observation corresponds to a pair that represents either a cell pair with a sender and a receiver cell, a pair with a sender cell and a receiver system, or a sender system and a receiver cell.\n",
    "\n",
    "..."
   ]
  },
  {
   "cell_type": "code",
   "execution_count": null,
   "metadata": {},
   "outputs": [],
   "source": []
  },
  {
   "cell_type": "markdown",
   "metadata": {},
   "source": [
    "## Set up and run BAE training:\n",
    "\n",
    "Befor we train a BAE on the data, we need to specify the hyperparameters for training. \n",
    "..."
   ]
  },
  {
   "cell_type": "code",
   "execution_count": null,
   "metadata": {},
   "outputs": [],
   "source": [
    "#---Define hyperparameter for training a BAE:\n",
    "HP = Hyperparameter(zdim=15, n_restarts=3, epochs=10, batchsize=2^9, η=0.01f0, λ=0.1f0, ϵ=0.001f0, M=1); "
   ]
  },
  {
   "cell_type": "markdown",
   "metadata": {},
   "source": [
    "Next, we create the neural network architecture for the BAE. \n",
    "..."
   ]
  },
  {
   "cell_type": "code",
   "execution_count": null,
   "metadata": {},
   "outputs": [],
   "source": [
    "#---Define the decoder architecture:\n",
    "decoder = generate_BAEdecoder(p, HP; soft_clustering=true, modelseed=1);\n",
    "\n",
    "#---Initialize the BAE model:\n",
    "BAE = BoostingAutoencoder(; coeffs=zeros(Float32, p, HP.zdim), decoder=decoder, HP=HP);\n",
    "summary(BAE)"
   ]
  },
  {
   "cell_type": "markdown",
   "metadata": {},
   "source": [
    "We are now ready to train the model."
   ]
  },
  {
   "cell_type": "code",
   "execution_count": null,
   "metadata": {},
   "outputs": [],
   "source": [
    "#---Train the BAE model:\n",
    "# Set the number of restarts of the encoder weight matrix during training by setting n_restarts > 1:\n",
    "@time begin\n",
    "    output_dict = train_BAE!(X_st, BAE; MD=MD, track_coeffs=false, save_data=false, path=nothing, batchseed=1);\n",
    "end\n",
    "\n",
    "@info \"Minimum Trainloss at: $(argmin(output_dict[\"trainloss\"]))\""
   ]
  },
  {
   "cell_type": "markdown",
   "metadata": {},
   "source": [
    "## Result visualization:\n",
    "\n",
    "..."
   ]
  },
  {
   "cell_type": "code",
   "execution_count": null,
   "metadata": {},
   "outputs": [],
   "source": [
    "#---Generate distinct colors:\n",
    "n_cols = 2*BAE.HP.zdim; \n",
    "custom_colorscheme = [hsl_to_hex(i / n_cols, 0.7, 0.5 + 0.1 * sin(i * 4π / BAE.HP.zdim)) for i in 1:n_cols]; #2π\n",
    "custom_colorscheme_shuffled = shuffle(custom_colorscheme);\n",
    "\n",
    "#----Compute 2D UMAP embedding of the learned BAE latent representation and add to the metadata:\n",
    "plotseed = 7;\n",
    "BAE.UMAP = generate_umap(BAE.Z', plotseed);\n",
    "MD.obs_df[!, :UMAP1] = BAE.UMAP[:, 1];\n",
    "MD.obs_df[!, :UMAP2] = BAE.UMAP[:, 2];\n",
    "\n",
    "#---Randomly shuffle the observation indices for plotting:\n",
    "rand_inds = shuffle(1:size(X_st, 1));\n",
    "MD.obs_df = MD.obs_df[rand_inds, :];"
   ]
  }
 ],
 "metadata": {
  "kernelspec": {
   "display_name": "Julia 1.9.3",
   "language": "julia",
   "name": "julia-1.9"
  },
  "language_info": {
   "file_extension": ".jl",
   "mimetype": "application/julia",
   "name": "julia",
   "version": "1.9.3"
  }
 },
 "nbformat": 4,
 "nbformat_minor": 2
}
