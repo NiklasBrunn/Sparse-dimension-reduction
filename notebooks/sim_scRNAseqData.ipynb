{
 "cells": [
  {
   "cell_type": "code",
   "execution_count": null,
   "metadata": {},
   "outputs": [],
   "source": [
    "#------------------------------\n",
    "# Setup: \n",
    "#------------------------------\n",
    "#---Activate the enviroment:\n",
    "using Pkg;\n",
    "\n",
    "Pkg.activate(\"../\");\n",
    "Pkg.instantiate();\n",
    "Pkg.status()\n",
    "\n",
    "#---Load CCIM rat lung data computed by NICHES:\n",
    "projectpath = joinpath(@__DIR__, \"../\"); \n",
    "figurespath = projectpath * \"figures/simData/\"\n",
    "if !isdir(figurespath)\n",
    "    # Create the folder if it does not exist\n",
    "    mkdir(figurespath)\n",
    "end\n",
    "\n",
    "#---Load the BoostingAutoEncoder module:\n",
    "include(projectpath * \"/src/BAE.jl\");\n",
    "using .BoostingAutoEncoder\n",
    "\n",
    "#---Load required packages for this notebook:\n",
    "using Plots;\n",
    "using Random;\n",
    "using StatsBase;\n",
    "using VegaLite;  \n",
    "using DataFrames;"
   ]
  },
  {
   "cell_type": "markdown",
   "metadata": {},
   "source": [
    "# Train BAE on simulated scRNA-seq data"
   ]
  },
  {
   "cell_type": "code",
   "execution_count": null,
   "metadata": {},
   "outputs": [],
   "source": [
    "#---Generate and transform data:\n",
    "dataseed = 1;\n",
    "n_genes=200;\n",
    "X = sim_scRNAseqData(dataseed; n=1000, stageoverlap=0, \n",
    "    blockprob = 0.6, noiseprob=0.1, num_genes=n_genes,\n",
    "    stageno = 10,  stagep = Int(50 / 10), stagen = Int(1000 / 10)\n",
    ");\n",
    "X_st = scale(X);\n",
    "#X_st[:, 50:end] .*= 0.8f0\n",
    "n, p = size(X);\n",
    "\n",
    "#---Create meta data:\n",
    "MD = MetaData();\n",
    "MD.obs_df[!, :CellGroup] = repeat(1:10, inner=100)\n",
    "MD.featurename = [\"$(j)\" for j in 1:p];\n",
    "\n",
    "#---Plot the binary data:\n",
    "vegaheatmap(X[:, 1:100]; \n",
    "    path=figurespath * \"binary_data.svg\", \n",
    "    Title=\"Binary Gene expression ($(n_genes-100) noise genes omitted)\",\n",
    "    xlabel=\"Gene\", \n",
    "    ylabel=\"Cell\",\n",
    "    legend_title=\"Value\",\n",
    "    color_field=\"value:o\",\n",
    "    domain_mid=nothing,\n",
    "    scheme=\"paired\",\n",
    "    save_plot=true,\n",
    "    Width=500, \n",
    "    Height=500\n",
    ")"
   ]
  },
  {
   "cell_type": "code",
   "execution_count": null,
   "metadata": {},
   "outputs": [],
   "source": [
    "#---Define hyperparameter for training a BAE\n",
    "HP = Hyperparameter(zdim=6, epochs=20000, batchsize=2^9, η=0.01f0, λ=0.1f0, ϵ=0.001f0, M=1); \n",
    "\n",
    "#---Define the decoder architecture:\n",
    "modelseed = 42; \n",
    "Random.seed!(modelseed)\n",
    "decoder = generate_BAEdecoder(p, HP; soft_clustering=true);\n",
    "\n",
    "#---Initialize the BAE model:\n",
    "BAE = BoostingAutoencoder(; coeffs=zeros(Float32, p, HP.zdim), decoder=decoder, HP=HP);\n",
    "summary(BAE)"
   ]
  },
  {
   "cell_type": "code",
   "execution_count": null,
   "metadata": {},
   "outputs": [],
   "source": [
    "#---Train the BAE model:\n",
    "batchseed = 42;\n",
    "Random.seed!(batchseed)\n",
    "mean_trainlossPerEpoch = train_BAE!(X_st, BAE; soft_clustering=true, MD=MD, save_data=false, path=nothing);\n",
    "\n",
    "#---Save the top selected genes per cluster:\n",
    "TopGenes_Cluster = topFeatures_per_Cluster(BAE, MD; path=figurespath);\n",
    "\n",
    "#---Plot the mean trainloss per epoch:\n",
    "loss_plot = plot(1:length(mean_trainlossPerEpoch), mean_trainlossPerEpoch,\n",
    "     title = \"Mean train loss per epoch\",\n",
    "     xlabel = \"Epoch\",\n",
    "     ylabel = \"Loss\",\n",
    "     legend = true,\n",
    "     label = \"Train loss\",\n",
    "     linecolor = :red,\n",
    "     linewidth = 2\n",
    ");\n",
    "savefig(loss_plot, figurespath * \"/SimData_loss_BAE.svg\");\n",
    "loss_plot"
   ]
  },
  {
   "cell_type": "markdown",
   "metadata": {},
   "source": [
    "## Visualize the Results"
   ]
  },
  {
   "cell_type": "code",
   "execution_count": null,
   "metadata": {},
   "outputs": [],
   "source": [
    "#---Plot the encoder weights:\n",
    "vegaheatmap(BAE.coeffs'; \n",
    "    path=figurespath * \"encoderWeights_BAE.svg\", \n",
    "    Title=\"Encoder weights\",\n",
    "    xlabel=\"Gene\", \n",
    "    ylabel=\"Latent dimension\",\n",
    "    legend_title=\"Value\",\n",
    "    save_plot=true\n",
    ")"
   ]
  },
  {
   "cell_type": "code",
   "execution_count": null,
   "metadata": {},
   "outputs": [],
   "source": [
    "#---Plot the latent representations of cells:\n",
    "vegaheatmap(BAE.Z'; \n",
    "    path=figurespath * \"latentRepresentation_BAE.svg\", \n",
    "    Title=\"Latent representation\",\n",
    "    xlabel=\"Latent dimension\", \n",
    "    ylabel=\"Cell\",\n",
    "    legend_title=\"Activation\",\n",
    "    save_plot=true\n",
    ")"
   ]
  },
  {
   "cell_type": "code",
   "execution_count": null,
   "metadata": {},
   "outputs": [],
   "source": [
    "#---Plot the probabilities of cells of belonging to the different clusters (each latent dimension corresponds to two subsequent clusters [reflecting pos. and neg. activations]):\n",
    "vegaheatmap(BAE.Z_cluster'; \n",
    "    path=figurespath * \"clusterProbabilities_BAE.svg\", \n",
    "    Title=\"Cluster probabilities of cells\",\n",
    "    xlabel=\"Cluster\", \n",
    "    ylabel=\"Cell\",\n",
    "    legend_title=\"Probability\",\n",
    "    scheme=\"purpleblue\",\n",
    "    domain_mid=nothing,\n",
    "    save_plot=true\n",
    ")"
   ]
  },
  {
   "cell_type": "code",
   "execution_count": null,
   "metadata": {},
   "outputs": [],
   "source": [
    "#---Plot the absolute values of Pearson correlation coefficients between latent dimensions:\n",
    "vegaheatmap(abs.(cor(BAE.Z, dims=2)); \n",
    "    path=figurespath * \"cor_latentDimensions_BAE.svg\", \n",
    "    Title=\"Absolute correlations of latent dimensions\",\n",
    "    xlabel=\"Latent dimension\", \n",
    "    ylabel=\"Latent dimension\",\n",
    "    legend_title=\"Value\",\n",
    "    scheme=\"orangered\",\n",
    "    domain_mid=nothing,\n",
    "    save_plot=true,\n",
    "    Width=500, \n",
    "    Height=500\n",
    ")"
   ]
  },
  {
   "cell_type": "code",
   "execution_count": null,
   "metadata": {},
   "outputs": [],
   "source": [
    "#---Plot the absolute values of Pearson correlation coefficients between latent dimensions:\n",
    "vegaheatmap(abs.(cor(X, dims=2)); \n",
    "    path=figurespath * \"cor_cells.svg\", \n",
    "    Title=\"Absolute correlations of cells\",\n",
    "    xlabel=\"Cell\", \n",
    "    ylabel=\"Cell\",\n",
    "    legend_title=\"Value\",\n",
    "    scheme=\"orangered\",\n",
    "    domain_mid=nothing,\n",
    "    save_plot=true,\n",
    "    Width=500, \n",
    "    Height=500\n",
    ")"
   ]
  },
  {
   "cell_type": "code",
   "execution_count": null,
   "metadata": {},
   "outputs": [],
   "source": [
    "#---Plot the absolute values of Pearson correlation coefficients between latent dimensions (latent representation is used):\n",
    "vegaheatmap(abs.(cor(BAE.Z, dims=1)); \n",
    "    path=figurespath * \"cor_cellslatentRepresentations_BAE.svg\", \n",
    "    Title=\"Absolute correlations of cell Representations\",\n",
    "    xlabel=\"Cell\", \n",
    "    ylabel=\"Cell\",\n",
    "    legend_title=\"Value\",\n",
    "    scheme=\"orangered\",\n",
    "    domain_mid=nothing,\n",
    "    save_plot=true,\n",
    "    Width=500, \n",
    "    Height=500\n",
    ")"
   ]
  },
  {
   "cell_type": "code",
   "execution_count": null,
   "metadata": {},
   "outputs": [],
   "source": [
    "#---Plot the absolute values of Pearson correlation coefficients between latent dimensions (cluster representation is used):\n",
    "vegaheatmap(abs.(cor(BAE.Z_cluster, dims=1)); \n",
    "    path=figurespath * \"cor_cellsRepresentations(Cluster)_BAE.svg\", \n",
    "    Title=\"Absolute correlations of cell Representations\",\n",
    "    xlabel=\"Cell\", \n",
    "    ylabel=\"Cell\",\n",
    "    legend_title=\"Value\",\n",
    "    scheme=\"orangered\",\n",
    "    domain_mid=nothing,\n",
    "    save_plot=true,\n",
    "    Width=500, \n",
    "    Height=500\n",
    ")"
   ]
  },
  {
   "cell_type": "code",
   "execution_count": null,
   "metadata": {},
   "outputs": [],
   "source": [
    "#---Create scatter plots of the top selected genes per latent dimension:\n",
    "if !isdir(figurespath * \"/TopFeaturesLatentDim\")\n",
    "    # Create the folder if it does not exist\n",
    "    mkdir(figurespath * \"/TopFeaturesLatentDim\")\n",
    "end\n",
    "for dim in 1:BAE.HP.zdim\n",
    "    Featurescatter_plot = normalizedFeatures_scatterplot(BAE.coeffs[:, dim], MD.featurename, dim; top_n=10)\n",
    "    savefig(Featurescatter_plot, figurespath * \"/TopFeaturesLatentDim/\" * \"BAE_dim$(dim)_topGenes.svg\")\n",
    "end"
   ]
  },
  {
   "cell_type": "code",
   "execution_count": null,
   "metadata": {},
   "outputs": [],
   "source": [
    "#---Create scatter plots of the top selected genes per cluster:\n",
    "if !isdir(figurespath * \"/TopFeaturesCluster\")\n",
    "    # Create the folder if it does not exist\n",
    "    mkdir(figurespath * \"/TopFeaturesCluster\")\n",
    "end\n",
    "for key in keys(TopGenes_Cluster)\n",
    "    FeatureScatter_plot = TopFeaturesPerCluster_scatterplot(TopGenes_Cluster[key], key; top_n=10)\n",
    "    savefig(FeatureScatter_plot, figurespath * \"/TopFeaturesCluster/\" * \"BAE_Cluster$(key)_topGenes.svg\")\n",
    "end"
   ]
  },
  {
   "cell_type": "code",
   "execution_count": null,
   "metadata": {},
   "outputs": [],
   "source": [
    "#----Compute 2D UMAP embedding of the learned BAE latent representation and add to the metadata:\n",
    "plotseed = 7;\n",
    "BAE.UMAP = generate_umap(BAE.Z', plotseed);\n",
    "MD.obs_df[!, :UMAP1] = BAE.UMAP[:, 1];\n",
    "MD.obs_df[!, :UMAP2] = BAE.UMAP[:, 2];\n",
    "\n",
    "#---Randomly shuffle the observation indices for plotting:\n",
    "rand_inds = shuffle(1:size(X_st, 1));\n",
    "MD.obs_df = MD.obs_df[rand_inds, :];"
   ]
  },
  {
   "cell_type": "code",
   "execution_count": null,
   "metadata": {},
   "outputs": [],
   "source": [
    "#---Plot a heatmap of the cluster probabilities of cells:\n",
    "Cluster_df = DataFrame(BAE.Z_cluster[:, rand_inds]', :auto);\n",
    "Cluster_df[!, :Cluster] = copy(MD.obs_df.Cluster);\n",
    "sort!(Cluster_df, :Cluster);\n",
    "vegaheatmap(Matrix(Cluster_df[:, 1:end-1]); \n",
    "    path=figurespath * \"clusterProbabilities_BAE.svg\", \n",
    "    Title=\"Cluster probabilities of cells\",\n",
    "    xlabel=\"Cluster\", \n",
    "    ylabel=\"Cell\",\n",
    "    legend_title=\"Probability\",\n",
    "    scheme=\"purpleblue\",\n",
    "    domain_mid=nothing,\n",
    "    save_plot=true\n",
    ")"
   ]
  },
  {
   "cell_type": "code",
   "execution_count": null,
   "metadata": {},
   "outputs": [],
   "source": [
    "#---Plot the UMAP embedding of the learned BAE latent representation colored by the cell group labels:\n",
    "vegascatterplot(Matrix(MD.obs_df[:, [:UMAP1, :UMAP2]]), MD.obs_df.CellGroup; \n",
    "    path=figurespath * \"Celltype_(BAE)umap.svg\",\n",
    "    legend_title=\"Cell type\",\n",
    "    color_field=\"labels:o\",\n",
    "    scheme=\"category20\",\n",
    "    domain_mid=nothing,\n",
    "    range=nothing,\n",
    "    save_plot=true,\n",
    "    marker_size=\"25\"\n",
    ")"
   ]
  },
  {
   "cell_type": "code",
   "execution_count": null,
   "metadata": {},
   "outputs": [],
   "source": [
    "#---Plot the UMAP embedding of the learned BAE latent representation colored by the cluster labels:\n",
    "vegascatterplot(Matrix(MD.obs_df[:, [:UMAP1, :UMAP2]]), MD.obs_df.Cluster; \n",
    "    path=figurespath * \"Cluster_(BAE)umap.svg\",\n",
    "    legend_title=\"Cluster\",\n",
    "    color_field=\"labels:o\",\n",
    "    scheme=\"category20\",\n",
    "    domain_mid=nothing,\n",
    "    range=nothing,\n",
    "    save_plot=true,\n",
    "    marker_size=\"25\"\n",
    ")"
   ]
  },
  {
   "cell_type": "code",
   "execution_count": null,
   "metadata": {},
   "outputs": [],
   "source": [
    "#---Create scatter plots of the UMAP embedding of the learned BAE latent representation colored by activations in different latent dimensions:\n",
    "if !isdir(figurespath * \"/UMAPplotsLatDims\")\n",
    "    # Create the folder if it does not exist\n",
    "    mkdir(figurespath * \"/UMAPplotsLatDims\")\n",
    "end\n",
    "create_colored_vegascatterplots(Matrix(MD.obs_df[:, [:UMAP1, :UMAP2]]), BAE.Z[:, rand_inds];\n",
    "    path=figurespath * \"/UMAPplotsLatDims/\",\n",
    "    filename=\"Mouse_BAE_dim\",\n",
    "    filetype=\"scatter.svg\",\n",
    "    legend_title=\"Activation\",\n",
    "    color_field=\"labels:q\",\n",
    "    scheme=\"blueorange\", \n",
    "    domain_mid=0,\n",
    "    range=nothing,\n",
    "    save_plot=true,\n",
    "    marker_size=\"25\"\n",
    ")"
   ]
  },
  {
   "cell_type": "code",
   "execution_count": null,
   "metadata": {},
   "outputs": [],
   "source": [
    "#---Create scatter plots of the UMAP embedding of the learned BAE latent representation colored by activations for different clusters:\n",
    "if !isdir(figurespath * \"/UMAPplotsCluster\")\n",
    "    # Create the folder if it does not exist\n",
    "    mkdir(figurespath * \"/UMAPplotsCluster\")\n",
    "end\n",
    "color_range = [\n",
    "    \"#fff5f5\", \"#ffe0e0\", \"#ffcccc\", \"#ffb8b8\", \"#ffa3a3\", \"#ff8f8f\", \"#ff7a7a\", \"#ff6666\",\n",
    "    \"#ff5252\", \"#ff3d3d\", \"#ff2929\", \"#ff1414\", \"#ff0000\", \"#e50000\", \"#cc0000\", \"#b20000\",\n",
    "    \"#990000\", \"#7f0000\", \"#660000\", \"#4c0000\", \"#330000\"\n",
    "];\n",
    "create_colored_vegascatterplots(Matrix(MD.obs_df[:, [:UMAP1, :UMAP2]]), BAE.Z_cluster[:, rand_inds];\n",
    "    path=figurespath * \"/UMAPplotsCluster/\",\n",
    "    filename=\"Mouse_BAE_dim\",\n",
    "    filetype=\"scatter.svg\",\n",
    "    legend_title=\"Activation\",\n",
    "    color_field=\"labels:q\",\n",
    "    scheme=nothing,\n",
    "    domain_mid=nothing,\n",
    "    range=color_range,\n",
    "    save_plot=true,\n",
    "    marker_size=\"25\"\n",
    ")"
   ]
  },
  {
   "cell_type": "code",
   "execution_count": null,
   "metadata": {},
   "outputs": [],
   "source": [
    "#---Create scatter plots of the UMAP embedding of the learned BAE latent representation colored by expression levels of top selected genes for different clusters:\n",
    "if !isdir(figurespath * \"/FeaturePlots\")\n",
    "    # Create the folder if it does not exist\n",
    "    mkdir(figurespath * \"/FeaturePlots\")\n",
    "end\n",
    "color_range = [\n",
    "    \"#fff5f5\", \"#ffe0e0\", \"#ffcccc\", \"#ffb8b8\", \"#ffa3a3\", \"#ff8f8f\", \"#ff7a7a\", \"#ff6666\",\n",
    "    \"#ff5252\", \"#ff3d3d\", \"#ff2929\", \"#ff1414\", \"#ff0000\", \"#e50000\", \"#cc0000\", \"#b20000\",\n",
    "    \"#990000\", \"#7f0000\", \"#660000\", \"#4c0000\", \"#330000\"\n",
    "];\n",
    "FeaturePlots(TopGenes_Cluster, MD.featurename, X[rand_inds, :], Matrix(MD.obs_df[:, [:UMAP1, :UMAP2]]); \n",
    "    top_n=5,\n",
    "    marker_size=\"25\", \n",
    "    fig_type=\".svg\",\n",
    "    path=figurespath * \"/FeaturePlots/\",\n",
    "    legend_title=\"log1p\",\n",
    "    color_field=\"labels:o\",\n",
    "    scheme=nothing, \n",
    "    domain_mid=nothing,\n",
    "    range=color_range\n",
    ")"
   ]
  }
 ],
 "metadata": {
  "kernelspec": {
   "display_name": "Julia 1.9.3",
   "language": "julia",
   "name": "julia-1.9"
  },
  "language_info": {
   "file_extension": ".jl",
   "mimetype": "application/julia",
   "name": "julia",
   "version": "1.9.3"
  }
 },
 "nbformat": 4,
 "nbformat_minor": 2
}
