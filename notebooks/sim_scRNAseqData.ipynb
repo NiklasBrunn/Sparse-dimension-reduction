{
 "cells": [
  {
   "cell_type": "code",
   "execution_count": null,
   "metadata": {},
   "outputs": [],
   "source": [
    "#------------------------------\n",
    "# Setup: \n",
    "#------------------------------\n",
    "#---Activate the enviroment:\n",
    "using Pkg;\n",
    "\n",
    "Pkg.activate(\"../\");\n",
    "Pkg.instantiate();\n",
    "Pkg.status()\n",
    "\n",
    "#---Load CCIM rat lung data computed by NICHES:\n",
    "projectpath = joinpath(@__DIR__, \"../\"); \n",
    "figurespath = projectpath * \"figures/simData/\"\n",
    "if !isdir(figurespath)\n",
    "    # Create the folder if it does not exist\n",
    "    mkdir(figurespath)\n",
    "end\n",
    "\n",
    "#---Load the BoostingAutoEncoder module:\n",
    "include(projectpath * \"/src/BAE.jl\");\n",
    "using .BoostingAutoEncoder\n",
    "\n",
    "#---Load required packages for this notebook:\n",
    "using Plots;\n",
    "using Random;\n",
    "using StatsBase;\n",
    "using VegaLite;  \n",
    "using DataFrames;\n",
    "using StatsPlots;"
   ]
  },
  {
   "cell_type": "markdown",
   "metadata": {},
   "source": [
    "# Train BAE on simulated scRNA-seq data"
   ]
  },
  {
   "cell_type": "code",
   "execution_count": null,
   "metadata": {},
   "outputs": [],
   "source": [
    "#---Generate and transform data:\n",
    "dataseed = 1;\n",
    "n_cells = 1000;\n",
    "n_genes = 200;\n",
    "n_overlap = 0;\n",
    "stageno = 10;\n",
    "blockprob = 0.6;\n",
    "noiseprob = 0.1;\n",
    "\n",
    "X = sim_scRNAseqData(dataseed; \n",
    "    n=n_cells, \n",
    "    stageoverlap=n_overlap, \n",
    "    blockprob=blockprob, \n",
    "    noiseprob=noiseprob, \n",
    "    num_genes=n_genes,\n",
    "    stageno=stageno,  \n",
    "    stagep=Int(50 / stageno), \n",
    "    stagen=Int(n_cells / stageno)\n",
    ");\n",
    "\n",
    "#---Scale the data:\n",
    "X_st = scale(X);\n",
    "#Optional: Rescale noise genes of X_st, because values of noise genes are more extreme after scaling ...\n",
    "#X_st[:, 50:end] .*= 0.8f0\n",
    "\n",
    "n, p = size(X);\n",
    "\n",
    "#---Create meta data:\n",
    "MD = MetaData();\n",
    "MD.obs_df[!, :CellGroup] = repeat(1:10, inner=100)\n",
    "MD.featurename = [\"$(j)\" for j in 1:p];\n",
    "\n",
    "#---Plot the binary data:\n",
    "vegaheatmap(X[:, 1:100]; \n",
    "    path=figurespath * \"binary_data.png\", \n",
    "    Title=\"Binary Gene expression ($(n_genes-100) noise genes omitted)\",\n",
    "    xlabel=\"Gene\", \n",
    "    ylabel=\"Cell\",\n",
    "    legend_title=\"Value\",\n",
    "    color_field=\"value:o\",\n",
    "    domain_mid=nothing,\n",
    "    scheme=\"paired\",\n",
    "    save_plot=true,\n",
    "    Width=500, \n",
    "    Height=500\n",
    ")"
   ]
  },
  {
   "cell_type": "code",
   "execution_count": null,
   "metadata": {},
   "outputs": [],
   "source": [
    "#---Define hyperparameters for training a BAE\n",
    "# Without restarts of the encoder weight matrix:\n",
    "#HP = Hyperparameters(zdim=10, n_restarts=1, epochs=2000, batchsize=2^9, η=0.01, λ=0.1, ϵ=0.001, M=1);  \n",
    "# With restarts of the encoder weight matrix:\n",
    "HP = Hyperparameters(zdim=10, n_restarts=5, epochs=100, batchsize=2^9, η=0.01, λ=0.1, ϵ=0.01, M=1);  \n",
    "\n",
    "#---Define the decoder architecture:\n",
    "decoder = generate_BAEdecoder(p, HP; soft_clustering=true);\n",
    "\n",
    "#---Initialize the BAE model:\n",
    "BAE = BoostingAutoencoder(; coeffs=zeros(eltype(X_st), p, HP.zdim), decoder=decoder, HP=HP);\n",
    "summary(BAE)"
   ]
  },
  {
   "cell_type": "code",
   "execution_count": null,
   "metadata": {},
   "outputs": [],
   "source": [
    "#---Train the BAE model:\n",
    "# Set the number of restarts of the encoder weight matrix during training by setting n_restarts > 1:\n",
    "@time begin\n",
    "    output_dict = train_BAE!(X_st, BAE; MD=MD, track_coeffs=true, save_data=true, data_path=figurespath);\n",
    "end\n",
    "\n",
    "@info \"Minimum Trainloss at: $(argmin(output_dict[\"trainloss\"]))\""
   ]
  },
  {
   "cell_type": "code",
   "execution_count": null,
   "metadata": {},
   "outputs": [],
   "source": [
    "#---Plot the mean trainloss per epoch:\n",
    "mean_trainlossPerEpoch = output_dict[\"trainloss\"];\n",
    "loss_plot = plot(1:length(mean_trainlossPerEpoch), mean_trainlossPerEpoch,\n",
    "     title = \"Mean train loss per epoch\",\n",
    "     xlabel = \"Epoch\",\n",
    "     ylabel = \"Loss\",\n",
    "     legend = true,\n",
    "     label = \"Train loss\",\n",
    "     linecolor = :red,\n",
    "     linewidth = 2\n",
    ");\n",
    "savefig(loss_plot, figurespath * \"/Trainloss_BAE.png\");\n",
    "loss_plot"
   ]
  },
  {
   "cell_type": "code",
   "execution_count": null,
   "metadata": {},
   "outputs": [],
   "source": [
    "#---Plot the Sparsity score per epoch:\n",
    "sparsity_level = output_dict[\"sparsity\"];\n",
    "loss_plot = plot(1:length(sparsity_level), sparsity_level,\n",
    "     title = \"Sparsity level per epoch\",\n",
    "     xlabel = \"Epoch\",\n",
    "     ylabel = \"Sparsity\",\n",
    "     legend = true,\n",
    "     label = \"Sparsity\",\n",
    "     linecolor = :orange,\n",
    "     linewidth = 2\n",
    ");\n",
    "savefig(loss_plot, figurespath * \"/Sparsity_BAE.png\");\n",
    "loss_plot"
   ]
  },
  {
   "cell_type": "code",
   "execution_count": null,
   "metadata": {},
   "outputs": [],
   "source": [
    "#---Plot the disentanglement score per epoch:\n",
    "entanglement_score = output_dict[\"entanglement\"];\n",
    "loss_plot = plot(1:length(entanglement_score), entanglement_score,\n",
    "     title = \"Entanglement score per epoch\",\n",
    "     xlabel = \"Epoch\",\n",
    "     ylabel = \"Entanglement of dimensions\",\n",
    "     legend = true,\n",
    "     label = \"Entanglement\",\n",
    "     linecolor = :orange,\n",
    "     linewidth = 2\n",
    ");\n",
    "savefig(loss_plot, figurespath * \"/Entanglement_BAE.png\");\n",
    "loss_plot"
   ]
  },
  {
   "cell_type": "code",
   "execution_count": null,
   "metadata": {},
   "outputs": [],
   "source": [
    "#---Plot the clustering score per epoch:\n",
    "clustering_score = output_dict[\"clustering\"];\n",
    "loss_plot = plot(1:length(clustering_score), clustering_score,\n",
    "     title = \"Clustering score per epoch\",\n",
    "     xlabel = \"Epoch\",\n",
    "     ylabel = \"Clustering score\",\n",
    "     legend = true,\n",
    "     label = \"Score\",\n",
    "     linecolor = :orange,\n",
    "     linewidth = 2\n",
    ");\n",
    "savefig(loss_plot, figurespath * \"/ClusteringScore_BAE.png\");\n",
    "loss_plot"
   ]
  },
  {
   "cell_type": "markdown",
   "metadata": {},
   "source": [
    "## Result visualization:"
   ]
  },
  {
   "cell_type": "code",
   "execution_count": null,
   "metadata": {},
   "outputs": [],
   "source": [
    "#---Plot the encoder weights:\n",
    "vegaheatmap(BAE.coeffs'; \n",
    "    path=figurespath * \"encoderWeights_BAE.png\", \n",
    "    Title=\"Encoder weights\",\n",
    "    xlabel=\"Gene\", \n",
    "    ylabel=\"Latent dimension\",\n",
    "    legend_title=\"Value\",\n",
    "    save_plot=true\n",
    ")"
   ]
  },
  {
   "cell_type": "code",
   "execution_count": null,
   "metadata": {},
   "outputs": [],
   "source": [
    "#---Plot the latent representations of cells:\n",
    "vegaheatmap(BAE.Z'; \n",
    "    path=figurespath * \"latentRepresentation_BAE.png\", \n",
    "    Title=\"Latent representation\",\n",
    "    xlabel=\"Latent dimension\", \n",
    "    ylabel=\"Cell\",\n",
    "    legend_title=\"Activation\",\n",
    "    save_plot=true\n",
    ")"
   ]
  },
  {
   "cell_type": "code",
   "execution_count": null,
   "metadata": {},
   "outputs": [],
   "source": [
    "#---Plot the probabilities of cells of belonging to the different clusters (each latent dimension corresponds to two subsequent clusters [reflecting pos. and neg. activations]):\n",
    "vegaheatmap(BAE.Z_cluster'; \n",
    "    path=figurespath * \"clusterProbabilities_BAE.png\", \n",
    "    Title=\"Cluster probabilities of cells\",\n",
    "    xlabel=\"Cluster\", \n",
    "    ylabel=\"Cell\",\n",
    "    legend_title=\"Probability\",\n",
    "    scheme=\"purpleblue\",\n",
    "    domain_mid=nothing,\n",
    "    save_plot=true\n",
    ")"
   ]
  },
  {
   "cell_type": "code",
   "execution_count": null,
   "metadata": {},
   "outputs": [],
   "source": [
    "#---Plot the absolute values of Pearson correlation coefficients between latent dimensions:\n",
    "vegaheatmap(abs.(cor(BAE.Z, dims=2)); \n",
    "    path=figurespath * \"cor_latentDimensions_BAE.png\", \n",
    "    Title=\"Absolute correlations of latent dimensions\",\n",
    "    xlabel=\"Latent dimension\", \n",
    "    ylabel=\"Latent dimension\",\n",
    "    legend_title=\"Value\",\n",
    "    scheme=\"orangered\",\n",
    "    domain_mid=nothing,\n",
    "    save_plot=true,\n",
    "    Width=500, \n",
    "    Height=500\n",
    ")"
   ]
  },
  {
   "cell_type": "code",
   "execution_count": null,
   "metadata": {},
   "outputs": [],
   "source": [
    "#---Plot the spearman correlation between the latent dimensions:\n",
    "vegaheatmap(abs.(corspearman(BAE.Z')); \n",
    "    path=figurespath * \"spearman_cor_latentDimensions_BAE.png\", \n",
    "    Title=\"Absolute Spearman rank correlations of latent dimensions\",\n",
    "    xlabel=\"Latent dimension\", \n",
    "    ylabel=\"Latent dimension\",\n",
    "    legend_title=\"Value\",\n",
    "    scheme=\"orangered\",\n",
    "    domain_mid=nothing,\n",
    "    save_plot=true,\n",
    "    Width=500, \n",
    "    Height=500\n",
    ")"
   ]
  },
  {
   "cell_type": "code",
   "execution_count": null,
   "metadata": {},
   "outputs": [],
   "source": [
    "#---Plot boxplots of the latent activations of cells per latent dimension:\n",
    "plot_row_boxplots(BAE.Z; xlabel=\"Latent dimension\", ylabel=\"Cell activation\", saveplot=true, path=figurespath * \"/BAE_Z_boxplot.png\")"
   ]
  },
  {
   "cell_type": "code",
   "execution_count": null,
   "metadata": {},
   "outputs": [],
   "source": [
    "#---Plot the absolute values of Pearson correlation coefficients between latent dimensions:\n",
    "vegaheatmap(abs.(cor(X, dims=2)); \n",
    "    path=figurespath * \"cor_cells.png\", \n",
    "    Title=\"Absolute correlations of cells\",\n",
    "    xlabel=\"Cell\", \n",
    "    ylabel=\"Cell\",\n",
    "    legend_title=\"Value\",\n",
    "    scheme=\"orangered\",\n",
    "    domain_mid=nothing,\n",
    "    save_plot=true,\n",
    "    Width=500, \n",
    "    Height=500\n",
    ")"
   ]
  },
  {
   "cell_type": "code",
   "execution_count": null,
   "metadata": {},
   "outputs": [],
   "source": [
    "#---Plot the absolute values of Pearson correlation coefficients between latent dimensions (latent representation is used):\n",
    "vegaheatmap(abs.(cor(BAE.Z, dims=1)); \n",
    "    path=figurespath * \"cor_cellslatentRepresentations_BAE.png\", \n",
    "    Title=\"Absolute correlations of cell Representations\",\n",
    "    xlabel=\"Cell\", \n",
    "    ylabel=\"Cell\",\n",
    "    legend_title=\"Value\",\n",
    "    scheme=\"orangered\",\n",
    "    domain_mid=nothing,\n",
    "    save_plot=true,\n",
    "    Width=500, \n",
    "    Height=500\n",
    ")"
   ]
  },
  {
   "cell_type": "code",
   "execution_count": null,
   "metadata": {},
   "outputs": [],
   "source": [
    "#---Plot the absolute values of Pearson correlation coefficients between latent dimensions (cluster representation is used):\n",
    "vegaheatmap(abs.(cor(BAE.Z_cluster, dims=1)); \n",
    "    path=figurespath * \"cor_cellsRepresentations(Cluster)_BAE.png\", \n",
    "    Title=\"Absolute correlations of cell Representations\",\n",
    "    xlabel=\"Cell\", \n",
    "    ylabel=\"Cell\",\n",
    "    legend_title=\"Value\",\n",
    "    scheme=\"orangered\",\n",
    "    domain_mid=nothing,\n",
    "    save_plot=true,\n",
    "    Width=500, \n",
    "    Height=500\n",
    ")"
   ]
  },
  {
   "cell_type": "code",
   "execution_count": null,
   "metadata": {},
   "outputs": [],
   "source": [
    "#---Create scatter plots of the top selected genes per latent dimension:\n",
    "if !isdir(figurespath * \"/TopFeaturesLatentDim\")\n",
    "    # Create the folder if it does not exist\n",
    "    mkdir(figurespath * \"/TopFeaturesLatentDim\")\n",
    "end\n",
    "for dim in 1:BAE.HP.zdim\n",
    "    Featurescatter_plot = normalizedFeatures_scatterplot(BAE.coeffs[:, dim], MD.featurename, dim; top_n=10)\n",
    "    savefig(Featurescatter_plot, figurespath * \"/TopFeaturesLatentDim/\" * \"BAE_dim$(dim)_topGenes.png\")\n",
    "end"
   ]
  },
  {
   "cell_type": "code",
   "execution_count": null,
   "metadata": {},
   "outputs": [],
   "source": [
    "#---Create scatter plots of the top selected genes per cluster:\n",
    "if !isdir(figurespath * \"/TopFeaturesCluster\")\n",
    "    # Create the folder if it does not exist\n",
    "    mkdir(figurespath * \"/TopFeaturesCluster\")\n",
    "end\n",
    "for key in keys(MD.Top_features)\n",
    "    if length(MD.Top_features[key].Scores) > 0\n",
    "        FeatureScatter_plot = TopFeaturesPerCluster_scatterplot(MD.Top_features[key], key; top_n=10)\n",
    "        savefig(FeatureScatter_plot, figurespath * \"/TopFeaturesCluster/\" * \"BAE_Cluster$(key)_topGenes.png\")\n",
    "    end\n",
    "end"
   ]
  },
  {
   "cell_type": "code",
   "execution_count": null,
   "metadata": {},
   "outputs": [],
   "source": [
    "#---Create a coefficient plots for visually inspecting coefficient update trajectories for the last run of the training:\n",
    "if haskey(output_dict, \"coefficients\")\n",
    "    if !isdir(figurespath * \"/CoefficientsPlots\")\n",
    "        # Create the folder if it does not exist\n",
    "        mkdir(figurespath * \"/CoefficientsPlots\")\n",
    "    end\n",
    "    for dim in 1:BAE.HP.zdim\n",
    "        pl = track_coefficients(output_dict[\"coefficients\"], dim; iters=nothing, xscale=:log10)\n",
    "        savefig(pl, figurespath * \"/CoefficientsPlots/CoefficientsPlot_BAE_dim$(dim).png\")\n",
    "    end\n",
    "else \n",
    "    @warn \"No coefficient trajectories were saved during training.\"\n",
    "end"
   ]
  },
  {
   "cell_type": "code",
   "execution_count": null,
   "metadata": {},
   "outputs": [],
   "source": [
    "#----Compute 2D UMAP embedding of the learned BAE latent representation and add to the metadata:\n",
    "plotseed = 7;\n",
    "BAE.UMAP = generate_umap(BAE.Z', plotseed);\n",
    "MD.obs_df[!, :UMAP1] = BAE.UMAP[:, 1];\n",
    "MD.obs_df[!, :UMAP2] = BAE.UMAP[:, 2];\n",
    "\n",
    "#---Randomly shuffle the observation indices for plotting:\n",
    "rand_inds = shuffle(1:size(X_st, 1));\n",
    "MD.obs_df = MD.obs_df[rand_inds, :];"
   ]
  },
  {
   "cell_type": "code",
   "execution_count": null,
   "metadata": {},
   "outputs": [],
   "source": [
    "#---Plot a heatmap of the cluster probabilities of cells:\n",
    "Cluster_df = DataFrame(BAE.Z_cluster[:, rand_inds]', :auto);\n",
    "Cluster_df[!, :Cluster] = copy(MD.obs_df.Cluster);\n",
    "sort!(Cluster_df, :Cluster);\n",
    "vegaheatmap(Matrix(Cluster_df[:, 1:end-1]); \n",
    "    path=figurespath * \"clusterProbabilities_BAE.png\", \n",
    "    Title=\"Cluster probabilities of cells\",\n",
    "    xlabel=\"Cluster\", \n",
    "    ylabel=\"Cell\",\n",
    "    legend_title=\"Probability\",\n",
    "    scheme=\"purpleblue\",\n",
    "    domain_mid=nothing,\n",
    "    save_plot=true\n",
    ")"
   ]
  },
  {
   "cell_type": "code",
   "execution_count": null,
   "metadata": {},
   "outputs": [],
   "source": [
    "#---Plot the UMAP embedding of the learned BAE latent representation colored by the cell group labels:\n",
    "vegascatterplot(Matrix(MD.obs_df[:, [:UMAP1, :UMAP2]]), MD.obs_df.CellGroup; \n",
    "    path=figurespath * \"Celltype_(BAE)umap.png\",\n",
    "    legend_title=\"Cell type\",\n",
    "    color_field=\"labels:o\",\n",
    "    scheme=\"category20\",\n",
    "    domain_mid=nothing,\n",
    "    range=nothing,\n",
    "    save_plot=true,\n",
    "    marker_size=\"25\"\n",
    ")"
   ]
  },
  {
   "cell_type": "code",
   "execution_count": null,
   "metadata": {},
   "outputs": [],
   "source": [
    "#---Plot the UMAP embedding of the learned BAE latent representation colored by the cluster labels:\n",
    "vegascatterplot(Matrix(MD.obs_df[:, [:UMAP1, :UMAP2]]), MD.obs_df.Cluster; \n",
    "    path=figurespath * \"Cluster_(BAE)umap.png\",\n",
    "    legend_title=\"Cluster\",\n",
    "    color_field=\"labels:o\",\n",
    "    scheme=\"category20\",\n",
    "    domain_mid=nothing,\n",
    "    range=nothing,\n",
    "    save_plot=true,\n",
    "    marker_size=\"25\"\n",
    ")"
   ]
  },
  {
   "cell_type": "code",
   "execution_count": null,
   "metadata": {},
   "outputs": [],
   "source": [
    "#---Create scatter plots of the UMAP embedding of the learned BAE latent representation colored by activations in different latent dimensions:\n",
    "if !isdir(figurespath * \"/UMAPplotsLatDims\")\n",
    "    # Create the folder if it does not exist\n",
    "    mkdir(figurespath * \"/UMAPplotsLatDims\")\n",
    "end\n",
    "create_colored_vegascatterplots(Matrix(MD.obs_df[:, [:UMAP1, :UMAP2]]), BAE.Z[:, rand_inds];\n",
    "    path=figurespath * \"/UMAPplotsLatDims/\",\n",
    "    filename=\"Mouse_BAE_dim\",\n",
    "    filetype=\"scatter.png\",\n",
    "    legend_title=\"Activation\",\n",
    "    color_field=\"labels:q\",\n",
    "    scheme=\"blueorange\", \n",
    "    domain_mid=0,\n",
    "    range=nothing,\n",
    "    save_plot=true,\n",
    "    marker_size=\"25\"\n",
    ")"
   ]
  },
  {
   "cell_type": "code",
   "execution_count": null,
   "metadata": {},
   "outputs": [],
   "source": [
    "#---Create scatter plots of the UMAP embedding of the learned BAE latent representation colored by activations for different clusters:\n",
    "if !isdir(figurespath * \"/UMAPplotsCluster\")\n",
    "    # Create the folder if it does not exist\n",
    "    mkdir(figurespath * \"/UMAPplotsCluster\")\n",
    "end\n",
    "color_range = [\n",
    "    \"#fff5f5\", \"#ffe0e0\", \"#ffcccc\", \"#ffb8b8\", \"#ffa3a3\", \"#ff8f8f\", \"#ff7a7a\", \"#ff6666\",\n",
    "    \"#ff5252\", \"#ff3d3d\", \"#ff2929\", \"#ff1414\", \"#ff0000\", \"#e50000\", \"#cc0000\", \"#b20000\",\n",
    "    \"#990000\", \"#7f0000\", \"#660000\", \"#4c0000\", \"#330000\"\n",
    "];\n",
    "create_colored_vegascatterplots(Matrix(MD.obs_df[:, [:UMAP1, :UMAP2]]), BAE.Z_cluster[:, rand_inds];\n",
    "    path=figurespath * \"/UMAPplotsCluster/\",\n",
    "    filename=\"Mouse_BAE_dim\",\n",
    "    filetype=\"scatter.png\",\n",
    "    legend_title=\"Activation\",\n",
    "    color_field=\"labels:q\",\n",
    "    scheme=nothing,\n",
    "    domain_mid=nothing,\n",
    "    range=color_range,\n",
    "    save_plot=true,\n",
    "    marker_size=\"25\"\n",
    ")"
   ]
  },
  {
   "cell_type": "code",
   "execution_count": null,
   "metadata": {},
   "outputs": [],
   "source": [
    "#---Create scatter plots of the UMAP embedding of the learned BAE latent representation colored by expression levels of top selected genes for different clusters:\n",
    "if !isdir(figurespath * \"/FeaturePlots\")\n",
    "    # Create the folder if it does not exist\n",
    "    mkdir(figurespath * \"/FeaturePlots\")\n",
    "end\n",
    "color_range = [\n",
    "    \"#fff5f5\", \"#ffe0e0\", \"#ffcccc\", \"#ffb8b8\", \"#ffa3a3\", \"#ff8f8f\", \"#ff7a7a\", \"#ff6666\",\n",
    "    \"#ff5252\", \"#ff3d3d\", \"#ff2929\", \"#ff1414\", \"#ff0000\", \"#e50000\", \"#cc0000\", \"#b20000\",\n",
    "    \"#990000\", \"#7f0000\", \"#660000\", \"#4c0000\", \"#330000\"\n",
    "];\n",
    "FeaturePlots(MD.Top_features, MD.featurename, X[rand_inds, :], Matrix(MD.obs_df[:, [:UMAP1, :UMAP2]]); \n",
    "    top_n=5,\n",
    "    marker_size=\"25\", \n",
    "    fig_type=\".png\",\n",
    "    path=figurespath * \"/FeaturePlots/\",\n",
    "    legend_title=\"log1p\",\n",
    "    color_field=\"labels:o\",\n",
    "    scheme=nothing, \n",
    "    domain_mid=nothing,\n",
    "    range=color_range\n",
    ")"
   ]
  }
 ],
 "metadata": {
  "kernelspec": {
   "display_name": "Julia 1.9.3",
   "language": "julia",
   "name": "julia-1.9"
  },
  "language_info": {
   "file_extension": ".jl",
   "mimetype": "application/julia",
   "name": "julia",
   "version": "1.9.3"
  }
 },
 "nbformat": 4,
 "nbformat_minor": 2
}
