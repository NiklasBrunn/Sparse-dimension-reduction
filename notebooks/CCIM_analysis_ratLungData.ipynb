{
 "cells": [
  {
   "cell_type": "markdown",
   "metadata": {},
   "source": [
    "# Setup:"
   ]
  },
  {
   "cell_type": "code",
   "execution_count": null,
   "metadata": {},
   "outputs": [],
   "source": [
    "#---Activate the enviroment:\n",
    "using Pkg;\n",
    "\n",
    "Pkg.activate(\"../\");\n",
    "Pkg.instantiate();\n",
    "Pkg.status()\n",
    "\n",
    "#---Load CCIM rat lung data computed by NICHES:\n",
    "projectpath = joinpath(@__DIR__, \"../\"); \n",
    "datapath = projectpath * \"data/rat/\"\n",
    "if !isdir(datapath)\n",
    "    # Create the folder if it does not exist\n",
    "    mkdir(datapath)\n",
    "end\n",
    "figurespath = projectpath * \"figures/rat/\"\n",
    "if !isdir(figurespath)\n",
    "    # Create the folder if it does not exist\n",
    "    mkdir(figurespath)\n",
    "end\n",
    "\n",
    "#---Load the BoostingAutoEncoder module:\n",
    "include(projectpath * \"/src/BAE.jl\");\n",
    "using .BoostingAutoEncoder\n",
    "\n",
    "#---Load required packages for this notebook:\n",
    "using RCall;\n",
    "using DelimitedFiles;\n",
    "using Plots;\n",
    "using Random;\n",
    "using StatsBase;\n",
    "using VegaLite;  \n",
    "using DataFrames;\n",
    "using StatsPlots;"
   ]
  },
  {
   "cell_type": "markdown",
   "metadata": {},
   "source": [
    "# Load data and create CCIM:"
   ]
  },
  {
   "cell_type": "code",
   "execution_count": null,
   "metadata": {},
   "outputs": [],
   "source": [
    "#---Download a subset of the example rat lung data from \"https://zenodo.org/record/6846618/files/raredon_2019_rat.Robj\" and save it to the data directory:\n",
    "X_alra, tSNE_embeddings, celltypes, genenames = load_rat_scRNAseq_data(; data_path=datapath, transfer_data=true, assay=\"alra\");\n",
    "\n",
    "#---Run NICHES on scRNA-seq data:\n",
    "filepath_expData = datapath * \"Rat_Seurat_sub.rds\";\n",
    "run_NICHES_wrapper(filepath_expData; data_path=datapath, assay=\"alra\", species=\"rat\");\n",
    "\n",
    "#---Load the NICHES CCIM and MetaData:\n",
    "filepath_CCIM = datapath * \"NICHES_CellToCell.rds\";\n",
    "CCIM, CCIM_st, MD = load_CCIM_CtC(filepath_CCIM); #CellToCell"
   ]
  },
  {
   "cell_type": "markdown",
   "metadata": {},
   "source": [
    "# Analyze CCIM patterns in rat lung data with the BAE:"
   ]
  },
  {
   "cell_type": "code",
   "execution_count": null,
   "metadata": {},
   "outputs": [],
   "source": [
    "#---Define hyperparameters for training a BAE:\n",
    "HP = Hyperparameters(zdim=30, n_runs=1, max_iter=2000, tol=1e-5, batchsize=2^12, η=0.01, λ=0.1, ϵ=0.001, M=1); \n",
    "\n",
    "#---Define the decoder architecture:\n",
    "n_cellpairs, p = size(CCIM_st);\n",
    "decoder = generate_BAEdecoder(p, HP; soft_clustering=true); \n",
    "\n",
    "#---Initialize the BAE model:\n",
    "BAE = BoostingAutoencoder(; coeffs=zeros(eltype(CCIM_st), p, HP.zdim), decoder=decoder, HP=HP);\n",
    "summary(BAE)"
   ]
  },
  {
   "cell_type": "code",
   "execution_count": null,
   "metadata": {},
   "outputs": [],
   "source": [
    "#---Train the BAE model:\n",
    "@time begin\n",
    "     output_dict = train_BAE!(CCIM_st, BAE; MD=MD); \n",
    "end;"
   ]
  },
  {
   "cell_type": "markdown",
   "metadata": {},
   "source": [
    "# Result visualization:"
   ]
  },
  {
   "cell_type": "code",
   "execution_count": null,
   "metadata": {},
   "outputs": [],
   "source": [
    "#----Compute 2D UMAP embedding of the learned BAE latent representation and add to the metadata:\n",
    "BAE.UMAP = generate_umap(BAE.Z'); \n",
    "MD.obs_df[!, :UMAP1] = BAE.UMAP[:, 1];\n",
    "MD.obs_df[!, :UMAP2] = BAE.UMAP[:, 2];\n",
    "\n",
    "#---Randomly shuffle the observation indices for plotting:\n",
    "rand_inds = shuffle(1:n_cellpairs);\n",
    "MD.obs_df = MD.obs_df[rand_inds, :];\n",
    "\n",
    "#---Generate distinct colors:\n",
    "n_cols = 2*BAE.HP.zdim; \n",
    "custom_colorscheme = [hsl_to_hex(i / n_cols, 0.7, 0.5 + 0.1 * sin(i * 4π / BAE.HP.zdim)) for i in 1:n_cols]; \n",
    "custom_colorscheme_shuffled = shuffle(custom_colorscheme);\n",
    "\n",
    "#---Set color ranges for scatter plots (one for dark and one for light backgrounds):\n",
    "#For dark backgrounds:\n",
    "color_range_dark = [\n",
    "    \"#fff5f5\", \"#ffe0e0\", \"#ffcccc\", \"#ffb8b8\", \"#ffa3a3\", \"#ff8f8f\", \"#ff7a7a\", \"#ff6666\",\n",
    "    \"#ff5252\", \"#ff3d3d\", \"#ff2929\", \"#ff1414\", \"#ff0000\", \"#e50000\", \"#cc0000\", \"#b20000\",\n",
    "    \"#990000\", \"#7f0000\", \"#660000\", \"#4c0000\", \"#330000\"\n",
    "];\n",
    "#For light backgrounds:\n",
    "color_range_light = [\n",
    "    \"#000000\", \"#220022\", \"#440044\", \"#660066\", \"#880088\", \"#aa00aa\", \"#cc00cc\", \"#ee00ee\",\n",
    "    \"#ff00ff\", \"#ff19ff\", \"#ff33ff\", \"#ff4cff\", \"#ff66ff\", \"#ff7fff\", \"#ff99ff\", \"#ffb2ff\",\n",
    "    \"#ffccff\", \"#ffe5ff\", \"#ffccf5\", \"#ff99eb\", \"#ff66e0\"\n",
    "];"
   ]
  },
  {
   "cell_type": "code",
   "execution_count": null,
   "metadata": {},
   "outputs": [],
   "source": [
    "#---Create scatter plots of the top selected genes per cluster:\n",
    "if !isdir(figurespath * \"/TopFeaturesCluster\")\n",
    "    # Create the folder if it does not exist\n",
    "    mkdir(figurespath * \"/TopFeaturesCluster\")\n",
    "end\n",
    "for key in keys(MD.Top_features)\n",
    "    if length(MD.Top_features[key].Scores) > 0\n",
    "        FeatureScatter_plot = TopFeaturesPerCluster_scatterplot(MD.Top_features[key], key; top_n=10)\n",
    "        savefig(FeatureScatter_plot, figurespath * \"/TopFeaturesCluster/\" * \"BAE_Cluster$(key)_Interactions.png\")\n",
    "    end\n",
    "end"
   ]
  },
  {
   "cell_type": "code",
   "execution_count": null,
   "metadata": {},
   "outputs": [],
   "source": [
    "#---Plot the UMAP embedding of the learned BAE latent representation colored by the cluster labels:\n",
    "vegascatterplot(Matrix(MD.obs_df[:, [:UMAP1, :UMAP2]]), MD.obs_df.Cluster; \n",
    "    path=figurespath * \"Cluster_(BAE)umap.png\",\n",
    "    legend_title=\"Cluster\",\n",
    "    color_field=\"labels:o\",\n",
    "    scheme=nothing,\n",
    "    domain_mid=nothing,\n",
    "    range=custom_colorscheme_shuffled,\n",
    "    save_plot=true,\n",
    "    marker_size=\"5\"\n",
    ")"
   ]
  },
  {
   "cell_type": "code",
   "execution_count": null,
   "metadata": {},
   "outputs": [],
   "source": [
    "#---Plot the UMAP embedding of the learned BAE latent representation colored by the sender cell types:\n",
    "vegascatterplot(Matrix(MD.obs_df[:, [:UMAP1, :UMAP2]]), MD.obs_df.SenderType; \n",
    "    path=figurespath * \"SenderType_(BAE)umap.png\",\n",
    "    legend_title=\"Sender\",\n",
    "    color_field=\"labels:o\",\n",
    "    scheme=nothing,\n",
    "    domain_mid=nothing,\n",
    "    range=custom_colorscheme[[1, 3, 14, 26, 31, 36, 42, 45, 53]],\n",
    "    save_plot=true,\n",
    "    marker_size=\"5\"\n",
    ")"
   ]
  },
  {
   "cell_type": "code",
   "execution_count": null,
   "metadata": {},
   "outputs": [],
   "source": [
    "#---Plot the UMAP embedding of the learned BAE latent representation colored by the sender cell types:\n",
    "vegascatterplot(Matrix(MD.obs_df[:, [:UMAP1, :UMAP2]]), MD.obs_df.ReceiverType; \n",
    "    path=figurespath * \"ReceiverType_(BAE)umap.png\",\n",
    "    legend_title=\"Receiver\",\n",
    "    color_field=\"labels:o\",\n",
    "    scheme=nothing,\n",
    "    domain_mid=nothing,\n",
    "    range=custom_colorscheme[[1, 3, 14, 26, 31, 36, 42, 45, 53]],\n",
    "    save_plot=true,\n",
    "    marker_size=\"5\"\n",
    ")"
   ]
  },
  {
   "cell_type": "code",
   "execution_count": null,
   "metadata": {},
   "outputs": [],
   "source": [
    "#---Create scatter plots of the UMAP embedding of the learned BAE latent representation colored by activations for different clusters:\n",
    "if !isdir(figurespath * \"/UMAPplotsCluster\")\n",
    "    # Create the folder if it does not exist\n",
    "    mkdir(figurespath * \"/UMAPplotsCluster\")\n",
    "end\n",
    "create_colored_vegascatterplots(Matrix(MD.obs_df[:, [:UMAP1, :UMAP2]]), BAE.Z_cluster[:, rand_inds];\n",
    "    path=figurespath * \"/UMAPplotsCluster/\",\n",
    "    filename=\"Rat_BAE_dim\",\n",
    "    filetype=\"scatter.png\",\n",
    "    legend_title=\"Activation\",\n",
    "    color_field=\"labels:q\",\n",
    "    scheme=nothing, \n",
    "    domain_mid=nothing,\n",
    "    range=color_range_light,\n",
    "    save_plot=true,\n",
    "    marker_size=\"10\"\n",
    ")"
   ]
  },
  {
   "cell_type": "code",
   "execution_count": null,
   "metadata": {},
   "outputs": [],
   "source": [
    "#---Create scatter plots of the UMAP embedding of the learned BAE latent representation colored by expression levels of top selected genes for different clusters:\n",
    "if !isdir(figurespath * \"/FeaturePlots\")\n",
    "    # Create the folder if it does not exist\n",
    "    mkdir(figurespath * \"/FeaturePlots\")\n",
    "end\n",
    "FeaturePlots(MD.Top_features, MD.featurename, CCIM[rand_inds, :], Matrix(MD.obs_df[:, [:UMAP1, :UMAP2]]); \n",
    "    top_n=5,\n",
    "    marker_size=\"10\", \n",
    "    fig_type=\".png\",\n",
    "    path=figurespath * \"/FeaturePlots/\",\n",
    "    legend_title=\"log1p\",\n",
    "    color_field=\"labels:q\",\n",
    "    scheme=nothing, \n",
    "    domain_mid=nothing,\n",
    "    range=color_range_light\n",
    ")"
   ]
  }
 ],
 "metadata": {
  "kernelspec": {
   "display_name": "Julia 1.9.3",
   "language": "julia",
   "name": "julia-1.9"
  },
  "language_info": {
   "file_extension": ".jl",
   "mimetype": "application/julia",
   "name": "julia",
   "version": "1.9.3"
  }
 },
 "nbformat": 4,
 "nbformat_minor": 2
}
