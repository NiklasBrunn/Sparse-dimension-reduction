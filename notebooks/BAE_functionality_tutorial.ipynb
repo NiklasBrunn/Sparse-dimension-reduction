{
 "cells": [
  {
   "cell_type": "markdown",
   "metadata": {},
   "source": [
    "# Tutorial Notebook: Functionality of the Boosting Autoencoder (BAE) with the disentanglement constraint and the soft clustering component\n",
    "\n",
    "**Functionality tutorial for analyzing feature patterns of single-cell data with the [Boosting Autoencoder (BAE)](https://github.com/NiklasBrunn/BoostingAutoencoder).** \n",
    "\n",
    "\n",
    "### The notebook is devided in five main steps:\n",
    "\n",
    "- [Setup](#Setup)\n",
    "- [Load the gene expression data](#Load-the-gene-expression-data)\n",
    "- [Pattern analysis with the BAE](#Pattern-analysis-with-the-BAE)\n",
    "- [Result visualization and plots saving](#Result-visualization-and-plots-saving)"
   ]
  },
  {
   "cell_type": "markdown",
   "metadata": {},
   "source": [
    "## Setup:\n",
    "First, you can activate the Julia environment and load all the packages needed to run the BAE functionality tutorial notebook. The first time you run the following cell, all required packages will be downloaded and precompiled, which may take a moment."
   ]
  },
  {
   "cell_type": "code",
   "execution_count": null,
   "metadata": {},
   "outputs": [],
   "source": [
    "#---Activate the enviroment:\n",
    "using Pkg;\n",
    "\n",
    "Pkg.activate(\"../\");\n",
    "Pkg.instantiate();\n",
    "Pkg.status()\n",
    "\n",
    "#---Load CCIM rat lung data computed by NICHES:\n",
    "projectpath = joinpath(@__DIR__, \"../\"); \n",
    "datapath = projectpath * \"data/simData/\";\n",
    "if !isdir(datapath)\n",
    "    # Create the folder if it does not exist\n",
    "    mkdir(datapath)\n",
    "end\n",
    "figurespath = projectpath * \"figures/simData/\"\n",
    "if !isdir(figurespath)\n",
    "    # Create the folder if it does not exist\n",
    "    mkdir(figurespath)\n",
    "end\n",
    "\n",
    "#---Load the BoostingAutoEncoder module:\n",
    "include(projectpath * \"/src/BAE.jl\");\n",
    "using .BoostingAutoEncoder\n",
    "\n",
    "#---Load required packages for this notebook:\n",
    "using Plots;\n",
    "using Random;\n",
    "using StatsBase;\n",
    "using VegaLite;  \n",
    "using DataFrames;\n",
    "using StatsPlots;\n",
    "using CSV;"
   ]
  },
  {
   "cell_type": "markdown",
   "metadata": {},
   "source": [
    "## Load the gene expression data:\n",
    "\n",
    "..."
   ]
  },
  {
   "cell_type": "code",
   "execution_count": null,
   "metadata": {},
   "outputs": [],
   "source": [
    "#---Generate and transform data:\n",
    "dataseed = 1;\n",
    "n_cells = 1000;\n",
    "n_genes = 200;\n",
    "n_overlap = 0;\n",
    "stageno = 10;\n",
    "blockprob = 0.6;\n",
    "noiseprob = 0.1;\n",
    "\n",
    "X = sim_scRNAseqData(dataseed; \n",
    "    n=n_cells, \n",
    "    stageoverlap=n_overlap, \n",
    "    blockprob=blockprob, \n",
    "    noiseprob=noiseprob, \n",
    "    num_genes=n_genes,\n",
    "    stageno=stageno,  \n",
    "    stagep=Int(50 / stageno), \n",
    "    stagen=Int(n_cells / stageno)\n",
    ");\n",
    "\n",
    "#---Scale the data:\n",
    "X_st = scale(X);\n",
    "#Optional: Rescale noise genes of X_st, because values of noise genes are more extreme after scaling ...\n",
    "#X_st[:, 50:end] .*= 0.8f0\n",
    "\n",
    "n, p = size(X);\n",
    "\n",
    "#---Create meta data:\n",
    "MD = MetaData();\n",
    "MD.obs_df[!, :CellGroup] = repeat(1:10, inner=100)\n",
    "MD.featurename = [\"$(j)\" for j in 1:p];\n",
    "\n",
    "#---Plot the binary data:\n",
    "vegaheatmap(X[:, 1:100]; \n",
    "    path=figurespath * \"binary_data.png\", \n",
    "    Title=\"Binary Gene expression ($(n_genes-100) noise genes omitted)\",\n",
    "    xlabel=\"Gene\", \n",
    "    ylabel=\"Cell\",\n",
    "    legend_title=\"Value\",\n",
    "    color_field=\"value:o\",\n",
    "    domain_mid=nothing,\n",
    "    scheme=\"paired\",\n",
    "    save_plot=true,\n",
    "    Width=500, \n",
    "    Height=500\n",
    ")"
   ]
  },
  {
   "cell_type": "markdown",
   "metadata": {},
   "source": [
    "## Pattern analysis with the BAE:"
   ]
  },
  {
   "cell_type": "code",
   "execution_count": null,
   "metadata": {},
   "outputs": [],
   "source": [
    "#---Define hyperparameters for training a BAE\n",
    "HP = Hyperparameters(zdim=6, n_runs=2, max_iter=100, tol=1e-6, batchsize=2^9, η=0.01, λ=0.1, ϵ=0.03, M=1);  \n",
    "\n",
    "#---Define the decoder architecture:\n",
    "decoder = generate_BAEdecoder(p, HP; soft_clustering=true);\n",
    "\n",
    "#---Initialize the BAE model:\n",
    "BAE = BoostingAutoencoder(; coeffs=zeros(eltype(X_st), p, HP.zdim), decoder=decoder, HP=HP);\n",
    "summary(BAE)"
   ]
  },
  {
   "cell_type": "code",
   "execution_count": null,
   "metadata": {},
   "outputs": [],
   "source": [
    "#---Train the BAE model:\n",
    "@time begin\n",
    "    output_dict = train_BAE!(X_st, BAE; MD=MD, track_coeffs=true, save_data=true, data_path=datapath);\n",
    "end;"
   ]
  },
  {
   "cell_type": "code",
   "execution_count": null,
   "metadata": {},
   "outputs": [],
   "source": [
    "#---Plot the mean trainloss per epoch:\n",
    "mean_trainlossPerEpoch = output_dict[\"trainloss\"];\n",
    "loss_plot = plot(1:length(mean_trainlossPerEpoch), mean_trainlossPerEpoch,\n",
    "     title = \"Mean train loss per epoch\",\n",
    "     xlabel = \"Epoch\",\n",
    "     ylabel = \"Loss\",\n",
    "     legend = true,\n",
    "     label = \"Train loss\",\n",
    "     linecolor = :red,\n",
    "     linewidth = 2\n",
    ");\n",
    "loss_plot"
   ]
  },
  {
   "cell_type": "markdown",
   "metadata": {},
   "source": [
    "## Result visualization and plots saving:"
   ]
  },
  {
   "cell_type": "code",
   "execution_count": null,
   "metadata": {},
   "outputs": [],
   "source": [
    "#---Plot the encoder weights:\n",
    "vegaheatmap(BAE.coeffs'; \n",
    "    path=figurespath * \"encoderWeights_BAE.png\", \n",
    "    Title=\"Encoder weights\",\n",
    "    xlabel=\"Gene\", \n",
    "    ylabel=\"Latent dimension\",\n",
    "    legend_title=\"Value\",\n",
    "    save_plot=true\n",
    ")"
   ]
  },
  {
   "cell_type": "code",
   "execution_count": null,
   "metadata": {},
   "outputs": [],
   "source": [
    "#---Plot the latent representations of cells:\n",
    "vegaheatmap(BAE.Z'; \n",
    "    path=figurespath * \"latentRepresentation_BAE.png\", \n",
    "    Title=\"Latent representation\",\n",
    "    xlabel=\"Latent dimension\", \n",
    "    ylabel=\"Cell\",\n",
    "    legend_title=\"Activation\",\n",
    "    save_plot=true\n",
    ")"
   ]
  },
  {
   "cell_type": "code",
   "execution_count": null,
   "metadata": {},
   "outputs": [],
   "source": [
    "#---Plot the absolute values of Pearson correlation coefficients between latent dimensions:\n",
    "vegaheatmap(abs.(cor(BAE.Z, dims=2)); \n",
    "    path=figurespath * \"cor_latentDimensions_BAE.png\", \n",
    "    Title=\"Absolute correlations of latent dimensions\",\n",
    "    xlabel=\"Latent dimension\", \n",
    "    ylabel=\"Latent dimension\",\n",
    "    legend_title=\"Value\",\n",
    "    scheme=\"inferno\",\n",
    "    domain_mid=nothing,\n",
    "    save_plot=true,\n",
    "    Width=500, \n",
    "    Height=500\n",
    ")"
   ]
  },
  {
   "cell_type": "code",
   "execution_count": null,
   "metadata": {},
   "outputs": [],
   "source": [
    "#---Plot the probabilities of cells of belonging to the different clusters (each latent dimension corresponds to two subsequent clusters [reflecting pos. and neg. activations]):\n",
    "vegaheatmap(BAE.Z_cluster'; \n",
    "    path=figurespath * \"clusterProbabilities_BAE.png\", \n",
    "    Title=\"Cluster probabilities of cells\",\n",
    "    xlabel=\"Cluster\", \n",
    "    ylabel=\"Cell\",\n",
    "    legend_title=\"Probability\",\n",
    "    scheme=\"purpleblue\",\n",
    "    domain_mid=nothing,\n",
    "    save_plot=true\n",
    ")"
   ]
  },
  {
   "cell_type": "markdown",
   "metadata": {},
   "source": [
    "### ToDO:"
   ]
  },
  {
   "cell_type": "code",
   "execution_count": null,
   "metadata": {},
   "outputs": [],
   "source": [
    "#---Create scatter plots of the top selected genes per latent dimension:\n",
    "#using IJulia\n",
    "if !isdir(figurespath * \"/TopFeaturesLatentDim\")\n",
    "    # Create the folder if it does not exist\n",
    "    mkdir(figurespath * \"/TopFeaturesLatentDim\")\n",
    "end\n",
    "for dim in 1:BAE.HP.zdim\n",
    "    Featurescatter_plot = normalizedFeatures_scatterplot(BAE.coeffs[:, dim], MD.featurename, dim; top_n=20)\n",
    "    savefig(Featurescatter_plot, figurespath * \"/TopFeaturesLatentDim/\" * \"BAE_dim$(dim)_topGenes.png\")\n",
    "end\n",
    "\n",
    "#---Create scatter plots of the top selected genes per cluster:\n",
    "if !isdir(figurespath * \"/TopFeaturesCluster\")\n",
    "    # Create the folder if it does not exist\n",
    "    mkdir(figurespath * \"/TopFeaturesCluster\")\n",
    "end\n",
    "for key in keys(MD.Top_features)\n",
    "    if length(MD.Top_features[key].Scores) > 0\n",
    "        FeatureScatter_plot = TopFeaturesPerCluster_scatterplot(MD.Top_features[key], key; top_n=10)\n",
    "        savefig(FeatureScatter_plot, figurespath * \"/TopFeaturesCluster/\" * \"BAE_Cluster$(key)_topGenes.svg\")\n",
    "    end\n",
    "end\n",
    "\n",
    "#---Create a coefficient plots for visually inspecting coefficient update trajectories for the last run of the training:\n",
    "if haskey(output_dict, \"coefficients\")\n",
    "    if !isdir(figurespath * \"/CoefficientsPlots\")\n",
    "        # Create the folder if it does not exist\n",
    "        mkdir(figurespath * \"/CoefficientsPlots\")\n",
    "    end\n",
    "    for dim in 1:BAE.HP.zdim\n",
    "        pl = track_coefficients(output_dict[\"coefficients\"], dim; iters=nothing, xscale=:log10)\n",
    "        savefig(pl, figurespath * \"/CoefficientsPlots/CoefficientsPlot_BAE_dim$(dim).png\")\n",
    "    end\n",
    "else \n",
    "    @warn \"No coefficient trajectories were saved during training.\"\n",
    "end\n",
    "\n",
    "#---Get the top selected genes for each latent dimension:\n",
    "sel_genes = get_topFeatures(BAE, MD)\n",
    "for l in 1:BAE.HP.zdim\n",
    "    println(\"Top selected genes for latent variable $(l): \", sel_genes[l])\n",
    "end"
   ]
  },
  {
   "cell_type": "markdown",
   "metadata": {},
   "source": [
    "### ToDO:"
   ]
  },
  {
   "cell_type": "markdown",
   "metadata": {},
   "source": [
    "<img src=\"../figures/functionality_notebook/BAE_dim2_topGenes.svg\" width=\"500\">"
   ]
  },
  {
   "cell_type": "markdown",
   "metadata": {},
   "source": [
    "### ToDO:"
   ]
  },
  {
   "cell_type": "markdown",
   "metadata": {},
   "source": [
    "<img src=\"../figures/functionality_notebook/BAE_Cluster3_topGenes.svg\" width=\"500\">"
   ]
  },
  {
   "cell_type": "markdown",
   "metadata": {},
   "source": [
    "### ToDO:"
   ]
  },
  {
   "cell_type": "markdown",
   "metadata": {},
   "source": [
    "<img src=\"../figures/functionality_notebook/BAE_Cluster4_topGenes.svg\" width=\"500\">"
   ]
  },
  {
   "cell_type": "markdown",
   "metadata": {},
   "source": [
    "### ToDo:"
   ]
  },
  {
   "cell_type": "markdown",
   "metadata": {},
   "source": [
    "<img src=\"../figures/functionality_notebook/CoefficientsPlot_BAE_dim1.svg\" width=\"500\">"
   ]
  },
  {
   "cell_type": "code",
   "execution_count": null,
   "metadata": {},
   "outputs": [],
   "source": [
    "# Load an example dataframe of top selected genes for a specific cluster:\n",
    "cluster = 4;\n",
    "top_features_cluster3 = CSV.read(datapath * \"TopFeaturesCluster_CSV/topFeatures_Cluster_$(cluster).csv\", DataFrame)"
   ]
  }
 ],
 "metadata": {
  "kernelspec": {
   "display_name": "Julia 1.9.3",
   "language": "julia",
   "name": "julia-1.9"
  },
  "language_info": {
   "file_extension": ".jl",
   "mimetype": "application/julia",
   "name": "julia",
   "version": "1.9.3"
  }
 },
 "nbformat": 4,
 "nbformat_minor": 4
}
